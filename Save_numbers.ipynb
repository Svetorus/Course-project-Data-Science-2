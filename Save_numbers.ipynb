{
  "nbformat": 4,
  "nbformat_minor": 0,
  "metadata": {
    "kernelspec": {
      "display_name": "Python 3",
      "language": "python",
      "name": "python3"
    },
    "language_info": {
      "codemirror_mode": {
        "name": "ipython",
        "version": 3
      },
      "file_extension": ".py",
      "mimetype": "text/x-python",
      "name": "python",
      "nbconvert_exporter": "python",
      "pygments_lexer": "ipython3",
      "version": "3.7.1"
    },
    "colab": {
      "name": "save_numbers.ipynb",
      "provenance": [],
      "collapsed_sections": [],
      "include_colab_link": true
    }
  },
  "cells": [
    {
      "cell_type": "markdown",
      "metadata": {
        "id": "view-in-github",
        "colab_type": "text"
      },
      "source": [
        "<a href=\"https://colab.research.google.com/github/Svetorus/Course-project-Data-Science-2/blob/master/Save_numbers.ipynb\" target=\"_parent\"><img src=\"https://colab.research.google.com/assets/colab-badge.svg\" alt=\"Open In Colab\"/></a>"
      ]
    },
    {
      "cell_type": "code",
      "metadata": {
        "id": "5TaBXPZmT_SW",
        "colab_type": "code",
        "colab": {}
      },
      "source": [
        "import pandas as pd\n",
        "import numpy as np\n",
        "from PIL import Image\n",
        "import cv2\n",
        "import json\n",
        "pd.set_option('max_colwidth', 800)\n",
        "#import warnings\n",
        "#warnings.filterwarnings('ignore')"
      ],
      "execution_count": 0,
      "outputs": []
    },
    {
      "cell_type": "code",
      "metadata": {
        "id": "vTdyN-0aZcE4",
        "colab_type": "code",
        "colab": {
          "resources": {
            "http://localhost:8080/nbextensions/google.colab/files.js": {
              "data": "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",
              "ok": true,
              "headers": [
                [
                  "content-type",
                  "application/javascript"
                ]
              ],
              "status": 200,
              "status_text": ""
            }
          },
          "base_uri": "https://localhost:8080/",
          "height": 74
        },
        "outputId": "654a65d9-3163-4165-c4b3-724507ea72d8"
      },
      "source": [
        "from google.colab import files # only for colab\n",
        "uploaded = files.upload()"
      ],
      "execution_count": 14,
      "outputs": [
        {
          "output_type": "display_data",
          "data": {
            "text/html": [
              "\n",
              "     <input type=\"file\" id=\"files-e4deb95a-ecac-47a1-a8f0-20ab3694f3d3\" name=\"files[]\" multiple disabled />\n",
              "     <output id=\"result-e4deb95a-ecac-47a1-a8f0-20ab3694f3d3\">\n",
              "      Upload widget is only available when the cell has been executed in the\n",
              "      current browser session. Please rerun this cell to enable.\n",
              "      </output>\n",
              "      <script src=\"/nbextensions/google.colab/files.js\"></script> "
            ],
            "text/plain": [
              "<IPython.core.display.HTML object>"
            ]
          },
          "metadata": {
            "tags": []
          }
        },
        {
          "output_type": "stream",
          "text": [
            "Saving P45.json to P45 (1).json\n"
          ],
          "name": "stdout"
        }
      ]
    },
    {
      "cell_type": "code",
      "metadata": {
        "id": "rf9iUBQST_Sa",
        "colab_type": "code",
        "colab": {}
      },
      "source": [
        "data = open(\"./P45.json\",encoding=\"utf8\") # just for jupyter notebooks"
      ],
      "execution_count": 0,
      "outputs": []
    },
    {
      "cell_type": "code",
      "metadata": {
        "id": "3tUUfayPT_Sc",
        "colab_type": "code",
        "colab": {}
      },
      "source": [
        "data = json.loads(data.read())"
      ],
      "execution_count": 0,
      "outputs": []
    },
    {
      "cell_type": "code",
      "metadata": {
        "id": "G4iD6VnmT_Se",
        "colab_type": "code",
        "colab": {}
      },
      "source": [
        "#data = json.load(\"./P45.json\")\n",
        "#data = pd.read_json(\"./P45.json\")"
      ],
      "execution_count": 0,
      "outputs": []
    },
    {
      "cell_type": "code",
      "metadata": {
        "id": "2Epd_X5zT_Sh",
        "colab_type": "code",
        "colab": {
          "base_uri": "https://localhost:8080/",
          "height": 54
        },
        "outputId": "b87342b6-056a-4cd9-c04d-5ec1c4dc8b94"
      },
      "source": [
        "data.items()"
      ],
      "execution_count": 24,
      "outputs": [
        {
          "output_type": "execute_result",
          "data": {
            "text/plain": [
              "dict_items([('data', [{'input': {'image': 'https://dbrain-public.s3.amazonaws.com/project/P45/77a55f65-ee92-4070-851c-bf37ed9f0af2/a50bbc8f-9cb8-49bc-89d7-462258898a0b/161.jpg'}, 'payload': {'aabb': {'license_plate': [[[0.18602540834845735, 0.6778846153846154], [0.26406533575317603, 0.6778846153846154], [0.26406533575317603, 0.7548076923076923], [0.18602540834845735, 0.7548076923076923], [0.18602540834845735, 0.6778846153846154]]]}}}, {'input': {'image': 'https://dbrain-public.s3.amazonaws.com/project/P45/b6b222b5-d2d2-49c8-98ba-15521502f8b6/c7b1fe48-9e72-4150-90e7-38031fae4d62/163.jpg'}, 'payload': {'aabb': {'license_plate': [[[0.34411384217335056, 0.592132568359375], [0.6222509702457956, 0.592132568359375], [0.6222509702457956, 0.683929443359375], [0.34411384217335056, 0.683929443359375], [0.34411384217335056, 0.592132568359375]]]}}}, {'input': {'image': 'https://dbrain-public.s3.amazonaws.com/project/P45/6dd29870-138c-4d23-bdf8-afc97faee65b/ee945450-8311-4a1c-9296-5218fc5065d4/195.jpg'}, 'payload': {'aabb': {'license_plate': [[[0.5860419451871658, 0.687374749498998], [0.7518173462566845, 0.687374749498998], [0.7518173462566845, 0.7615230460921844], [0.5860419451871658, 0.7615230460921844], [0.5860419451871658, 0.687374749498998]]]}}}, {'input': {'image': 'https://dbrain-public.s3.amazonaws.com/project/P45/07091751-7e51-4e9a-b6e3-719e53622b53/e765dbc0-df0b-4764-9747-081527031caf/116.jpg'}, 'payload': {'aabb': {'license_plate': [[[0.3751488095238095, 0.4420289855072464], [0.5132440476190476, 0.4420289855072464], [0.5132440476190476, 0.5115942028985507], [0.3751488095238095, 0.5115942028985507], [0.3751488095238095, 0.4420289855072464]], [[0.6703869047619048, 0.39855072463768115], [0.7672123015873016, 0.39855072463768115], [0.7672123015873016, 0.47681159420289854], [0.6703869047619048, 0.47681159420289854], [0.6703869047619048, 0.39855072463768115]]]}}}, {'input': {'image': 'https://dbrain-public.s3.amazonaws.com/project/P45/581277ab-e601-4bc0-8989-47f476484d40/18aeaf50-dc79-4e8f-91ae-ceda6048ec2f/213.jpg'}, 'payload': None}, {'input': {'image': 'https://dbrain-public.s3.amazonaws.com/project/P45/b94f2fbd-c048-461b-8576-78dd30624e18/3e1e9f7e-cf4e-4a25-9c5f-088b8deb6a0c/206.jpg'}, 'payload': {'aabb': {'license_plate': [[[0.22897800776196636, 0.7534520348837209], [0.33376455368693403, 0.7534520348837209], [0.33376455368693403, 0.8038396317829457], [0.22897800776196636, 0.8038396317829457], [0.22897800776196636, 0.7534520348837209]], [[0.6494178525226391, 0.5867853682170543], [0.702457956015524, 0.5867853682170543], [0.702457956015524, 0.633296996124031], [0.6494178525226391, 0.633296996124031], [0.6494178525226391, 0.5867853682170543]]]}}}, {'input': {'image': 'https://dbrain-public.s3.amazonaws.com/project/P45/51dd6a23-73f5-4a49-8a79-8e1e24575799/8dd37817-2efa-45ad-8869-f91ae7ef8961/55.jpg'}, 'payload': {'aabb': {'license_plate': [[[0.6869340232858991, 0.6221771628498728], [0.8266494178525227, 0.6221771628498728], [0.8266494178525227, 0.6832458651399491], [0.6869340232858991, 0.6832458651399491], [0.6869340232858991, 0.6221771628498728]], [[0.19534282018111254, 0.42115935114503816], [0.33764553686934023, 0.42115935114503816], [0.33764553686934023, 0.4873171119592875], [0.19534282018111254, 0.4873171119592875], [0.19534282018111254, 0.42115935114503816]]]}}}, {'input': {'image': 'https://dbrain-public.s3.amazonaws.com/project/P45/e171b3c4-916e-48c3-ab50-681ef35fd67a/464d9011-989d-41ed-8077-7b6f7dfbb61c/87.jpg'}, 'payload': {'aabb': {'license_plate': [[[0.2569496619083396, 0.5847797062750334], [0.3561232156273479, 0.5847797062750334], [0.3561232156273479, 0.643524699599466], [0.2569496619083396, 0.643524699599466], [0.2569496619083396, 0.5847797062750334]]]}}}, {'input': {'image': 'https://dbrain-public.s3.amazonaws.com/project/P45/57e647bc-f3ce-4d83-8f9f-fbb00c3e9e7d/fb8e0cc1-317f-4932-9b67-c51d9a8456b8/141.jpg'}, 'payload': None}, {'input': {'image': 'https://dbrain-public.s3.amazonaws.com/project/P45/a80edb11-5069-47c4-8254-2de8f834fb3d/ecb13964-9273-4b9e-a77b-847ae5064534/34.jpg'}, 'payload': None}, {'input': {'image': 'https://dbrain-public.s3.amazonaws.com/project/P45/885ad8c1-63dc-49c4-913e-e31c8680ae10/3319cebb-dae8-4219-b1c5-cb0ea85e5933/114.jpg'}, 'payload': None}, {'input': {'image': 'https://dbrain-public.s3.amazonaws.com/project/P45/986e1eac-a4f5-413e-8556-6cd040870891/29cf6594-07a7-48ae-b9dd-268be5a7e0d7/52.jpg'}, 'payload': None}, {'input': {'image': 'https://dbrain-public.s3.amazonaws.com/project/P45/4403bb1e-6c6a-4c4d-bfb0-76c1b6e05aaf/8768f4ad-8a32-4065-be6f-a402927d353c/66.jpg'}, 'payload': None}, {'input': {'image': 'https://dbrain-public.s3.amazonaws.com/project/P45/c2262571-288c-4fb9-92be-815e17369017/7498600f-3339-4a85-94c5-c1c1b28b8408/17.jpg'}, 'payload': None}, {'input': {'image': 'https://dbrain-public.s3.amazonaws.com/project/P45/786c17b9-668d-4c67-ad51-8f489a50919b/6b9ca426-dc8a-427c-8670-da8ffc2134a1/133.jpg'}, 'payload': {'aabb': {'license_plate': [[[0.7747479838709678, 0.7457142857142857], [0.8811995967741936, 0.7457142857142857], [0.8811995967741936, 0.8285714285714285], [0.7747479838709678, 0.8285714285714285], [0.7747479838709678, 0.7457142857142857]]]}}}, {'input': {'image': 'https://dbrain-public.s3.amazonaws.com/project/P45/6063c497-b969-42ae-9255-c64e6046bae0/a7545a35-5867-4b2c-8188-4f49d7805f2f/113.jpg'}, 'payload': {'aabb': {'license_plate': [[[0.608313914780293, 0.7117346938775511], [0.7175016644474035, 0.7117346938775511], [0.7175016644474035, 0.7644557823129252], [0.608313914780293, 0.7644557823129252], [0.608313914780293, 0.7117346938775511]], [[0.2847453395472703, 0.5994897959183674], [0.3459970039946738, 0.5994897959183674], [0.3459970039946738, 0.6403061224489797], [0.2847453395472703, 0.6403061224489797], [0.2847453395472703, 0.5994897959183674]]]}}}, {'input': {'image': 'https://dbrain-public.s3.amazonaws.com/project/P45/52f80002-bf79-4a75-9548-78a3d1b20c6d/b5dce7a1-e6d4-47a0-bd2b-cab1b4c874fc/196.jpg'}, 'payload': {'aabb': {'license_plate': [[[0.5427461139896373, 0.47580744575936884], [0.7215025906735751, 0.47580744575936884], [0.7215025906735751, 0.6335983727810651], [0.5427461139896373, 0.6335983727810651], [0.5427461139896373, 0.47580744575936884]]]}}}, {'input': {'image': 'https://dbrain-public.s3.amazonaws.com/project/P45/6db4ab40-28d8-42d7-9926-5fa34b9fb85f/a1979600-c7a4-4bc0-bd8d-90d2e25515e1/4.jpg'}, 'payload': {'aabb': {'license_plate': [[[0.30408902691511386, 0.7566302652106084], [0.5090579710144927, 0.7566302652106084], [0.5090579710144927, 0.8096723868954758], [0.30408902691511386, 0.8096723868954758], [0.30408902691511386, 0.7566302652106084]]]}}}, {'input': {'image': 'https://dbrain-public.s3.amazonaws.com/project/P45/9b8cb34a-ded9-4919-b97a-77c6d019a84b/04d8e9fb-6ef3-4026-9378-cc62f68583b3/32.jpg'}, 'payload': {'aabb': {'license_plate': [[[0.5009765625, 0.6328025477707007], [0.6173828125, 0.6328025477707007], [0.6173828125, 0.7003184713375796], [0.5009765625, 0.7003184713375796], [0.5009765625, 0.6328025477707007]], [[0.24082031250000005, 0.5875796178343949], [0.31777343750000003, 0.5875796178343949], [0.31777343750000003, 0.6334394904458598], [0.24082031250000005, 0.6334394904458598], [0.24082031250000005, 0.5875796178343949]]]}}}, {'input': {'image': 'https://dbrain-public.s3.amazonaws.com/project/P45/cf66aecf-74b3-489d-82c9-aed3b7cc0718/147bf95d-37ee-46e7-b0ab-0a59f6b3ede6/129.jpg'}, 'payload': None}, {'input': {'image': 'https://dbrain-public.s3.amazonaws.com/project/P45/55bb9329-e6ee-44d8-a0cc-dc83fadf7a44/edfa8283-ed22-4d68-89bf-82b8e9fb15a8/88.jpg'}, 'payload': {'aabb': {'license_plate': [[[0.10390625, 0.79], [0.17223958333333333, 0.79], [0.17223958333333333, 0.8500000000000001], [0.10390625, 0.8500000000000001], [0.10390625, 0.79]]]}}}, {'input': {'image': 'https://dbrain-public.s3.amazonaws.com/project/P45/84c72a2a-8bee-46fa-89e1-c5ba2245b919/507ecd7b-5666-4eb0-9ada-f12cf8e045ec/67.jpg'}, 'payload': None}, {'input': {'image': 'https://dbrain-public.s3.amazonaws.com/project/P45/e4c760e9-e905-40ef-8b95-e2082bb73e53/0192605c-e967-4bf3-9763-8114d0460559/38.jpg'}, 'payload': None}, {'input': {'image': 'https://dbrain-public.s3.amazonaws.com/project/P45/7108a24a-0d04-456b-9dfb-96cc073f6cf2/353368c5-3625-4117-a53d-d5ff9fb6c3f9/108.jpg'}, 'payload': {'aabb': {'license_plate': [[[0.7852522639068564, 0.85], [0.8990944372574385, 0.85], [0.8990944372574385, 0.903448275862069], [0.7852522639068564, 0.903448275862069], [0.7852522639068564, 0.85]]]}}}, {'input': {'image': 'https://dbrain-public.s3.amazonaws.com/project/P45/ddfd4ca3-fde5-471b-b2f7-5380257eb4a4/0faa5ba3-07e8-42ff-a86b-4875ed23da08/58.jpg'}, 'payload': None}, {'input': {'image': 'https://dbrain-public.s3.amazonaws.com/project/P45/7281aa72-dd47-40b8-aea2-8968573b8329/427069ff-e8d0-4a55-81b3-1fe3deabcf6e/43.jpg'}, 'payload': {'aabb': {'license_plate': [[[0.346875, 0.5287037037037037], [0.37395833333333334, 0.5287037037037037], [0.37395833333333334, 0.587037037037037], [0.346875, 0.587037037037037], [0.346875, 0.5287037037037037]], [[0.8208333333333333, 0.5305555555555556], [0.8885416666666667, 0.5305555555555556], [0.8885416666666667, 0.5962962962962963], [0.8208333333333333, 0.5962962962962963], [0.8208333333333333, 0.5305555555555556]]]}}}, {'input': {'image': 'https://dbrain-public.s3.amazonaws.com/project/P45/596cd744-a168-4da5-b509-1394ac856f57/b9d4e2cd-bfa4-4498-a5a8-d04e8e743637/11.jpg'}, 'payload': {'aabb': {'license_plate': [[[0.13384789156626506, 0.6807228915662651], [0.30553463855421686, 0.6807228915662651], [0.30553463855421686, 0.7329317269076305], [0.13384789156626506, 0.7329317269076305], [0.13384789156626506, 0.6807228915662651]]]}}}, {'input': {'image': 'https://dbrain-public.s3.amazonaws.com/project/P45/64f4105f-ca6a-4423-9090-36a41b548e0c/3555bb8f-bf05-4eb8-8abf-a49cd57ee160/82.jpg'}, 'payload': None}, {'input': {'image': 'https://dbrain-public.s3.amazonaws.com/project/P45/6ccbda89-d34b-4d3e-8ce9-05cdb470a1ac/4d20f3ec-289a-43d0-8c65-b2cad27795c1/12.jpg'}, 'payload': None}, {'input': {'image': 'https://dbrain-public.s3.amazonaws.com/project/P45/4e10a422-0c17-4947-9de3-17e6f2e6fac3/02c8006b-8516-4d7e-aae2-ceb4b680082e/27.jpg'}, 'payload': None}, {'input': {'image': 'https://dbrain-public.s3.amazonaws.com/project/P45/d41e0e5f-979b-4278-932b-83e5e09e2a8e/42f29e40-399c-480c-9030-99f58523f75a/60.jpg'}, 'payload': None}, {'input': {'image': 'https://dbrain-public.s3.amazonaws.com/project/P45/965d91fb-0830-496d-b4c4-be3c4001a70a/4955f758-4336-482b-acc5-7a2621ae45f7/209.jpg'}, 'payload': {}}, {'input': {'image': 'https://dbrain-public.s3.amazonaws.com/project/P45/a99795e3-b35e-4be9-a3b9-0e90f3654ab8/53f55572-bfc0-4fde-8c47-39603eb45986/91.jpg'}, 'payload': None}, {'input': {'image': 'https://dbrain-public.s3.amazonaws.com/project/P45/fd375c18-42cf-4e94-90ea-6a6aa40957fa/b7029bf7-a927-4579-b5fe-f3f24e93c492/103.jpg'}, 'payload': {'aabb': {'license_plate': [[[0.805859375, 0.4577777777777778], [0.9283593750000001, 0.4577777777777778], [0.9283593750000001, 0.5644444444444444], [0.805859375, 0.5644444444444444], [0.805859375, 0.4577777777777778]]]}}}, {'input': {'image': 'https://dbrain-public.s3.amazonaws.com/project/P45/58f349ae-286f-4797-bce2-e299225d9759/f0c3e860-a74e-4c9e-82ac-092f683281ad/156.jpg'}, 'payload': {'aabb': {'license_plate': [[[0.1448539886039886, 0.5755102040816327], [0.3243411680911681, 0.5755102040816327], [0.3243411680911681, 0.673469387755102], [0.1448539886039886, 0.673469387755102], [0.1448539886039886, 0.5755102040816327]]]}}}, {'input': {'image': 'https://dbrain-public.s3.amazonaws.com/project/P45/445ea12f-2cd5-4c4e-b089-523ceb060c61/58d8a455-42e6-46fd-ae98-af931fe3dd7c/183.jpg'}, 'payload': {'aabb': {'license_plate': [[[0.8722395833333333, 0.39], [0.97390625, 0.39], [0.97390625, 0.47250000000000003], [0.8722395833333333, 0.47250000000000003], [0.8722395833333333, 0.39]]]}}}, {'input': {'image': 'https://dbrain-public.s3.amazonaws.com/project/P45/f619806b-6937-4e86-bbc8-a42ad11d3f6e/133d7037-d9ef-40e2-a5ef-9ab9e45ef7a5/153.jpg'}, 'payload': {'aabb': {'license_plate': [[[0.6196636481241915, 0.418127417794971], [0.7800776196636482, 0.418127417794971], [0.7800776196636482, 0.4896941489361702], [0.6196636481241915, 0.4896941489361702], [0.6196636481241915, 0.418127417794971]]]}}}, {'input': {'image': 'https://dbrain-public.s3.amazonaws.com/project/P45/191b7921-d9cd-4463-b046-5cf35673e5e6/eebb0f59-af50-49d9-8861-26ad339e13ba/9.jpg'}, 'payload': {'aabb': {'license_plate': [[[0.6130666208791209, 0.41683778234086244], [0.7833962912087913, 0.41683778234086244], [0.7833962912087913, 0.4969199178644764], [0.6130666208791209, 0.4969199178644764], [0.6130666208791209, 0.41683778234086244]]]}}}, {'input': {'image': 'https://dbrain-public.s3.amazonaws.com/project/P45/b5f282ea-7602-40c0-a497-5e3c0c35d8f1/0d62d1d2-1275-437f-ab55-28941dbae3bf/127.jpg'}, 'payload': None}, {'input': {'image': 'https://dbrain-public.s3.amazonaws.com/project/P45/0fef07f6-34f4-4b5e-8d15-b3f4b2760d9b/4ad2f073-5635-4903-9f29-17e0391cf44e/132.jpg'}, 'payload': {'aabb': {'license_plate': [[[0.6354662698412699, 0.6573033707865169], [0.692609126984127, 0.6573033707865169], [0.692609126984127, 0.7247191011235956], [0.6354662698412699, 0.7247191011235956], [0.6354662698412699, 0.6573033707865169]]]}}}, {'input': {'image': 'https://dbrain-public.s3.amazonaws.com/project/P45/ebc3df19-bc98-480a-bdf8-9c38b0c98ccb/8013cd45-b60a-40ef-889e-20b5b3d5308c/40.jpg'}, 'payload': {'aabb': {'license_plate': [[[0.1839699074074074, 0.7472067039106145], [0.3302662037037037, 0.7472067039106145], [0.3302662037037037, 0.8896648044692737], [0.1839699074074074, 0.8896648044692737], [0.1839699074074074, 0.7472067039106145]]]}}}, {'input': {'image': 'https://dbrain-public.s3.amazonaws.com/project/P45/3c541f97-8973-4773-9644-8e522b9f56b2/56e1b194-3f74-44cc-ae60-216e89bf2b7e/136.jpg'}, 'payload': None}, {'input': {'image': 'https://dbrain-public.s3.amazonaws.com/project/P45/603a9290-7e99-4c41-868d-87707a1d3ff9/6683077b-ed91-4bae-acf7-d3411d6d3259/117.jpg'}, 'payload': None}, {'input': {'image': 'https://dbrain-public.s3.amazonaws.com/project/P45/0c1e48d0-22a8-4594-a182-339975717411/786ea1f3-7cf1-4398-8de6-0ad543721116/0.jpg'}, 'payload': {'aabb': {'license_plate': [[[0.25485122897800777, 0.6978717672413793], [0.38421733505821476, 0.6978717672413793], [0.38421733505821476, 0.7564924568965518], [0.25485122897800777, 0.7564924568965518], [0.25485122897800777, 0.6978717672413793]]]}}}, {'input': {'image': 'https://dbrain-public.s3.amazonaws.com/project/P45/237f4949-5d0e-4002-9a6a-1051cccc6548/6a43bec8-bcae-4078-a4b1-d84bf057f3b0/131.jpg'}, 'payload': None}, {'input': {'image': 'https://dbrain-public.s3.amazonaws.com/project/P45/d2312ac4-9ada-4506-9702-9e36127bdbcd/3b0654cd-1310-4f27-919f-affad85235fd/15.jpg'}, 'payload': {'aabb': {'license_plate': [[[0.49288486416558863, 0.7647629310344828], [0.5485122897800776, 0.7647629310344828], [0.5485122897800776, 0.8199353448275862], [0.49288486416558863, 0.8199353448275862], [0.49288486416558863, 0.7647629310344828]], [[0.09961190168175937, 0.7946479885057471], [0.16817593790426907, 0.7946479885057471], [0.16817593790426907, 0.8498204022988506], [0.09961190168175937, 0.8498204022988506], [0.09961190168175937, 0.7946479885057471]]]}}}, {'input': {'image': 'https://dbrain-public.s3.amazonaws.com/project/P45/a5a2e045-f2da-4bf1-88de-9f9365bf5b9c/3e241c1b-680a-4155-8961-5cc8edaae31b/160.jpg'}, 'payload': {'aabb': {'license_plate': [[[0.11901681759379043, 0.3244173728813559], [0.19275549805950842, 0.3244173728813559], [0.19275549805950842, 0.40577330508474574], [0.11901681759379043, 0.40577330508474574], [0.11901681759379043, 0.3244173728813559]]]}}}, {'input': {'image': 'https://dbrain-public.s3.amazonaws.com/project/P45/27dd85b7-d0f5-4e23-b72e-f706f0e000cc/90866669-7e11-4517-9a0e-e526cfbd53b4/140.jpg'}, 'payload': None}, {'input': {'image': 'https://dbrain-public.s3.amazonaws.com/project/P45/ef35bc0c-efb3-46ec-835c-5692dac5a161/d8f6217d-cc60-4de7-bcb5-07f3d9b71714/210.jpg'}, 'payload': None}, {'input': {'image': 'https://dbrain-public.s3.amazonaws.com/project/P45/0b5f2a18-0547-4831-9082-a760b2f42e22/d471e98d-80d3-4f14-b46f-792c2ecc1422/125.jpg'}, 'payload': {'aabb': {'license_plate': [[[0.424375, 0.35833333333333334], [0.473125, 0.35833333333333334], [0.473125, 0.3983333333333333], [0.424375, 0.3983333333333333], [0.424375, 0.35833333333333334]]]}}}, {'input': {'image': 'https://dbrain-public.s3.amazonaws.com/project/P45/57967c71-3806-414a-8a01-f8e035be7504/ee5c460d-6255-4202-a78e-0214d3ab659c/56.jpg'}, 'payload': {'aabb': {'license_plate': [[[0.007958255597014926, 0.691358024691358], [0.1404209421641791, 0.691358024691358], [0.1404209421641791, 0.737037037037037], [0.007958255597014926, 0.737037037037037], [0.007958255597014926, 0.691358024691358]]]}}}, {'input': {'image': 'https://dbrain-public.s3.amazonaws.com/project/P45/e4b42253-1f0d-4dff-8073-9c5ae0f9982b/66a7f893-5fad-43be-a1f5-04af8e205854/100.jpg'}, 'payload': {'aabb': {'license_plate': [[[0.1580439814814815, 0.7296918767507002], [0.2543402777777778, 0.7296918767507002], [0.2543402777777778, 0.8277310924369747], [0.1580439814814815, 0.8277310924369747], [0.1580439814814815, 0.7296918767507002]]]}}}, {'input': {'image': 'https://dbrain-public.s3.amazonaws.com/project/P45/74b3d0b9-dad4-43c7-ae36-24a798a4bbbd/236ba3a6-08fb-4340-bd62-80359572da2c/201.jpg'}, 'payload': {'aabb': {'license_plate': [[[0.13001293661060803, 0.5747853620828455], [0.19340232858990947, 0.5747853620828455], [0.19340232858990947, 0.6309914510758197], [0.13001293661060803, 0.6309914510758197], [0.13001293661060803, 0.5747853620828455]]]}}}, {'input': {'image': 'https://dbrain-public.s3.amazonaws.com/project/P45/3c94a31f-557e-4da4-a33f-9b3e5564acbe/25d63d69-34f8-45e4-be72-e79b81787352/23.jpg'}, 'payload': {'aabb': {'license_plate': [[[0.2765399737876802, 0.7893356643356644], [0.39973787680209694, 0.7893356643356644], [0.39973787680209694, 0.8557692307692308], [0.2765399737876802, 0.8557692307692308], [0.2765399737876802, 0.7893356643356644]], [[0.5661861074705111, 0.7858391608391608], [0.6474442988204456, 0.7858391608391608], [0.6474442988204456, 0.8277972027972028], [0.5661861074705111, 0.8277972027972028], [0.5661861074705111, 0.7858391608391608]]]}}}, {'input': {'image': 'https://dbrain-public.s3.amazonaws.com/project/P45/6e6d3639-64b2-4c89-9ea7-58d296389469/5517e9f6-3cc4-4d43-a4f3-474ec1e92666/118.jpg'}, 'payload': {'aabb': {'license_plate': [[[0.6569446006074143, 0.4760710617591595], [0.7280959589515281, 0.4760710617591595], [0.7280959589515281, 0.5312434755522629], [0.6569446006074143, 0.5312434755522629], [0.6569446006074143, 0.4760710617591595]]]}}}, {'input': {'image': 'https://dbrain-public.s3.amazonaws.com/project/P45/a7885c4a-acd9-4d8f-87f2-efe61f6853f0/e2a4bcdf-ff83-47e5-a63c-922fa75f0163/142.jpg'}, 'payload': {'aabb': {'license_plate': [[[0.01355527052238806, 0.6962962962962963], [0.136689598880597, 0.6962962962962963], [0.136689598880597, 0.7345679012345679], [0.01355527052238806, 0.7345679012345679], [0.01355527052238806, 0.6962962962962963]]]}}}, {'input': {'image': 'https://dbrain-public.s3.amazonaws.com/project/P45/bf907375-895a-408f-a2a9-2269a478620e/f5bb1abf-98cc-4125-96aa-566d355b7b79/198.jpg'}, 'payload': None}, {'input': {'image': 'https://dbrain-public.s3.amazonaws.com/project/P45/060e6714-f14d-4cb7-a3c1-f1a40c859a5b/8d487fb0-58c5-4b4f-a4dc-8c458751b0de/109.jpg'}, 'payload': {'aabb': {'license_plate': [[[0.6249581659973227, 0.6164658634538153], [0.7293758366800536, 0.6164658634538153], [0.7293758366800536, 0.7208835341365462], [0.6249581659973227, 0.7208835341365462], [0.6249581659973227, 0.6164658634538153]]]}}}, {'input': {'image': 'https://dbrain-public.s3.amazonaws.com/project/P45/329f0ae0-6af2-4047-819f-65229f050def/328f2db3-df1f-432c-bae5-6448af5ad51a/176.jpg'}, 'payload': {'aabb': {'license_plate': [[[0.6625, 0.6035714285714285], [0.7224999999999999, 0.6035714285714285], [0.7224999999999999, 0.6571428571428571], [0.6625, 0.6571428571428571], [0.6625, 0.6035714285714285]]]}}}, {'input': {'image': 'https://dbrain-public.s3.amazonaws.com/project/P45/a83a3564-c934-4c05-893d-47400dfe7b43/8e27848c-21eb-418a-b1f5-b11c5e170b75/1.jpg'}, 'payload': {'aabb': {'license_plate': [[[0.41459369817578773, 0.6368159203980099], [0.5870646766169154, 0.6368159203980099], [0.5870646766169154, 0.708955223880597], [0.41459369817578773, 0.708955223880597], [0.41459369817578773, 0.6368159203980099]]]}}}, {'input': {'image': 'https://dbrain-public.s3.amazonaws.com/project/P45/c41beb3d-655b-452f-a300-028b07ef3936/5c098383-05ec-4aaa-b2f4-f7a45241142a/211.jpg'}, 'payload': {'aabb': {'license_plate': [[[0.7576884920634921, 0.5726190476190476], [0.8529265873015873, 0.5726190476190476], [0.8529265873015873, 0.6297619047619047], [0.7576884920634921, 0.6297619047619047], [0.7576884920634921, 0.5726190476190476]], [[0.3021329365079365, 0.5178571428571429], [0.36721230158730156, 0.5178571428571429], [0.36721230158730156, 0.549867724867725], [0.3021329365079365, 0.549867724867725], [0.3021329365079365, 0.5178571428571429]], [[0.0701058201058201, 0.501984126984127], [0.11684303350970017, 0.501984126984127], [0.11684303350970017, 0.5337301587301587], [0.0701058201058201, 0.5337301587301587], [0.0701058201058201, 0.501984126984127]]]}}}, {'input': {'image': 'https://dbrain-public.s3.amazonaws.com/project/P45/d0778879-acfd-494f-a4f4-a5751ed6e092/2b31151b-0116-41ed-a42c-a04211d879da/98.jpg'}, 'payload': {'aabb': {'license_plate': [[[0.0129366106080207, 0.6141518737672583], [0.07244501940491592, 0.6141518737672583], [0.07244501940491592, 0.6614891518737672], [0.0129366106080207, 0.6614891518737672], [0.0129366106080207, 0.6141518737672583]], [[0.3027166882276843, 0.6319033530571992], [0.35834411384217335, 0.6319033530571992], [0.35834411384217335, 0.6792406311637081], [0.3027166882276843, 0.6792406311637081], [0.3027166882276843, 0.6319033530571992]], [[0.2846054333764554, 0.8666173570019724], [0.35058214747736094, 0.8666173570019724], [0.35058214747736094, 0.9139546351084813], [0.2846054333764554, 0.9139546351084813], [0.2846054333764554, 0.8666173570019724]], [[0.6338939197930142, 0.9277613412228797], [0.7153945666235446, 0.9277613412228797], [0.7153945666235446, 0.9750986193293886], [0.6338939197930142, 0.9750986193293886], [0.6338939197930142, 0.9277613412228797]], [[0.6507115135834411, 0.6910749506903353], [0.7128072445019406, 0.6910749506903353], [0.7128072445019406, 0.7384122287968442], [0.6507115135834411, 0.7384122287968442], [0.6507115135834411, 0.6910749506903353]], [[0.890038809831824, 0.5234220907297831], [0.9469598965071151, 0.5234220907297831], [0.9469598965071151, 0.570759368836292], [0.890038809831824, 0.570759368836292], [0.890038809831824, 0.5234220907297831]], [[0.0944372574385511, 0.4405818540433925], [0.1461836998706339, 0.4405818540433925], [0.1461836998706339, 0.4879191321499014], [0.0944372574385511, 0.4879191321499014], [0.0944372574385511, 0.4405818540433925]]]}}}, {'input': {'image': 'https://dbrain-public.s3.amazonaws.com/project/P45/5a4c7fca-1380-4746-82ac-76d24ce136c8/77d625f5-920d-4246-928f-d28fb58a27c2/187.jpg'}, 'payload': {'aabb': {'license_plate': [[[0.1950402144772118, 0.6012024048096193], [0.3760053619302949, 0.6012024048096193], [0.3760053619302949, 0.687374749498998], [0.1950402144772118, 0.687374749498998], [0.1950402144772118, 0.6012024048096193]]]}}}, {'input': {'image': 'https://dbrain-public.s3.amazonaws.com/project/P45/6e51c839-8c93-4e0c-8c0e-b110feb52b52/3640fe14-4b19-4890-9f45-d149620fdb52/203.jpg'}, 'payload': {'aabb': {'license_plate': [[[0.4126778783958603, 0.437985248447205], [0.5342820181112549, 0.437985248447205], [0.5342820181112549, 0.5083786231884058], [0.4126778783958603, 0.5083786231884058], [0.4126778783958603, 0.437985248447205]], [[0.7723156532988357, 0.6160390786749482], [0.8771021992238033, 0.6160390786749482], [0.8771021992238033, 0.6802212732919255], [0.7723156532988357, 0.6802212732919255], [0.7723156532988357, 0.6160390786749482]]]}}}, {'input': {'image': 'https://dbrain-public.s3.amazonaws.com/project/P45/7a58d4d8-1836-4400-a136-ec53aa379e78/784c2d0c-d557-4700-a58c-6e3198c39368/168.jpg'}, 'payload': None}, {'input': {'image': 'https://dbrain-public.s3.amazonaws.com/project/P45/098d952d-58d1-4fd3-bbbf-1cccf35ff967/84d8fe0f-c1ea-42eb-a49d-68adcc7b6d21/77.jpg'}, 'payload': None}, {'input': {'image': 'https://dbrain-public.s3.amazonaws.com/project/P45/72596e88-8582-40fc-bef5-03fe77ae219b/1a47973c-3a28-4145-84a7-fd3dc94bc53c/181.jpg'}, 'payload': None}, {'input': {'image': 'https://dbrain-public.s3.amazonaws.com/project/P45/e4f8406a-a89a-4ded-aded-d7c0bf28dbfb/6ecec2f8-7dfb-440d-af48-779afbf02699/41.jpg'}, 'payload': None}, {'input': {'image': 'https://dbrain-public.s3.amazonaws.com/project/P45/61c2776d-0fd5-4378-bbbc-ee945a2d4fea/eede05dc-3caa-4c0a-9d86-cfd4ab87f5fc/96.jpg'}, 'payload': None}, {'input': {'image': 'https://dbrain-public.s3.amazonaws.com/project/P45/d9d11571-4d3d-452b-a4e0-cfd3d0cea23b/6f1c832d-84ef-4992-b234-78fb7b289979/63.jpg'}, 'payload': None}, {'input': {'image': 'https://dbrain-public.s3.amazonaws.com/project/P45/cc140824-733b-492b-9cfc-347d85f40749/4947033c-d639-4d5f-b181-8a06e01fc2ed/165.jpg'}, 'payload': {'aabb': {'license_plate': [[[0.06990927419354839, 0.6537530266343826], [0.22474798387096775, 0.6537530266343826], [0.22474798387096775, 0.7263922518159807], [0.06990927419354839, 0.7263922518159807], [0.06990927419354839, 0.6537530266343826]]]}}}, {'input': {'image': 'https://dbrain-public.s3.amazonaws.com/project/P45/b707b0dc-36ef-4290-8f02-a8123eb0bada/94c2c2b5-5ce6-49fb-89f5-4205c9f8b326/175.jpg'}, 'payload': None}, {'input': {'image': 'https://dbrain-public.s3.amazonaws.com/project/P45/18b3b913-75c9-4a1c-9339-22b6bde80302/fc001eaa-0c11-4d51-a0c5-4bcf938dc1f2/93.jpg'}, 'payload': None}, {'input': {'image': 'https://dbrain-public.s3.amazonaws.com/project/P45/6c4d934e-3eb4-4d18-bf2c-91e4dc43a773/c730d25e-70e1-4b83-a1e0-1cdd56884872/124.jpg'}, 'payload': None}, {'input': {'image': 'https://dbrain-public.s3.amazonaws.com/project/P45/d976de5e-21a2-413a-870d-481dee674831/c498bbd6-8b7e-418b-b83c-f288afa408ff/39.jpg'}, 'payload': None}, {'input': {'image': 'https://dbrain-public.s3.amazonaws.com/project/P45/006e4492-35f1-4c42-9a59-66c293b8f5d6/1a1e3028-d149-4ce1-85e1-45a1e347c0a7/83.jpg'}, 'payload': None}, {'input': {'image': 'https://dbrain-public.s3.amazonaws.com/project/P45/6ba75f46-741e-4397-b135-d6a5686ddc27/8c37ca30-7bf4-47a7-bd24-0fdd88dc38ab/71.jpg'}, 'payload': None}, {'input': {'image': 'https://dbrain-public.s3.amazonaws.com/project/P45/bf595e9e-0e81-427b-a7ad-28f0fed6d0a1/226b67e6-2824-425d-91e2-2a16a9c037f4/35.jpg'}, 'payload': None}, {'input': {'image': 'https://dbrain-public.s3.amazonaws.com/project/P45/e1654f15-4d59-4a49-81e5-976cbc9db88b/afbed084-ffc2-4bcf-9dde-0dae794904e1/79.jpg'}, 'payload': None}, {'input': {'image': 'https://dbrain-public.s3.amazonaws.com/project/P45/60c3d399-17c0-4e88-a5ea-3924210ab8a7/04410388-f954-4ca1-a2d9-9facc81c8906/86.jpg'}, 'payload': None}, {'input': {'image': 'https://dbrain-public.s3.amazonaws.com/project/P45/8eaec504-7384-4c00-801f-bb79d71b8a33/0d5367d7-335c-462a-83ba-202ee71fb0c9/7.jpg'}, 'payload': {'aabb': {'license_plate': [[[0.42890625, 0.6879795396419437], [0.53390625, 0.6879795396419437], [0.53390625, 0.7723785166240409], [0.42890625, 0.7723785166240409], [0.42890625, 0.6879795396419437]]]}}}, {'input': {'image': 'https://dbrain-public.s3.amazonaws.com/project/P45/bd6c301d-3845-4750-b712-5911cbb3c988/1e5ba478-c672-48de-94f0-c7eee34d65f5/74.jpg'}, 'payload': {'aabb': {'license_plate': [[[0.5443960883176342, 0.4415883031384698], [0.6013171749929253, 0.4415883031384698], [0.6013171749929253, 0.49676071693157325], [0.5443960883176342, 0.49676071693157325], [0.5443960883176342, 0.4415883031384698]]]}}}, {'input': {'image': 'https://dbrain-public.s3.amazonaws.com/project/P45/7a345a82-c16a-44fe-9a6d-f3f47985700c/23166600-beb7-42e3-9446-7f004a8c0f7d/162.jpg'}, 'payload': None}, {'input': {'image': 'https://dbrain-public.s3.amazonaws.com/project/P45/2649d9e0-430b-4ca5-a1e8-e717f12d2dcd/2e6bebce-641f-45b7-b2f3-22aab4146287/218.jpg'}, 'payload': None}, {'input': {'image': 'https://dbrain-public.s3.amazonaws.com/project/P45/c99d3918-2ed6-4028-a6bc-626c336a9c82/8f72f3fd-22ff-4634-aa78-af113c7b394e/147.jpg'}, 'payload': None}, {'input': {'image': 'https://dbrain-public.s3.amazonaws.com/project/P45/260706d8-d396-45db-92cb-69952a717fc7/dd338db3-cf19-43b2-93ce-9c7dfc1219fe/62.jpg'}, 'payload': {'aabb': {'license_plate': [[[0.5899094437257438, 0.49310344827586206], [0.6520051746442432, 0.49310344827586206], [0.6520051746442432, 0.5528735632183908], [0.5899094437257438, 0.5528735632183908], [0.5899094437257438, 0.49310344827586206]]]}}}, {'input': {'image': 'https://dbrain-public.s3.amazonaws.com/project/P45/9d333cb3-9b20-437d-95e3-b0ebb3e42947/78d7e080-0c3b-4923-bb1f-f2d1eb119648/173.jpg'}, 'payload': None}, {'input': {'image': 'https://dbrain-public.s3.amazonaws.com/project/P45/e55355db-d8ab-40d5-b73e-11141121e798/f0f154c0-d15b-49a3-a8f2-9f50b5961f02/194.jpg'}, 'payload': {'aabb': {'license_plate': [[[0.4202259234828496, 0.5582329317269076], [0.48223120052770446, 0.5582329317269076], [0.48223120052770446, 0.606425702811245], [0.4202259234828496, 0.606425702811245], [0.4202259234828496, 0.5582329317269076]]]}}}, {'input': {'image': 'https://dbrain-public.s3.amazonaws.com/project/P45/5361ce7e-38b2-43dc-8fbb-e71072dffa05/bfb5fc59-5950-4960-8aa3-c7be4ff4b506/20.jpg'}, 'payload': {'aabb': {'license_plate': [[[0.715234375, 0.6159722222222223], [0.830859375, 0.6159722222222223], [0.830859375, 0.7451388888888889], [0.715234375, 0.7451388888888889], [0.715234375, 0.6159722222222223]]]}}}, {'input': {'image': 'https://dbrain-public.s3.amazonaws.com/project/P45/101bf0fc-fb23-4263-9577-83c087cfed2a/d0734e0c-6e5b-40ec-9b71-ac1dd043d7cd/128.jpg'}, 'payload': None}, {'input': {'image': 'https://dbrain-public.s3.amazonaws.com/project/P45/4e22e25f-0650-407d-b9ef-c999b9b775be/8a257099-402b-4eb3-8624-5ac3c9de9455/111.jpg'}, 'payload': None}, {'input': {'image': 'https://dbrain-public.s3.amazonaws.com/project/P45/315fba68-54b5-4e36-a98e-da3bda986cd2/390275fe-11a5-4a22-b320-fe4f57b9c3df/16.jpg'}, 'payload': None}, {'input': {'image': 'https://dbrain-public.s3.amazonaws.com/project/P45/9616354d-9d26-4193-b515-4bec9f9f1efa/92125103-37c4-4abf-8368-0b3b47a6c7d6/57.jpg'}, 'payload': None}, {'input': {'image': 'https://dbrain-public.s3.amazonaws.com/project/P45/a8f3ceaa-bac6-403a-ad40-99fd600bfacd/c8b432ea-8c34-4adc-9077-93095539f6b8/68.jpg'}, 'payload': None}, {'input': {'image': 'https://dbrain-public.s3.amazonaws.com/project/P45/a8c3baae-61cd-4b61-95b3-f675631226c4/25628ec9-0279-4b04-919a-ab52e01ecc44/190.jpg'}, 'payload': None}, {'input': {'image': 'https://dbrain-public.s3.amazonaws.com/project/P45/456ef169-76f8-4797-9468-665484197468/8a997629-04f1-44df-9739-b208365549dd/18.jpg'}, 'payload': None}, {'input': {'image': 'https://dbrain-public.s3.amazonaws.com/project/P45/149f2430-b2e7-4fcf-8329-c7467164b96a/50a5024d-98b0-4722-850f-af8a1b15e0f5/33.jpg'}, 'payload': None}, {'input': {'image': 'https://dbrain-public.s3.amazonaws.com/project/P45/2bedc76c-de89-49f2-85f8-7253fa8f3c3f/dad458d8-53aa-4770-8193-29f335ce7cab/29.jpg'}, 'payload': None}, {'input': {'image': 'https://dbrain-public.s3.amazonaws.com/project/P45/262d4cb9-877d-4453-a491-0bfc29f46688/371ca9a4-d6da-4056-bf3f-963fee70cd82/144.jpg'}, 'payload': {'aabb': {'license_plate': [[[0.15178571428571427, 0.9302325581395349], [0.20654761904761904, 0.9302325581395349], [0.20654761904761904, 0.9731663685152057], [0.15178571428571427, 0.9731663685152057], [0.15178571428571427, 0.9302325581395349]], [[0.46726190476190477, 0.8962432915921287], [0.5160714285714286, 0.8962432915921287], [0.5160714285714286, 0.9391771019677992], [0.46726190476190477, 0.9391771019677992], [0.46726190476190477, 0.8962432915921287]]]}}}, {'input': {'image': 'https://dbrain-public.s3.amazonaws.com/project/P45/a2131e3f-34dd-440d-ae7b-b3600320a5a6/f33d7304-98a4-4901-a6fc-2020e5ddfed9/220.jpg'}, 'payload': None}, {'input': {'image': 'https://dbrain-public.s3.amazonaws.com/project/P45/f5780c6a-5a83-4d38-a2e7-949e612cf93a/167c37a6-15eb-47b1-8b9b-02f91551c34a/3.jpg'}, 'payload': None}, {'input': {'image': 'https://dbrain-public.s3.amazonaws.com/project/P45/bb1eafd5-7357-4f16-b8d9-ba915bc50595/f5bb9e4f-7afd-4fba-92ce-86a022798ebc/50.jpg'}, 'payload': None}, {'input': {'image': 'https://dbrain-public.s3.amazonaws.com/project/P45/05008421-7c2c-4aac-a064-e3858c1c93f4/148e79f6-4773-4f94-99e8-f4325323a05c/99.jpg'}, 'payload': {'aabb': {'license_plate': [[[0.9366106080206986, 0.5919540229885057], [0.998706338939198, 0.5919540229885057], [0.998706338939198, 0.6701149425287356], [0.9366106080206986, 0.6701149425287356], [0.9366106080206986, 0.5919540229885057]]]}}}, {'input': {'image': 'https://dbrain-public.s3.amazonaws.com/project/P45/e3ae5953-bb0f-437e-8b47-6d86f70bf049/6f69f421-9d77-4507-8313-1b7414ac5709/51.jpg'}, 'payload': {'aabb': {'license_plate': [[[0.5601552393272963, 0.41827156007751937], [0.7671410090556274, 0.41827156007751937], [0.7671410090556274, 0.49385295542635654], [0.5601552393272963, 0.49385295542635654], [0.5601552393272963, 0.41827156007751937]]]}}}, {'input': {'image': 'https://dbrain-public.s3.amazonaws.com/project/P45/7d38a753-1c46-4a27-aeb0-f8d060201a4d/77d49ad8-80a6-47bd-87fc-90f2b35a3bd8/48.jpg'}, 'payload': None}, {'input': {'image': 'https://dbrain-public.s3.amazonaws.com/project/P45/f671e407-7a0e-4165-b3cc-5ea6da393127/ad4c710e-909c-4336-a972-55a646957506/107.jpg'}, 'payload': None}, {'input': {'image': 'https://dbrain-public.s3.amazonaws.com/project/P45/18750805-ee55-4ebe-b5b7-6f1e72fe9849/637b2ef5-1321-4c8b-a26f-7ad14b5d4261/81.jpg'}, 'payload': {'aabb': {'license_plate': [[[0.6478734639016898, 0.8183716075156576], [0.7676891321044548, 0.8183716075156576], [0.7676891321044548, 0.8747390396659708], [0.6478734639016898, 0.8747390396659708], [0.6478734639016898, 0.8183716075156576]], [[0.3990255376344086, 0.6931106471816284], [0.4558611751152074, 0.6931106471816284], [0.4558611751152074, 0.7432150313152401], [0.3990255376344086, 0.7432150313152401], [0.3990255376344086, 0.6931106471816284]]]}}}, {'input': {'image': 'https://dbrain-public.s3.amazonaws.com/project/P45/bf2fd054-cf80-47f5-99e2-9e39c184dee0/0a7e9c88-f135-4b40-a62d-5d98851a2fb5/72.jpg'}, 'payload': None}, {'input': {'image': 'https://dbrain-public.s3.amazonaws.com/project/P45/fa5628d5-95a7-4ec1-92e2-b1a4072a15f2/8a2658c2-e4cd-42b8-8dd5-b4fdd42c4d2a/204.jpg'}, 'payload': None}, {'input': {'image': 'https://dbrain-public.s3.amazonaws.com/project/P45/687e6d0a-8d93-4291-b45c-be6154bff68c/165ef74c-4f11-46ef-8562-a92d1d7c09a9/212.jpg'}, 'payload': {'aabb': {'license_plate': [[[0.19146183699870634, 0.4287929389312977], [0.33117723156532985, 0.4287929389312977], [0.33117723156532985, 0.49495069974554706], [0.19146183699870634, 0.49495069974554706], [0.19146183699870634, 0.4287929389312977]], [[0.6727037516170763, 0.6196326335877863], [0.8085381630012937, 0.6196326335877863], [0.8085381630012937, 0.6857903944020357], [0.6727037516170763, 0.6857903944020357], [0.6727037516170763, 0.6196326335877863]]]}}}, {'input': {'image': 'https://dbrain-public.s3.amazonaws.com/project/P45/5a6d299d-bc41-4009-a721-8366e7e87677/c8e1362f-9a54-4fe5-8922-99b77b01630c/169.jpg'}, 'payload': None}, {'input': {'image': 'https://dbrain-public.s3.amazonaws.com/project/P45/f71a2493-bfc1-478d-9619-4f00256a0afb/55882933-29ef-49c1-aeb4-0750551b05f9/179.jpg'}, 'payload': {'aabb': {'license_plate': [[[0.21403801487457552, 0.5549738219895288], [0.31623723867793907, 0.5549738219895288], [0.31623723867793907, 0.6387434554973822], [0.21403801487457552, 0.6387434554973822], [0.21403801487457552, 0.5549738219895288]]]}}}, {'input': {'image': 'https://dbrain-public.s3.amazonaws.com/project/P45/ec0c11dc-bae4-40b8-b0a5-f311500ec44e/301573db-fe25-437a-82bc-9a71f4c024dd/130.jpg'}, 'payload': None}, {'input': {'image': 'https://dbrain-public.s3.amazonaws.com/project/P45/7d0bb1ae-dce9-4774-b6ea-6935ef478c78/e28f411d-330c-413b-9a8c-422d282e4f51/21.jpg'}, 'payload': None}, {'input': {'image': 'https://dbrain-public.s3.amazonaws.com/project/P45/8b308894-c257-4162-bb73-829c122ac8f7/c2168afb-cc4e-4de6-a89a-248421a71a87/115.jpg'}, 'payload': None}, {'input': {'image': 'https://dbrain-public.s3.amazonaws.com/project/P45/a0cd6b2a-a704-4fb3-9ac7-c063b60fd74c/6d3482bb-fec6-4e66-b1d3-4325d8786bbd/123.jpg'}, 'payload': None}, {'input': {'image': 'https://dbrain-public.s3.amazonaws.com/project/P45/14c6d991-9af4-457b-8799-95e683e1f049/bdbe60ae-b09c-4033-ad2e-fafa9bed8b3d/31.jpg'}, 'payload': None}, {'input': {'image': 'https://dbrain-public.s3.amazonaws.com/project/P45/5674b828-f3f4-4ec0-af76-50f89235017c/6ad359ce-0333-4def-8e2b-5b13981232cb/189.jpg'}, 'payload': None}, {'input': {'image': 'https://dbrain-public.s3.amazonaws.com/project/P45/4161f99c-05b3-48c4-b14e-b4a5f71eacec/439ec1b7-ee67-4472-a38c-451be36cbc2e/5.jpg'}, 'payload': None}, {'input': {'image': 'https://dbrain-public.s3.amazonaws.com/project/P45/bd9756ed-e939-42dc-afa2-a4b2ffb38b2e/c365b8d6-149a-4bb8-9cba-727ac1a0f330/197.jpg'}, 'payload': None}, {'input': {'image': 'https://dbrain-public.s3.amazonaws.com/project/P45/2a110b36-551c-4374-adb2-7e7913567590/3e425936-2d4d-4f9e-b90b-4ea8df465ca0/188.jpg'}, 'payload': None}, {'input': {'image': 'https://dbrain-public.s3.amazonaws.com/project/P45/c71472e0-c0ae-4791-8ca3-1aeaa9f619f0/2793ab53-a932-4944-953a-0493612bc307/59.jpg'}, 'payload': None}, {'input': {'image': 'https://dbrain-public.s3.amazonaws.com/project/P45/68b390c6-4c6d-4675-bcb8-eb0f778e214a/83ec0d05-1ea5-4179-8a61-5352b07dc537/171.jpg'}, 'payload': None}, {'input': {'image': 'https://dbrain-public.s3.amazonaws.com/project/P45/dbcb61ff-dfe0-4c40-bdea-080d57411ad7/50a8b7b3-bf49-4d51-a7f9-ff60c78709f4/80.jpg'}, 'payload': None}, {'input': {'image': 'https://dbrain-public.s3.amazonaws.com/project/P45/33494d2e-c647-4774-aecb-3bb8f7a13220/0370a639-28dd-4872-89c7-f0efb938713d/44.jpg'}, 'payload': None}, {'input': {'image': 'https://dbrain-public.s3.amazonaws.com/project/P45/0f2dd9ae-27c6-45dc-918a-45201d9540b8/87dbb156-e5b5-4945-92c8-2a89995c17a3/202.jpg'}, 'payload': None}, {'input': {'image': 'https://dbrain-public.s3.amazonaws.com/project/P45/a52c17ec-af4e-4eb8-8c07-63bdb5e24adb/fd9bfefc-8176-4eaf-b38a-fb00a8fbb07f/112.jpg'}, 'payload': None}, {'input': {'image': 'https://dbrain-public.s3.amazonaws.com/project/P45/4ef71141-f7ef-4901-b71f-fd7d48ed5678/4d36a898-fe21-47b3-bb51-8b37b6494aba/151.jpg'}, 'payload': None}, {'input': {'image': 'https://dbrain-public.s3.amazonaws.com/project/P45/f206c58f-9063-4e75-bd1a-6f55879cd3f0/26cf1bab-a9cf-4a77-8e92-aa7d6cdc9e59/180.jpg'}, 'payload': None}, {'input': {'image': 'https://dbrain-public.s3.amazonaws.com/project/P45/5cd797ca-f21c-4ecc-aaa9-ccece656c256/4a5a6955-e9e0-43ce-bd4f-ffe536645136/47.jpg'}, 'payload': None}, {'input': {'image': 'https://dbrain-public.s3.amazonaws.com/project/P45/42d53727-240a-432f-8ff9-70ab475be53c/05e750f9-b0a8-46dd-9016-04fb12220cb1/154.jpg'}, 'payload': None}, {'input': {'image': 'https://dbrain-public.s3.amazonaws.com/project/P45/38bb8104-a4c1-4fd2-86da-45ed52a3fe59/3c1e5853-81ce-4f71-b278-40b2e5521eee/25.jpg'}, 'payload': None}, {'input': {'image': 'https://dbrain-public.s3.amazonaws.com/project/P45/ba2bd881-0fa9-4004-96cb-99c9fb057625/d0bcc34e-7bb9-4130-93fb-9b78fa4ab8ff/45.jpg'}, 'payload': None}, {'input': {'image': 'https://dbrain-public.s3.amazonaws.com/project/P45/cf483cfc-25c5-401c-aa1f-c9651ea67ac5/d748b5da-0977-4ef4-9ea7-13db4a1ab686/215.jpg'}, 'payload': None}, {'input': {'image': 'https://dbrain-public.s3.amazonaws.com/project/P45/f57ba243-be2c-4da4-a6a1-7c444ba81794/1b79da54-dd9d-4ddc-b415-05cc22b91ee6/65.jpg'}, 'payload': None}, {'input': {'image': 'https://dbrain-public.s3.amazonaws.com/project/P45/ea1abb7f-45ae-432f-863b-c442d90fecd3/65ae25e2-8f97-4954-beef-13b580652b88/152.jpg'}, 'payload': None}, {'input': {'image': 'https://dbrain-public.s3.amazonaws.com/project/P45/3762cc6e-973e-4280-984c-55a9a8a60f68/7ba32cc0-aeeb-44ff-953c-3f191acfe5a5/49.jpg'}, 'payload': None}, {'input': {'image': 'https://dbrain-public.s3.amazonaws.com/project/P45/a338053c-c211-40a9-9ccd-e410eb3d1275/b52df68c-a99a-4733-b3bd-f456fb2d93da/8.jpg'}, 'payload': {'aabb': {'license_plate': [[[0.9508408796895214, 0.46206896551724136], [0.9987063389391979, 0.46206896551724136], [0.9987063389391979, 0.5172413793103448], [0.9508408796895214, 0.5172413793103448], [0.9508408796895214, 0.46206896551724136]]]}}}, {'input': {'image': 'https://dbrain-public.s3.amazonaws.com/project/P45/0cffe6ba-ed65-4460-a16d-55a7491ab60c/cb4774d1-cf86-4cd1-8311-b52156be627a/76.jpg'}, 'payload': {'aabb': {'license_plate': [[[0.39327296248382926, 0.6535251103752759], [0.5239327296248383, 0.6535251103752759], [0.5239327296248383, 0.7241652869757175], [0.39327296248382926, 0.7241652869757175], [0.39327296248382926, 0.6535251103752759]], [[0.8279430789133247, 0.6204125275938189], [0.9172056921086675, 0.6204125275938189], [0.9172056921086675, 0.6822226821192052], [0.8279430789133247, 0.6822226821192052], [0.8279430789133247, 0.6204125275938189]]]}}}, {'input': {'image': 'https://dbrain-public.s3.amazonaws.com/project/P45/498c7072-3326-44d6-ade7-16599d03356d/0eb7977d-cb9e-4894-96d1-c115cb5f4256/137.jpg'}, 'payload': None}, {'input': {'image': 'https://dbrain-public.s3.amazonaws.com/project/P45/15c86f09-aaac-4c9e-997c-5e6a6004b2f5/c860861a-e9ab-4ea3-8f08-812f3a5ab106/192.jpg'}, 'payload': None}, {'input': {'image': 'https://dbrain-public.s3.amazonaws.com/project/P45/290cc252-0b6b-46f3-99fc-e724b4d07c9b/a57c5361-0f6f-4f51-a807-8cf667d26c48/150.jpg'}, 'payload': None}, {'input': {'image': 'https://dbrain-public.s3.amazonaws.com/project/P45/6a3bd75e-de13-4c98-be35-ed576eba9a9f/4bf2cfd6-f6e3-4bee-9816-6f685cc3e200/106.jpg'}, 'payload': None}, {'input': {'image': 'https://dbrain-public.s3.amazonaws.com/project/P45/012e17a0-436a-4cd4-940e-6947c1d7c241/a83fa8e3-96af-49ce-80b8-cf26adb243c5/148.jpg'}, 'payload': None}, {'input': {'image': 'https://dbrain-public.s3.amazonaws.com/project/P45/2a9a0e29-eaef-412c-a713-b695488a5f05/73ee2179-a596-45d4-8bf1-788cf05c6220/28.jpg'}, 'payload': None}, {'input': {'image': 'https://dbrain-public.s3.amazonaws.com/project/P45/b04a544c-3c4d-4189-81d4-3f3bf0ca04c1/c954668c-a7b4-4acc-90f2-6331373d9c1a/172.jpg'}, 'payload': None}, {'input': {'image': 'https://dbrain-public.s3.amazonaws.com/project/P45/f1d15ca8-ac56-4e8f-88bf-3496edf22878/0197cee7-842b-4bfd-89f2-b763f6279216/105.jpg'}, 'payload': None}, {'input': {'image': 'https://dbrain-public.s3.amazonaws.com/project/P45/5a677d68-c931-4e8a-8e5f-cb263ad497cc/60a789fa-2190-4fcc-ab70-d96edb57abae/69.jpg'}, 'payload': None}, {'input': {'image': 'https://dbrain-public.s3.amazonaws.com/project/P45/d1c65e01-3079-47d7-abda-4879e006794a/5a43aa0c-9205-4b30-91db-db98a010cd0d/46.jpg'}, 'payload': None}, {'input': {'image': 'https://dbrain-public.s3.amazonaws.com/project/P45/7deb4ed2-c020-418d-b8c3-03ae302be83e/84026460-865d-45e1-859c-cc7359781752/164.jpg'}, 'payload': None}, {'input': {'image': 'https://dbrain-public.s3.amazonaws.com/project/P45/f67c37a4-effa-42a8-9b41-406f0acff927/3c3a4f29-62d0-4587-883f-c50c81c289b1/138.jpg'}, 'payload': None}, {'input': {'image': 'https://dbrain-public.s3.amazonaws.com/project/P45/11630f13-509c-4080-94e7-03351e2fb2f1/c8deba40-ca6e-4b53-914d-f8be03caa392/19.jpg'}, 'payload': {'aabb': {'license_plate': [[[0.5119236883942766, 0.4194915254237288], [0.6486486486486487, 0.4194915254237288], [0.6486486486486487, 0.4703389830508474], [0.5119236883942766, 0.4703389830508474], [0.5119236883942766, 0.4194915254237288]]]}}}, {'input': {'image': 'https://dbrain-public.s3.amazonaws.com/project/P45/3a29907b-1e3a-4097-a2da-127665f41e4f/17d2c3a3-8633-4440-a2b7-e3ba642e960f/119.jpg'}, 'payload': None}, {'input': {'image': 'https://dbrain-public.s3.amazonaws.com/project/P45/4a7a8161-18e8-4b62-9b5c-0d77a1f7361b/2bb320e2-7f3b-45f6-b46e-d0365587ebc0/84.jpg'}, 'payload': None}, {'input': {'image': 'https://dbrain-public.s3.amazonaws.com/project/P45/377f61f6-c90b-481a-a3a2-db2b5a027cbd/affc3bd1-49e9-4be6-ad99-1da753836fc3/22.jpg'}, 'payload': None}, {'input': {'image': 'https://dbrain-public.s3.amazonaws.com/project/P45/0e529348-f696-4c76-90e9-b148480acc01/10d8f913-d55f-41bb-9259-93f951bcfe54/191.jpg'}, 'payload': None}, {'input': {'image': 'https://dbrain-public.s3.amazonaws.com/project/P45/f1e44b2c-5832-423e-9b68-6874067c731f/c9e2d0c7-58cd-4f60-84d0-084c3baedfc2/104.jpg'}, 'payload': None}, {'input': {'image': 'https://dbrain-public.s3.amazonaws.com/project/P45/6aa8544e-44f4-44a3-a2bc-fcc21c63c95f/ddd32e85-adf0-41d7-b2c7-2d6e05813793/89.jpg'}, 'payload': None}, {'input': {'image': 'https://dbrain-public.s3.amazonaws.com/project/P45/7c41f537-0757-4be9-aa25-1d9956aba006/86e2975b-cedf-4b27-9eab-d10bad24ce62/101.jpg'}, 'payload': None}, {'input': {'image': 'https://dbrain-public.s3.amazonaws.com/project/P45/0e18391a-0d46-45e0-b507-49e5b7deb4bc/99781ec1-1422-4bbf-8d83-1e4e2a9355da/61.jpg'}, 'payload': None}, {'input': {'image': 'https://dbrain-public.s3.amazonaws.com/project/P45/fccb0110-27c8-47db-bbbd-e89a0cc41ff9/23065a51-7dc1-4b1a-a1ef-2880b8ae382b/155.jpg'}, 'payload': None}, {'input': {'image': 'https://dbrain-public.s3.amazonaws.com/project/P45/7172215e-c4c1-4d00-8cdf-0f5806028ec9/bd688eed-b0f3-4a65-bda2-059e4f837813/216.jpg'}, 'payload': None}, {'input': {'image': 'https://dbrain-public.s3.amazonaws.com/project/P45/30ef8173-4ecd-496f-82b0-73794325aa46/5e0a3060-8e2b-4ace-b6df-3355c0a5ec11/73.jpg'}, 'payload': None}, {'input': {'image': 'https://dbrain-public.s3.amazonaws.com/project/P45/08d6226f-fef7-4969-8c0a-8dee2af40b45/9fae2569-29ea-4d43-810c-3e9f6d7c429f/30.jpg'}, 'payload': None}, {'input': {'image': 'https://dbrain-public.s3.amazonaws.com/project/P45/2ccc042b-1b53-4b4e-8887-eaf8a85cea89/d72836af-7cb0-40ce-8125-50364ff93ff4/92.jpg'}, 'payload': None}, {'input': {'image': 'https://dbrain-public.s3.amazonaws.com/project/P45/adb2f8ce-53c3-4041-ac70-8666275d0be2/badd4169-0cd4-4238-be71-d234aa178885/143.jpg'}, 'payload': None}, {'input': {'image': 'https://dbrain-public.s3.amazonaws.com/project/P45/b4b3f489-d0f6-4a69-aa4e-701adaa8b77a/61addef8-1b36-45c9-822b-a2a7477cb3a3/134.jpg'}, 'payload': None}, {'input': {'image': 'https://dbrain-public.s3.amazonaws.com/project/P45/ffe6c87d-c6fa-46f8-9713-13faba5aa2fb/e45b4658-186f-4bf6-b7da-800c47d30518/97.jpg'}, 'payload': None}, {'input': {'image': 'https://dbrain-public.s3.amazonaws.com/project/P45/0cc2a09d-8307-4fa0-9975-8ef9d0f5174c/cc67cd53-f0fd-4ebc-94ca-2d513e6e3478/14.jpg'}, 'payload': None}, {'input': {'image': 'https://dbrain-public.s3.amazonaws.com/project/P45/fb7fe187-86fc-4400-9c83-e5f4dd9f9de7/3d6d288c-86bd-42ef-8742-879e0abcdf58/2.jpg'}, 'payload': None}, {'input': {'image': 'https://dbrain-public.s3.amazonaws.com/project/P45/3d6a87ab-7716-4cef-844b-84cb1e45eea0/295165a2-e62c-465a-a300-b261cb8b6605/121.jpg'}, 'payload': None}, {'input': {'image': 'https://dbrain-public.s3.amazonaws.com/project/P45/3789c1c2-0e23-4fc8-8c88-8572486a6f79/20f2a5aa-294d-4905-9abf-53bcf8099946/184.jpg'}, 'payload': None}, {'input': {'image': 'https://dbrain-public.s3.amazonaws.com/project/P45/04bb2ce8-5bf5-43f0-bb7b-1fb4ff5558b5/109f573f-b6cc-4e07-8bfa-a27dcb4d5623/159.jpg'}, 'payload': None}, {'input': {'image': 'https://dbrain-public.s3.amazonaws.com/project/P45/dad0d2ca-524d-4a34-b10d-09ad918740e8/71be281e-134f-4ab5-bb10-1e3bc85d93be/13.jpg'}, 'payload': None}, {'input': {'image': 'https://dbrain-public.s3.amazonaws.com/project/P45/215dd7de-80e1-4467-b6c1-b021a858f868/f42b8191-658f-4dc9-b040-19d030ee7d51/185.jpg'}, 'payload': None}, {'input': {'image': 'https://dbrain-public.s3.amazonaws.com/project/P45/782048a5-c8ec-4d32-8d34-40bddc97a86e/26122b15-3f64-4241-ab74-9460b4842447/36.jpg'}, 'payload': None}, {'input': {'image': 'https://dbrain-public.s3.amazonaws.com/project/P45/4a920f52-2230-4c8b-83fc-e0b330b21d38/553732d6-681e-4abc-ae9f-7c35913efd16/186.jpg'}, 'payload': {'aabb': {'license_plate': [[[0.6869340232858991, 0.6141459923664122], [0.7930142302716688, 0.6141459923664122], [0.7930142302716688, 0.6752146946564885], [0.6869340232858991, 0.6752146946564885], [0.6869340232858991, 0.6141459923664122]], [[0.20827943078913325, 0.6090569338422391], [0.33893919793014227, 0.6090569338422391], [0.33893919793014227, 0.6701256361323155], [0.20827943078913325, 0.6701256361323155], [0.20827943078913325, 0.6090569338422391]]]}}}, {'input': {'image': 'https://dbrain-public.s3.amazonaws.com/project/P45/5566e6e3-542a-427e-8285-9626a43d9521/57bec2ad-ddac-4a30-906b-2b8e2371f1e2/78.jpg'}, 'payload': None}, {'input': {'image': 'https://dbrain-public.s3.amazonaws.com/project/P45/cfa94074-e199-4371-a6b8-ecc2841413bc/81222372-8076-40ab-8601-b43b847745a8/205.jpg'}, 'payload': None}, {'input': {'image': 'https://dbrain-public.s3.amazonaws.com/project/P45/c65924ea-b315-4571-a65c-3dc50eb18d35/8ab4e4fd-f69c-46a8-ad4a-e3fbd72c9610/85.jpg'}, 'payload': None}, {'input': {'image': 'https://dbrain-public.s3.amazonaws.com/project/P45/50da6942-ceff-4a8d-8f83-5cfa1eaed1f5/b5368f5a-9445-4755-9b46-f79373802512/200.jpg'}, 'payload': None}, {'input': {'image': 'https://dbrain-public.s3.amazonaws.com/project/P45/cceeeaa9-5003-49df-81e1-059b461a331e/fca5ebfe-9c88-4af5-bffa-3685421436e1/24.jpg'}, 'payload': None}, {'input': {'image': 'https://dbrain-public.s3.amazonaws.com/project/P45/c1131a73-15af-480f-8a98-58ab841db658/0117b987-c317-46fd-a70c-5cf6850fdb9e/149.jpg'}, 'payload': None}, {'input': {'image': 'https://dbrain-public.s3.amazonaws.com/project/P45/aab1fa75-f7c7-447f-ba62-4fa36ed6309b/8fb51cc2-bb13-4d1d-ac0b-135ee5e160be/26.jpg'}, 'payload': None}, {'input': {'image': 'https://dbrain-public.s3.amazonaws.com/project/P45/e48f5dac-f5ec-4441-a873-6f053087c3ec/4852522e-749a-46e8-bae3-fdaef99e0dfd/214.jpg'}, 'payload': None}, {'input': {'image': 'https://dbrain-public.s3.amazonaws.com/project/P45/594f3357-a836-43fb-abe1-a9db55596c3a/77a2491e-d021-425d-9184-20fdddc0a596/207.jpg'}, 'payload': None}, {'input': {'image': 'https://dbrain-public.s3.amazonaws.com/project/P45/e69ea4a0-2b84-4819-ac67-190990768d68/9c474406-1f7b-411c-882a-7db8f83cab9b/166.jpg'}, 'payload': None}, {'input': {'image': 'https://dbrain-public.s3.amazonaws.com/project/P45/83368543-5118-4c69-8a97-61a3f4dcc442/bf7081ee-68a6-4694-83f8-6bbbd6226942/170.jpg'}, 'payload': None}, {'input': {'image': 'https://dbrain-public.s3.amazonaws.com/project/P45/762edf42-e588-4bd3-b21f-0866db18767f/41fffbe6-aec1-496f-8bb1-5a7693d98eb1/120.jpg'}, 'payload': None}, {'input': {'image': 'https://dbrain-public.s3.amazonaws.com/project/P45/ebcf1643-5d11-4fab-86bb-4c1c58d1cd13/e355266f-64a4-4b6a-bdf6-d1176820526b/174.jpg'}, 'payload': None}, {'input': {'image': 'https://dbrain-public.s3.amazonaws.com/project/P45/b723ea73-8f68-4dc4-9c27-90ad351cb3d0/2b798fe5-d6e2-453a-8797-fdd39c81d662/145.jpg'}, 'payload': None}, {'input': {'image': 'https://dbrain-public.s3.amazonaws.com/project/P45/21c7bf75-6ac1-4738-b8ee-e04e18e0f86b/014e0ca6-7ba2-4ba8-bd7a-c4adca12cdbb/90.jpg'}, 'payload': None}, {'input': {'image': 'https://dbrain-public.s3.amazonaws.com/project/P45/3889ae7c-0ed7-4d07-8e86-67cf4c59ae66/7e8fb7fc-92da-4dbc-94c6-335ac4a9c65f/70.jpg'}, 'payload': None}, {'input': {'image': 'https://dbrain-public.s3.amazonaws.com/project/P45/2248da67-f3ac-48ce-b49d-b64602f12b6e/e19c189c-16e9-4a78-ac12-a82d92d0377c/110.jpg'}, 'payload': None}, {'input': {'image': 'https://dbrain-public.s3.amazonaws.com/project/P45/47356b90-cdb8-47ce-9a48-737d0ececff7/21566ccb-2100-4821-a045-64eea9dabeae/6.jpg'}, 'payload': None}, {'input': {'image': 'https://dbrain-public.s3.amazonaws.com/project/P45/bdd89093-09c5-40a4-af53-d6cda4841c50/8340577c-567a-45ea-a79a-0a10137e5468/217.jpg'}, 'payload': None}, {'input': {'image': 'https://dbrain-public.s3.amazonaws.com/project/P45/a1403a10-5871-4f2b-b78c-37ccff050416/e9ceb61b-ba11-4dff-a8ce-a1ee808adf79/94.jpg'}, 'payload': None}, {'input': {'image': 'https://dbrain-public.s3.amazonaws.com/project/P45/38c2d7a6-ffe6-48b4-8afb-117a7e559f2e/d211918f-5448-432b-9662-d4ffd0583fcb/126.jpg'}, 'payload': None}, {'input': {'image': 'https://dbrain-public.s3.amazonaws.com/project/P45/bc4e1451-9b11-41fe-ad5a-f0402343baa9/91a019a4-fa0c-4939-8914-05fc5156997b/178.jpg'}, 'payload': None}, {'input': {'image': 'https://dbrain-public.s3.amazonaws.com/project/P45/5767795b-02ca-438e-9c7b-ca1bc54698c8/3c13ff7c-c9e9-4a81-beb6-0d25b6cbf564/54.jpg'}, 'payload': None}, {'input': {'image': 'https://dbrain-public.s3.amazonaws.com/project/P45/f9be61ce-0cea-4311-bc7e-67d7669bec0f/01a4695e-b51f-48d7-b765-eba0de8c9c09/177.jpg'}, 'payload': {'aabb': {'license_plate': [[[0.4457671634734623, 0.618840579710145], [0.5727512904575893, 0.618840579710145], [0.5727512904575893, 0.7173913043478262], [0.4457671634734623, 0.7173913043478262], [0.4457671634734623, 0.618840579710145]], [[0.6822750999813988, 0.41594202898550725], [0.766402084108383, 0.41594202898550725], [0.766402084108383, 0.48840579710144927], [0.6822750999813988, 0.48840579710144927], [0.6822750999813988, 0.41594202898550725]]]}}}, {'input': {'image': 'https://dbrain-public.s3.amazonaws.com/project/P45/da3fd646-6f6b-4153-b8d0-bf5c4c1c0593/9bde9c69-e58f-4e85-9665-e6c3e6807c5a/122.jpg'}, 'payload': None}, {'input': {'image': 'https://dbrain-public.s3.amazonaws.com/project/P45/78e85379-ee52-465b-816f-7bc33b4d4c62/f468ff59-178f-4884-a05e-479806cfcce3/37.jpg'}, 'payload': None}, {'input': {'image': 'https://dbrain-public.s3.amazonaws.com/project/P45/2786b969-9290-4755-bc9b-d458027ab388/aea35720-192a-4c48-a3cb-685f5deabcca/135.jpg'}, 'payload': None}, {'input': {'image': 'https://dbrain-public.s3.amazonaws.com/project/P45/e8b40fad-31cd-4eac-81ac-2c8c06b5f006/1743adef-dda5-497a-8368-486d3d99a0e3/167.jpg'}, 'payload': None}, {'input': {'image': 'https://dbrain-public.s3.amazonaws.com/project/P45/d574e80c-24ea-4e16-ba33-b7a48e95f79c/06f750c2-1924-4b3f-9405-24a25036988e/75.jpg'}, 'payload': None}, {'input': {'image': 'https://dbrain-public.s3.amazonaws.com/project/P45/bee34440-5215-4241-bf51-66b0e99fc27c/d0c40648-7a36-4345-bdfc-14ff47d67e33/208.jpg'}, 'payload': None}, {'input': {'image': 'https://dbrain-public.s3.amazonaws.com/project/P45/67e108e0-59a7-4efc-b9ef-0235fdc5d118/30db2716-eaf6-4015-8586-950a5e734aef/10.jpg'}, 'payload': {'aabb': {'license_plate': [[[0.20223958333333333, 0.87], [0.27557291666666667, 0.87], [0.27557291666666667, 0.9366666666666666], [0.20223958333333333, 0.9366666666666666], [0.20223958333333333, 0.87]]]}}}, {'input': {'image': 'https://dbrain-public.s3.amazonaws.com/project/P45/680aa63a-222a-445d-974d-061ed0a2cb18/0f5db3be-deb3-4215-ad36-9d3b79af72e4/64.jpg'}, 'payload': None}, {'input': {'image': 'https://dbrain-public.s3.amazonaws.com/project/P45/17152e1b-9434-4e46-b559-389e45ea076a/f8afe134-623d-491f-a9fb-b3fd09caa89b/199.jpg'}, 'payload': None}, {'input': {'image': 'https://dbrain-public.s3.amazonaws.com/project/P45/cd777937-aa41-44f7-bb15-dbfc34c403c0/d1d5c56a-a6f5-429c-a15f-b0c5a472c3a6/158.jpg'}, 'payload': None}, {'input': {'image': 'https://dbrain-public.s3.amazonaws.com/project/P45/e45e50ed-3a42-4b63-a5b7-faf5968784dc/14de340a-3d0d-4e1f-8fb5-f6a8b275b8cb/219.jpg'}, 'payload': None}, {'input': {'image': 'https://dbrain-public.s3.amazonaws.com/project/P45/eefa65e2-2953-4f5d-bb84-b9131a7cac84/887f6caf-a7cd-4371-8082-d388c4de08a6/193.jpg'}, 'payload': None}, {'input': {'image': 'https://dbrain-public.s3.amazonaws.com/project/P45/241931c4-9bb8-4d69-893c-c967dea17202/5e0edf10-c2a8-4712-b6ab-d81f7fbfe1d4/95.jpg'}, 'payload': None}, {'input': {'image': 'https://dbrain-public.s3.amazonaws.com/project/P45/0dd37500-7945-4077-934f-6562f39b9c8f/8e3c868a-d558-4720-accb-63691c6d7435/157.jpg'}, 'payload': None}]), ('log', None), ('url', 'https://tasks.api.dbrainio.com/api/v2/projects/P45/result')])"
            ]
          },
          "metadata": {
            "tags": []
          },
          "execution_count": 24
        }
      ]
    },
    {
      "cell_type": "code",
      "metadata": {
        "id": "vdISvx-tT_Sj",
        "colab_type": "code",
        "colab": {}
      },
      "source": [
        "pictures = []\n",
        "license_plates = []\n",
        "\n",
        "def get_picture(data):\n",
        "    if data is not None:\n",
        "        if \"input\" in data:\n",
        "            if data[\"input\"] is not None:\n",
        "                if \"image\" in data[\"input\"]:\n",
        "                    if \"/\" in data[\"input\"][\"image\"]:\n",
        "                        return data[\"input\"][\"image\"].split(\"/\")[-1]\n",
        "\n",
        "\n",
        "def get_license(data):\n",
        "    if data is not None:\n",
        "        if \"payload\" in data:\n",
        "            if data[\"payload\"] is not None:\n",
        "                if \"aabb\" in data[\"payload\"]:\n",
        "                    return data[\"payload\"][\"aabb\"][\"license_plate\"][0]\n",
        "\n",
        "\n",
        "for i in data[\"data\"]:\n",
        "    pictures.append(get_picture(i))\n",
        "    license_plates.append(get_license(i))\n",
        "\n",
        "#print(pictures)\n",
        "#a = [print(pictures[i], license_plates[i]) for i in range(len(pictures))]\n",
        "    \n",
        "base = (dict(zip(pictures, license_plates)))"
      ],
      "execution_count": 0,
      "outputs": []
    },
    {
      "cell_type": "code",
      "metadata": {
        "id": "dMHAsQIPT_Sm",
        "colab_type": "code",
        "colab": {
          "base_uri": "https://localhost:8080/",
          "height": 54
        },
        "outputId": "0d78ba14-ece7-4188-c3a7-7fc0476a2f90"
      },
      "source": [
        "base.items()"
      ],
      "execution_count": 35,
      "outputs": [
        {
          "output_type": "execute_result",
          "data": {
            "text/plain": [
              "dict_items([('161.jpg', [[0.18602540834845735, 0.6778846153846154], [0.26406533575317603, 0.6778846153846154], [0.26406533575317603, 0.7548076923076923], [0.18602540834845735, 0.7548076923076923], [0.18602540834845735, 0.6778846153846154]]), ('163.jpg', [[0.34411384217335056, 0.592132568359375], [0.6222509702457956, 0.592132568359375], [0.6222509702457956, 0.683929443359375], [0.34411384217335056, 0.683929443359375], [0.34411384217335056, 0.592132568359375]]), ('195.jpg', [[0.5860419451871658, 0.687374749498998], [0.7518173462566845, 0.687374749498998], [0.7518173462566845, 0.7615230460921844], [0.5860419451871658, 0.7615230460921844], [0.5860419451871658, 0.687374749498998]]), ('116.jpg', [[0.3751488095238095, 0.4420289855072464], [0.5132440476190476, 0.4420289855072464], [0.5132440476190476, 0.5115942028985507], [0.3751488095238095, 0.5115942028985507], [0.3751488095238095, 0.4420289855072464]]), ('213.jpg', None), ('206.jpg', [[0.22897800776196636, 0.7534520348837209], [0.33376455368693403, 0.7534520348837209], [0.33376455368693403, 0.8038396317829457], [0.22897800776196636, 0.8038396317829457], [0.22897800776196636, 0.7534520348837209]]), ('55.jpg', [[0.6869340232858991, 0.6221771628498728], [0.8266494178525227, 0.6221771628498728], [0.8266494178525227, 0.6832458651399491], [0.6869340232858991, 0.6832458651399491], [0.6869340232858991, 0.6221771628498728]]), ('87.jpg', [[0.2569496619083396, 0.5847797062750334], [0.3561232156273479, 0.5847797062750334], [0.3561232156273479, 0.643524699599466], [0.2569496619083396, 0.643524699599466], [0.2569496619083396, 0.5847797062750334]]), ('141.jpg', None), ('34.jpg', None), ('114.jpg', None), ('52.jpg', None), ('66.jpg', None), ('17.jpg', None), ('133.jpg', [[0.7747479838709678, 0.7457142857142857], [0.8811995967741936, 0.7457142857142857], [0.8811995967741936, 0.8285714285714285], [0.7747479838709678, 0.8285714285714285], [0.7747479838709678, 0.7457142857142857]]), ('113.jpg', [[0.608313914780293, 0.7117346938775511], [0.7175016644474035, 0.7117346938775511], [0.7175016644474035, 0.7644557823129252], [0.608313914780293, 0.7644557823129252], [0.608313914780293, 0.7117346938775511]]), ('196.jpg', [[0.5427461139896373, 0.47580744575936884], [0.7215025906735751, 0.47580744575936884], [0.7215025906735751, 0.6335983727810651], [0.5427461139896373, 0.6335983727810651], [0.5427461139896373, 0.47580744575936884]]), ('4.jpg', [[0.30408902691511386, 0.7566302652106084], [0.5090579710144927, 0.7566302652106084], [0.5090579710144927, 0.8096723868954758], [0.30408902691511386, 0.8096723868954758], [0.30408902691511386, 0.7566302652106084]]), ('32.jpg', [[0.5009765625, 0.6328025477707007], [0.6173828125, 0.6328025477707007], [0.6173828125, 0.7003184713375796], [0.5009765625, 0.7003184713375796], [0.5009765625, 0.6328025477707007]]), ('129.jpg', None), ('88.jpg', [[0.10390625, 0.79], [0.17223958333333333, 0.79], [0.17223958333333333, 0.8500000000000001], [0.10390625, 0.8500000000000001], [0.10390625, 0.79]]), ('67.jpg', None), ('38.jpg', None), ('108.jpg', [[0.7852522639068564, 0.85], [0.8990944372574385, 0.85], [0.8990944372574385, 0.903448275862069], [0.7852522639068564, 0.903448275862069], [0.7852522639068564, 0.85]]), ('58.jpg', None), ('43.jpg', [[0.346875, 0.5287037037037037], [0.37395833333333334, 0.5287037037037037], [0.37395833333333334, 0.587037037037037], [0.346875, 0.587037037037037], [0.346875, 0.5287037037037037]]), ('11.jpg', [[0.13384789156626506, 0.6807228915662651], [0.30553463855421686, 0.6807228915662651], [0.30553463855421686, 0.7329317269076305], [0.13384789156626506, 0.7329317269076305], [0.13384789156626506, 0.6807228915662651]]), ('82.jpg', None), ('12.jpg', None), ('27.jpg', None), ('60.jpg', None), ('209.jpg', None), ('91.jpg', None), ('103.jpg', [[0.805859375, 0.4577777777777778], [0.9283593750000001, 0.4577777777777778], [0.9283593750000001, 0.5644444444444444], [0.805859375, 0.5644444444444444], [0.805859375, 0.4577777777777778]]), ('156.jpg', [[0.1448539886039886, 0.5755102040816327], [0.3243411680911681, 0.5755102040816327], [0.3243411680911681, 0.673469387755102], [0.1448539886039886, 0.673469387755102], [0.1448539886039886, 0.5755102040816327]]), ('183.jpg', [[0.8722395833333333, 0.39], [0.97390625, 0.39], [0.97390625, 0.47250000000000003], [0.8722395833333333, 0.47250000000000003], [0.8722395833333333, 0.39]]), ('153.jpg', [[0.6196636481241915, 0.418127417794971], [0.7800776196636482, 0.418127417794971], [0.7800776196636482, 0.4896941489361702], [0.6196636481241915, 0.4896941489361702], [0.6196636481241915, 0.418127417794971]]), ('9.jpg', [[0.6130666208791209, 0.41683778234086244], [0.7833962912087913, 0.41683778234086244], [0.7833962912087913, 0.4969199178644764], [0.6130666208791209, 0.4969199178644764], [0.6130666208791209, 0.41683778234086244]]), ('127.jpg', None), ('132.jpg', [[0.6354662698412699, 0.6573033707865169], [0.692609126984127, 0.6573033707865169], [0.692609126984127, 0.7247191011235956], [0.6354662698412699, 0.7247191011235956], [0.6354662698412699, 0.6573033707865169]]), ('40.jpg', [[0.1839699074074074, 0.7472067039106145], [0.3302662037037037, 0.7472067039106145], [0.3302662037037037, 0.8896648044692737], [0.1839699074074074, 0.8896648044692737], [0.1839699074074074, 0.7472067039106145]]), ('136.jpg', None), ('117.jpg', None), ('0.jpg', [[0.25485122897800777, 0.6978717672413793], [0.38421733505821476, 0.6978717672413793], [0.38421733505821476, 0.7564924568965518], [0.25485122897800777, 0.7564924568965518], [0.25485122897800777, 0.6978717672413793]]), ('131.jpg', None), ('15.jpg', [[0.49288486416558863, 0.7647629310344828], [0.5485122897800776, 0.7647629310344828], [0.5485122897800776, 0.8199353448275862], [0.49288486416558863, 0.8199353448275862], [0.49288486416558863, 0.7647629310344828]]), ('160.jpg', [[0.11901681759379043, 0.3244173728813559], [0.19275549805950842, 0.3244173728813559], [0.19275549805950842, 0.40577330508474574], [0.11901681759379043, 0.40577330508474574], [0.11901681759379043, 0.3244173728813559]]), ('140.jpg', None), ('210.jpg', None), ('125.jpg', [[0.424375, 0.35833333333333334], [0.473125, 0.35833333333333334], [0.473125, 0.3983333333333333], [0.424375, 0.3983333333333333], [0.424375, 0.35833333333333334]]), ('56.jpg', [[0.007958255597014926, 0.691358024691358], [0.1404209421641791, 0.691358024691358], [0.1404209421641791, 0.737037037037037], [0.007958255597014926, 0.737037037037037], [0.007958255597014926, 0.691358024691358]]), ('100.jpg', [[0.1580439814814815, 0.7296918767507002], [0.2543402777777778, 0.7296918767507002], [0.2543402777777778, 0.8277310924369747], [0.1580439814814815, 0.8277310924369747], [0.1580439814814815, 0.7296918767507002]]), ('201.jpg', [[0.13001293661060803, 0.5747853620828455], [0.19340232858990947, 0.5747853620828455], [0.19340232858990947, 0.6309914510758197], [0.13001293661060803, 0.6309914510758197], [0.13001293661060803, 0.5747853620828455]]), ('23.jpg', [[0.2765399737876802, 0.7893356643356644], [0.39973787680209694, 0.7893356643356644], [0.39973787680209694, 0.8557692307692308], [0.2765399737876802, 0.8557692307692308], [0.2765399737876802, 0.7893356643356644]]), ('118.jpg', [[0.6569446006074143, 0.4760710617591595], [0.7280959589515281, 0.4760710617591595], [0.7280959589515281, 0.5312434755522629], [0.6569446006074143, 0.5312434755522629], [0.6569446006074143, 0.4760710617591595]]), ('142.jpg', [[0.01355527052238806, 0.6962962962962963], [0.136689598880597, 0.6962962962962963], [0.136689598880597, 0.7345679012345679], [0.01355527052238806, 0.7345679012345679], [0.01355527052238806, 0.6962962962962963]]), ('198.jpg', None), ('109.jpg', [[0.6249581659973227, 0.6164658634538153], [0.7293758366800536, 0.6164658634538153], [0.7293758366800536, 0.7208835341365462], [0.6249581659973227, 0.7208835341365462], [0.6249581659973227, 0.6164658634538153]]), ('176.jpg', [[0.6625, 0.6035714285714285], [0.7224999999999999, 0.6035714285714285], [0.7224999999999999, 0.6571428571428571], [0.6625, 0.6571428571428571], [0.6625, 0.6035714285714285]]), ('1.jpg', [[0.41459369817578773, 0.6368159203980099], [0.5870646766169154, 0.6368159203980099], [0.5870646766169154, 0.708955223880597], [0.41459369817578773, 0.708955223880597], [0.41459369817578773, 0.6368159203980099]]), ('211.jpg', [[0.7576884920634921, 0.5726190476190476], [0.8529265873015873, 0.5726190476190476], [0.8529265873015873, 0.6297619047619047], [0.7576884920634921, 0.6297619047619047], [0.7576884920634921, 0.5726190476190476]]), ('98.jpg', [[0.0129366106080207, 0.6141518737672583], [0.07244501940491592, 0.6141518737672583], [0.07244501940491592, 0.6614891518737672], [0.0129366106080207, 0.6614891518737672], [0.0129366106080207, 0.6141518737672583]]), ('187.jpg', [[0.1950402144772118, 0.6012024048096193], [0.3760053619302949, 0.6012024048096193], [0.3760053619302949, 0.687374749498998], [0.1950402144772118, 0.687374749498998], [0.1950402144772118, 0.6012024048096193]]), ('203.jpg', [[0.4126778783958603, 0.437985248447205], [0.5342820181112549, 0.437985248447205], [0.5342820181112549, 0.5083786231884058], [0.4126778783958603, 0.5083786231884058], [0.4126778783958603, 0.437985248447205]]), ('168.jpg', None), ('77.jpg', None), ('181.jpg', None), ('41.jpg', None), ('96.jpg', None), ('63.jpg', None), ('165.jpg', [[0.06990927419354839, 0.6537530266343826], [0.22474798387096775, 0.6537530266343826], [0.22474798387096775, 0.7263922518159807], [0.06990927419354839, 0.7263922518159807], [0.06990927419354839, 0.6537530266343826]]), ('175.jpg', None), ('93.jpg', None), ('124.jpg', None), ('39.jpg', None), ('83.jpg', None), ('71.jpg', None), ('35.jpg', None), ('79.jpg', None), ('86.jpg', None), ('7.jpg', [[0.42890625, 0.6879795396419437], [0.53390625, 0.6879795396419437], [0.53390625, 0.7723785166240409], [0.42890625, 0.7723785166240409], [0.42890625, 0.6879795396419437]]), ('74.jpg', [[0.5443960883176342, 0.4415883031384698], [0.6013171749929253, 0.4415883031384698], [0.6013171749929253, 0.49676071693157325], [0.5443960883176342, 0.49676071693157325], [0.5443960883176342, 0.4415883031384698]]), ('162.jpg', None), ('218.jpg', None), ('147.jpg', None), ('62.jpg', [[0.5899094437257438, 0.49310344827586206], [0.6520051746442432, 0.49310344827586206], [0.6520051746442432, 0.5528735632183908], [0.5899094437257438, 0.5528735632183908], [0.5899094437257438, 0.49310344827586206]]), ('173.jpg', None), ('194.jpg', [[0.4202259234828496, 0.5582329317269076], [0.48223120052770446, 0.5582329317269076], [0.48223120052770446, 0.606425702811245], [0.4202259234828496, 0.606425702811245], [0.4202259234828496, 0.5582329317269076]]), ('20.jpg', [[0.715234375, 0.6159722222222223], [0.830859375, 0.6159722222222223], [0.830859375, 0.7451388888888889], [0.715234375, 0.7451388888888889], [0.715234375, 0.6159722222222223]]), ('128.jpg', None), ('111.jpg', None), ('16.jpg', None), ('57.jpg', None), ('68.jpg', None), ('190.jpg', None), ('18.jpg', None), ('33.jpg', None), ('29.jpg', None), ('144.jpg', [[0.15178571428571427, 0.9302325581395349], [0.20654761904761904, 0.9302325581395349], [0.20654761904761904, 0.9731663685152057], [0.15178571428571427, 0.9731663685152057], [0.15178571428571427, 0.9302325581395349]]), ('220.jpg', None), ('3.jpg', None), ('50.jpg', None), ('99.jpg', [[0.9366106080206986, 0.5919540229885057], [0.998706338939198, 0.5919540229885057], [0.998706338939198, 0.6701149425287356], [0.9366106080206986, 0.6701149425287356], [0.9366106080206986, 0.5919540229885057]]), ('51.jpg', [[0.5601552393272963, 0.41827156007751937], [0.7671410090556274, 0.41827156007751937], [0.7671410090556274, 0.49385295542635654], [0.5601552393272963, 0.49385295542635654], [0.5601552393272963, 0.41827156007751937]]), ('48.jpg', None), ('107.jpg', None), ('81.jpg', [[0.6478734639016898, 0.8183716075156576], [0.7676891321044548, 0.8183716075156576], [0.7676891321044548, 0.8747390396659708], [0.6478734639016898, 0.8747390396659708], [0.6478734639016898, 0.8183716075156576]]), ('72.jpg', None), ('204.jpg', None), ('212.jpg', [[0.19146183699870634, 0.4287929389312977], [0.33117723156532985, 0.4287929389312977], [0.33117723156532985, 0.49495069974554706], [0.19146183699870634, 0.49495069974554706], [0.19146183699870634, 0.4287929389312977]]), ('169.jpg', None), ('179.jpg', [[0.21403801487457552, 0.5549738219895288], [0.31623723867793907, 0.5549738219895288], [0.31623723867793907, 0.6387434554973822], [0.21403801487457552, 0.6387434554973822], [0.21403801487457552, 0.5549738219895288]]), ('130.jpg', None), ('21.jpg', None), ('115.jpg', None), ('123.jpg', None), ('31.jpg', None), ('189.jpg', None), ('5.jpg', None), ('197.jpg', None), ('188.jpg', None), ('59.jpg', None), ('171.jpg', None), ('80.jpg', None), ('44.jpg', None), ('202.jpg', None), ('112.jpg', None), ('151.jpg', None), ('180.jpg', None), ('47.jpg', None), ('154.jpg', None), ('25.jpg', None), ('45.jpg', None), ('215.jpg', None), ('65.jpg', None), ('152.jpg', None), ('49.jpg', None), ('8.jpg', [[0.9508408796895214, 0.46206896551724136], [0.9987063389391979, 0.46206896551724136], [0.9987063389391979, 0.5172413793103448], [0.9508408796895214, 0.5172413793103448], [0.9508408796895214, 0.46206896551724136]]), ('76.jpg', [[0.39327296248382926, 0.6535251103752759], [0.5239327296248383, 0.6535251103752759], [0.5239327296248383, 0.7241652869757175], [0.39327296248382926, 0.7241652869757175], [0.39327296248382926, 0.6535251103752759]]), ('137.jpg', None), ('192.jpg', None), ('150.jpg', None), ('106.jpg', None), ('148.jpg', None), ('28.jpg', None), ('172.jpg', None), ('105.jpg', None), ('69.jpg', None), ('46.jpg', None), ('164.jpg', None), ('138.jpg', None), ('19.jpg', [[0.5119236883942766, 0.4194915254237288], [0.6486486486486487, 0.4194915254237288], [0.6486486486486487, 0.4703389830508474], [0.5119236883942766, 0.4703389830508474], [0.5119236883942766, 0.4194915254237288]]), ('119.jpg', None), ('84.jpg', None), ('22.jpg', None), ('191.jpg', None), ('104.jpg', None), ('89.jpg', None), ('101.jpg', None), ('61.jpg', None), ('155.jpg', None), ('216.jpg', None), ('73.jpg', None), ('30.jpg', None), ('92.jpg', None), ('143.jpg', None), ('134.jpg', None), ('97.jpg', None), ('14.jpg', None), ('2.jpg', None), ('121.jpg', None), ('184.jpg', None), ('159.jpg', None), ('13.jpg', None), ('185.jpg', None), ('36.jpg', None), ('186.jpg', [[0.6869340232858991, 0.6141459923664122], [0.7930142302716688, 0.6141459923664122], [0.7930142302716688, 0.6752146946564885], [0.6869340232858991, 0.6752146946564885], [0.6869340232858991, 0.6141459923664122]]), ('78.jpg', None), ('205.jpg', None), ('85.jpg', None), ('200.jpg', None), ('24.jpg', None), ('149.jpg', None), ('26.jpg', None), ('214.jpg', None), ('207.jpg', None), ('166.jpg', None), ('170.jpg', None), ('120.jpg', None), ('174.jpg', None), ('145.jpg', None), ('90.jpg', None), ('70.jpg', None), ('110.jpg', None), ('6.jpg', None), ('217.jpg', None), ('94.jpg', None), ('126.jpg', None), ('178.jpg', None), ('54.jpg', None), ('177.jpg', [[0.4457671634734623, 0.618840579710145], [0.5727512904575893, 0.618840579710145], [0.5727512904575893, 0.7173913043478262], [0.4457671634734623, 0.7173913043478262], [0.4457671634734623, 0.618840579710145]]), ('122.jpg', None), ('37.jpg', None), ('135.jpg', None), ('167.jpg', None), ('75.jpg', None), ('208.jpg', None), ('10.jpg', [[0.20223958333333333, 0.87], [0.27557291666666667, 0.87], [0.27557291666666667, 0.9366666666666666], [0.20223958333333333, 0.9366666666666666], [0.20223958333333333, 0.87]]), ('64.jpg', None), ('199.jpg', None), ('158.jpg', None), ('219.jpg', None), ('193.jpg', None), ('95.jpg', None), ('157.jpg', None)])"
            ]
          },
          "metadata": {
            "tags": []
          },
          "execution_count": 35
        }
      ]
    },
    {
      "cell_type": "code",
      "metadata": {
        "id": "JFLEfoniT_So",
        "colab_type": "code",
        "colab": {}
      },
      "source": [
        "base = pd.DataFrame(base)"
      ],
      "execution_count": 0,
      "outputs": []
    },
    {
      "cell_type": "code",
      "metadata": {
        "id": "yOf7QhWsT_Sq",
        "colab_type": "code",
        "colab": {
          "base_uri": "https://localhost:8080/",
          "height": 338
        },
        "outputId": "2cd8ad6b-bb0d-4579-aead-1c3eecb154f7"
      },
      "source": [
        "base.head()"
      ],
      "execution_count": 38,
      "outputs": [
        {
          "output_type": "execute_result",
          "data": {
            "text/html": [
              "<div>\n",
              "<style scoped>\n",
              "    .dataframe tbody tr th:only-of-type {\n",
              "        vertical-align: middle;\n",
              "    }\n",
              "\n",
              "    .dataframe tbody tr th {\n",
              "        vertical-align: top;\n",
              "    }\n",
              "\n",
              "    .dataframe thead th {\n",
              "        text-align: right;\n",
              "    }\n",
              "</style>\n",
              "<table border=\"1\" class=\"dataframe\">\n",
              "  <thead>\n",
              "    <tr style=\"text-align: right;\">\n",
              "      <th></th>\n",
              "      <th>161.jpg</th>\n",
              "      <th>163.jpg</th>\n",
              "      <th>195.jpg</th>\n",
              "      <th>116.jpg</th>\n",
              "      <th>213.jpg</th>\n",
              "      <th>206.jpg</th>\n",
              "      <th>55.jpg</th>\n",
              "      <th>87.jpg</th>\n",
              "      <th>141.jpg</th>\n",
              "      <th>34.jpg</th>\n",
              "      <th>114.jpg</th>\n",
              "      <th>52.jpg</th>\n",
              "      <th>66.jpg</th>\n",
              "      <th>17.jpg</th>\n",
              "      <th>133.jpg</th>\n",
              "      <th>113.jpg</th>\n",
              "      <th>196.jpg</th>\n",
              "      <th>4.jpg</th>\n",
              "      <th>32.jpg</th>\n",
              "      <th>129.jpg</th>\n",
              "      <th>88.jpg</th>\n",
              "      <th>67.jpg</th>\n",
              "      <th>38.jpg</th>\n",
              "      <th>108.jpg</th>\n",
              "      <th>58.jpg</th>\n",
              "      <th>43.jpg</th>\n",
              "      <th>11.jpg</th>\n",
              "      <th>82.jpg</th>\n",
              "      <th>12.jpg</th>\n",
              "      <th>27.jpg</th>\n",
              "      <th>60.jpg</th>\n",
              "      <th>209.jpg</th>\n",
              "      <th>91.jpg</th>\n",
              "      <th>103.jpg</th>\n",
              "      <th>156.jpg</th>\n",
              "      <th>183.jpg</th>\n",
              "      <th>153.jpg</th>\n",
              "      <th>9.jpg</th>\n",
              "      <th>127.jpg</th>\n",
              "      <th>132.jpg</th>\n",
              "      <th>...</th>\n",
              "      <th>36.jpg</th>\n",
              "      <th>186.jpg</th>\n",
              "      <th>78.jpg</th>\n",
              "      <th>205.jpg</th>\n",
              "      <th>85.jpg</th>\n",
              "      <th>200.jpg</th>\n",
              "      <th>24.jpg</th>\n",
              "      <th>149.jpg</th>\n",
              "      <th>26.jpg</th>\n",
              "      <th>214.jpg</th>\n",
              "      <th>207.jpg</th>\n",
              "      <th>166.jpg</th>\n",
              "      <th>170.jpg</th>\n",
              "      <th>120.jpg</th>\n",
              "      <th>174.jpg</th>\n",
              "      <th>145.jpg</th>\n",
              "      <th>90.jpg</th>\n",
              "      <th>70.jpg</th>\n",
              "      <th>110.jpg</th>\n",
              "      <th>6.jpg</th>\n",
              "      <th>217.jpg</th>\n",
              "      <th>94.jpg</th>\n",
              "      <th>126.jpg</th>\n",
              "      <th>178.jpg</th>\n",
              "      <th>54.jpg</th>\n",
              "      <th>177.jpg</th>\n",
              "      <th>122.jpg</th>\n",
              "      <th>37.jpg</th>\n",
              "      <th>135.jpg</th>\n",
              "      <th>167.jpg</th>\n",
              "      <th>75.jpg</th>\n",
              "      <th>208.jpg</th>\n",
              "      <th>10.jpg</th>\n",
              "      <th>64.jpg</th>\n",
              "      <th>199.jpg</th>\n",
              "      <th>158.jpg</th>\n",
              "      <th>219.jpg</th>\n",
              "      <th>193.jpg</th>\n",
              "      <th>95.jpg</th>\n",
              "      <th>157.jpg</th>\n",
              "    </tr>\n",
              "  </thead>\n",
              "  <tbody>\n",
              "    <tr>\n",
              "      <th>0</th>\n",
              "      <td>[0.18602540834845735, 0.6778846153846154]</td>\n",
              "      <td>[0.34411384217335056, 0.592132568359375]</td>\n",
              "      <td>[0.5860419451871658, 0.687374749498998]</td>\n",
              "      <td>[0.3751488095238095, 0.4420289855072464]</td>\n",
              "      <td>None</td>\n",
              "      <td>[0.22897800776196636, 0.7534520348837209]</td>\n",
              "      <td>[0.6869340232858991, 0.6221771628498728]</td>\n",
              "      <td>[0.2569496619083396, 0.5847797062750334]</td>\n",
              "      <td>None</td>\n",
              "      <td>None</td>\n",
              "      <td>None</td>\n",
              "      <td>None</td>\n",
              "      <td>None</td>\n",
              "      <td>None</td>\n",
              "      <td>[0.7747479838709678, 0.7457142857142857]</td>\n",
              "      <td>[0.608313914780293, 0.7117346938775511]</td>\n",
              "      <td>[0.5427461139896373, 0.47580744575936884]</td>\n",
              "      <td>[0.30408902691511386, 0.7566302652106084]</td>\n",
              "      <td>[0.5009765625, 0.6328025477707007]</td>\n",
              "      <td>None</td>\n",
              "      <td>[0.10390625, 0.79]</td>\n",
              "      <td>None</td>\n",
              "      <td>None</td>\n",
              "      <td>[0.7852522639068564, 0.85]</td>\n",
              "      <td>None</td>\n",
              "      <td>[0.346875, 0.5287037037037037]</td>\n",
              "      <td>[0.13384789156626506, 0.6807228915662651]</td>\n",
              "      <td>None</td>\n",
              "      <td>None</td>\n",
              "      <td>None</td>\n",
              "      <td>None</td>\n",
              "      <td>None</td>\n",
              "      <td>None</td>\n",
              "      <td>[0.805859375, 0.4577777777777778]</td>\n",
              "      <td>[0.1448539886039886, 0.5755102040816327]</td>\n",
              "      <td>[0.8722395833333333, 0.39]</td>\n",
              "      <td>[0.6196636481241915, 0.418127417794971]</td>\n",
              "      <td>[0.6130666208791209, 0.41683778234086244]</td>\n",
              "      <td>None</td>\n",
              "      <td>[0.6354662698412699, 0.6573033707865169]</td>\n",
              "      <td>...</td>\n",
              "      <td>None</td>\n",
              "      <td>[0.6869340232858991, 0.6141459923664122]</td>\n",
              "      <td>None</td>\n",
              "      <td>None</td>\n",
              "      <td>None</td>\n",
              "      <td>None</td>\n",
              "      <td>None</td>\n",
              "      <td>None</td>\n",
              "      <td>None</td>\n",
              "      <td>None</td>\n",
              "      <td>None</td>\n",
              "      <td>None</td>\n",
              "      <td>None</td>\n",
              "      <td>None</td>\n",
              "      <td>None</td>\n",
              "      <td>None</td>\n",
              "      <td>None</td>\n",
              "      <td>None</td>\n",
              "      <td>None</td>\n",
              "      <td>None</td>\n",
              "      <td>None</td>\n",
              "      <td>None</td>\n",
              "      <td>None</td>\n",
              "      <td>None</td>\n",
              "      <td>None</td>\n",
              "      <td>[0.4457671634734623, 0.618840579710145]</td>\n",
              "      <td>None</td>\n",
              "      <td>None</td>\n",
              "      <td>None</td>\n",
              "      <td>None</td>\n",
              "      <td>None</td>\n",
              "      <td>None</td>\n",
              "      <td>[0.20223958333333333, 0.87]</td>\n",
              "      <td>None</td>\n",
              "      <td>None</td>\n",
              "      <td>None</td>\n",
              "      <td>None</td>\n",
              "      <td>None</td>\n",
              "      <td>None</td>\n",
              "      <td>None</td>\n",
              "    </tr>\n",
              "    <tr>\n",
              "      <th>1</th>\n",
              "      <td>[0.26406533575317603, 0.6778846153846154]</td>\n",
              "      <td>[0.6222509702457956, 0.592132568359375]</td>\n",
              "      <td>[0.7518173462566845, 0.687374749498998]</td>\n",
              "      <td>[0.5132440476190476, 0.4420289855072464]</td>\n",
              "      <td>None</td>\n",
              "      <td>[0.33376455368693403, 0.7534520348837209]</td>\n",
              "      <td>[0.8266494178525227, 0.6221771628498728]</td>\n",
              "      <td>[0.3561232156273479, 0.5847797062750334]</td>\n",
              "      <td>None</td>\n",
              "      <td>None</td>\n",
              "      <td>None</td>\n",
              "      <td>None</td>\n",
              "      <td>None</td>\n",
              "      <td>None</td>\n",
              "      <td>[0.8811995967741936, 0.7457142857142857]</td>\n",
              "      <td>[0.7175016644474035, 0.7117346938775511]</td>\n",
              "      <td>[0.7215025906735751, 0.47580744575936884]</td>\n",
              "      <td>[0.5090579710144927, 0.7566302652106084]</td>\n",
              "      <td>[0.6173828125, 0.6328025477707007]</td>\n",
              "      <td>None</td>\n",
              "      <td>[0.17223958333333333, 0.79]</td>\n",
              "      <td>None</td>\n",
              "      <td>None</td>\n",
              "      <td>[0.8990944372574385, 0.85]</td>\n",
              "      <td>None</td>\n",
              "      <td>[0.37395833333333334, 0.5287037037037037]</td>\n",
              "      <td>[0.30553463855421686, 0.6807228915662651]</td>\n",
              "      <td>None</td>\n",
              "      <td>None</td>\n",
              "      <td>None</td>\n",
              "      <td>None</td>\n",
              "      <td>None</td>\n",
              "      <td>None</td>\n",
              "      <td>[0.9283593750000001, 0.4577777777777778]</td>\n",
              "      <td>[0.3243411680911681, 0.5755102040816327]</td>\n",
              "      <td>[0.97390625, 0.39]</td>\n",
              "      <td>[0.7800776196636482, 0.418127417794971]</td>\n",
              "      <td>[0.7833962912087913, 0.41683778234086244]</td>\n",
              "      <td>None</td>\n",
              "      <td>[0.692609126984127, 0.6573033707865169]</td>\n",
              "      <td>...</td>\n",
              "      <td>None</td>\n",
              "      <td>[0.7930142302716688, 0.6141459923664122]</td>\n",
              "      <td>None</td>\n",
              "      <td>None</td>\n",
              "      <td>None</td>\n",
              "      <td>None</td>\n",
              "      <td>None</td>\n",
              "      <td>None</td>\n",
              "      <td>None</td>\n",
              "      <td>None</td>\n",
              "      <td>None</td>\n",
              "      <td>None</td>\n",
              "      <td>None</td>\n",
              "      <td>None</td>\n",
              "      <td>None</td>\n",
              "      <td>None</td>\n",
              "      <td>None</td>\n",
              "      <td>None</td>\n",
              "      <td>None</td>\n",
              "      <td>None</td>\n",
              "      <td>None</td>\n",
              "      <td>None</td>\n",
              "      <td>None</td>\n",
              "      <td>None</td>\n",
              "      <td>None</td>\n",
              "      <td>[0.5727512904575893, 0.618840579710145]</td>\n",
              "      <td>None</td>\n",
              "      <td>None</td>\n",
              "      <td>None</td>\n",
              "      <td>None</td>\n",
              "      <td>None</td>\n",
              "      <td>None</td>\n",
              "      <td>[0.27557291666666667, 0.87]</td>\n",
              "      <td>None</td>\n",
              "      <td>None</td>\n",
              "      <td>None</td>\n",
              "      <td>None</td>\n",
              "      <td>None</td>\n",
              "      <td>None</td>\n",
              "      <td>None</td>\n",
              "    </tr>\n",
              "    <tr>\n",
              "      <th>2</th>\n",
              "      <td>[0.26406533575317603, 0.7548076923076923]</td>\n",
              "      <td>[0.6222509702457956, 0.683929443359375]</td>\n",
              "      <td>[0.7518173462566845, 0.7615230460921844]</td>\n",
              "      <td>[0.5132440476190476, 0.5115942028985507]</td>\n",
              "      <td>None</td>\n",
              "      <td>[0.33376455368693403, 0.8038396317829457]</td>\n",
              "      <td>[0.8266494178525227, 0.6832458651399491]</td>\n",
              "      <td>[0.3561232156273479, 0.643524699599466]</td>\n",
              "      <td>None</td>\n",
              "      <td>None</td>\n",
              "      <td>None</td>\n",
              "      <td>None</td>\n",
              "      <td>None</td>\n",
              "      <td>None</td>\n",
              "      <td>[0.8811995967741936, 0.8285714285714285]</td>\n",
              "      <td>[0.7175016644474035, 0.7644557823129252]</td>\n",
              "      <td>[0.7215025906735751, 0.6335983727810651]</td>\n",
              "      <td>[0.5090579710144927, 0.8096723868954758]</td>\n",
              "      <td>[0.6173828125, 0.7003184713375796]</td>\n",
              "      <td>None</td>\n",
              "      <td>[0.17223958333333333, 0.8500000000000001]</td>\n",
              "      <td>None</td>\n",
              "      <td>None</td>\n",
              "      <td>[0.8990944372574385, 0.903448275862069]</td>\n",
              "      <td>None</td>\n",
              "      <td>[0.37395833333333334, 0.587037037037037]</td>\n",
              "      <td>[0.30553463855421686, 0.7329317269076305]</td>\n",
              "      <td>None</td>\n",
              "      <td>None</td>\n",
              "      <td>None</td>\n",
              "      <td>None</td>\n",
              "      <td>None</td>\n",
              "      <td>None</td>\n",
              "      <td>[0.9283593750000001, 0.5644444444444444]</td>\n",
              "      <td>[0.3243411680911681, 0.673469387755102]</td>\n",
              "      <td>[0.97390625, 0.47250000000000003]</td>\n",
              "      <td>[0.7800776196636482, 0.4896941489361702]</td>\n",
              "      <td>[0.7833962912087913, 0.4969199178644764]</td>\n",
              "      <td>None</td>\n",
              "      <td>[0.692609126984127, 0.7247191011235956]</td>\n",
              "      <td>...</td>\n",
              "      <td>None</td>\n",
              "      <td>[0.7930142302716688, 0.6752146946564885]</td>\n",
              "      <td>None</td>\n",
              "      <td>None</td>\n",
              "      <td>None</td>\n",
              "      <td>None</td>\n",
              "      <td>None</td>\n",
              "      <td>None</td>\n",
              "      <td>None</td>\n",
              "      <td>None</td>\n",
              "      <td>None</td>\n",
              "      <td>None</td>\n",
              "      <td>None</td>\n",
              "      <td>None</td>\n",
              "      <td>None</td>\n",
              "      <td>None</td>\n",
              "      <td>None</td>\n",
              "      <td>None</td>\n",
              "      <td>None</td>\n",
              "      <td>None</td>\n",
              "      <td>None</td>\n",
              "      <td>None</td>\n",
              "      <td>None</td>\n",
              "      <td>None</td>\n",
              "      <td>None</td>\n",
              "      <td>[0.5727512904575893, 0.7173913043478262]</td>\n",
              "      <td>None</td>\n",
              "      <td>None</td>\n",
              "      <td>None</td>\n",
              "      <td>None</td>\n",
              "      <td>None</td>\n",
              "      <td>None</td>\n",
              "      <td>[0.27557291666666667, 0.9366666666666666]</td>\n",
              "      <td>None</td>\n",
              "      <td>None</td>\n",
              "      <td>None</td>\n",
              "      <td>None</td>\n",
              "      <td>None</td>\n",
              "      <td>None</td>\n",
              "      <td>None</td>\n",
              "    </tr>\n",
              "    <tr>\n",
              "      <th>3</th>\n",
              "      <td>[0.18602540834845735, 0.7548076923076923]</td>\n",
              "      <td>[0.34411384217335056, 0.683929443359375]</td>\n",
              "      <td>[0.5860419451871658, 0.7615230460921844]</td>\n",
              "      <td>[0.3751488095238095, 0.5115942028985507]</td>\n",
              "      <td>None</td>\n",
              "      <td>[0.22897800776196636, 0.8038396317829457]</td>\n",
              "      <td>[0.6869340232858991, 0.6832458651399491]</td>\n",
              "      <td>[0.2569496619083396, 0.643524699599466]</td>\n",
              "      <td>None</td>\n",
              "      <td>None</td>\n",
              "      <td>None</td>\n",
              "      <td>None</td>\n",
              "      <td>None</td>\n",
              "      <td>None</td>\n",
              "      <td>[0.7747479838709678, 0.8285714285714285]</td>\n",
              "      <td>[0.608313914780293, 0.7644557823129252]</td>\n",
              "      <td>[0.5427461139896373, 0.6335983727810651]</td>\n",
              "      <td>[0.30408902691511386, 0.8096723868954758]</td>\n",
              "      <td>[0.5009765625, 0.7003184713375796]</td>\n",
              "      <td>None</td>\n",
              "      <td>[0.10390625, 0.8500000000000001]</td>\n",
              "      <td>None</td>\n",
              "      <td>None</td>\n",
              "      <td>[0.7852522639068564, 0.903448275862069]</td>\n",
              "      <td>None</td>\n",
              "      <td>[0.346875, 0.587037037037037]</td>\n",
              "      <td>[0.13384789156626506, 0.7329317269076305]</td>\n",
              "      <td>None</td>\n",
              "      <td>None</td>\n",
              "      <td>None</td>\n",
              "      <td>None</td>\n",
              "      <td>None</td>\n",
              "      <td>None</td>\n",
              "      <td>[0.805859375, 0.5644444444444444]</td>\n",
              "      <td>[0.1448539886039886, 0.673469387755102]</td>\n",
              "      <td>[0.8722395833333333, 0.47250000000000003]</td>\n",
              "      <td>[0.6196636481241915, 0.4896941489361702]</td>\n",
              "      <td>[0.6130666208791209, 0.4969199178644764]</td>\n",
              "      <td>None</td>\n",
              "      <td>[0.6354662698412699, 0.7247191011235956]</td>\n",
              "      <td>...</td>\n",
              "      <td>None</td>\n",
              "      <td>[0.6869340232858991, 0.6752146946564885]</td>\n",
              "      <td>None</td>\n",
              "      <td>None</td>\n",
              "      <td>None</td>\n",
              "      <td>None</td>\n",
              "      <td>None</td>\n",
              "      <td>None</td>\n",
              "      <td>None</td>\n",
              "      <td>None</td>\n",
              "      <td>None</td>\n",
              "      <td>None</td>\n",
              "      <td>None</td>\n",
              "      <td>None</td>\n",
              "      <td>None</td>\n",
              "      <td>None</td>\n",
              "      <td>None</td>\n",
              "      <td>None</td>\n",
              "      <td>None</td>\n",
              "      <td>None</td>\n",
              "      <td>None</td>\n",
              "      <td>None</td>\n",
              "      <td>None</td>\n",
              "      <td>None</td>\n",
              "      <td>None</td>\n",
              "      <td>[0.4457671634734623, 0.7173913043478262]</td>\n",
              "      <td>None</td>\n",
              "      <td>None</td>\n",
              "      <td>None</td>\n",
              "      <td>None</td>\n",
              "      <td>None</td>\n",
              "      <td>None</td>\n",
              "      <td>[0.20223958333333333, 0.9366666666666666]</td>\n",
              "      <td>None</td>\n",
              "      <td>None</td>\n",
              "      <td>None</td>\n",
              "      <td>None</td>\n",
              "      <td>None</td>\n",
              "      <td>None</td>\n",
              "      <td>None</td>\n",
              "    </tr>\n",
              "    <tr>\n",
              "      <th>4</th>\n",
              "      <td>[0.18602540834845735, 0.6778846153846154]</td>\n",
              "      <td>[0.34411384217335056, 0.592132568359375]</td>\n",
              "      <td>[0.5860419451871658, 0.687374749498998]</td>\n",
              "      <td>[0.3751488095238095, 0.4420289855072464]</td>\n",
              "      <td>None</td>\n",
              "      <td>[0.22897800776196636, 0.7534520348837209]</td>\n",
              "      <td>[0.6869340232858991, 0.6221771628498728]</td>\n",
              "      <td>[0.2569496619083396, 0.5847797062750334]</td>\n",
              "      <td>None</td>\n",
              "      <td>None</td>\n",
              "      <td>None</td>\n",
              "      <td>None</td>\n",
              "      <td>None</td>\n",
              "      <td>None</td>\n",
              "      <td>[0.7747479838709678, 0.7457142857142857]</td>\n",
              "      <td>[0.608313914780293, 0.7117346938775511]</td>\n",
              "      <td>[0.5427461139896373, 0.47580744575936884]</td>\n",
              "      <td>[0.30408902691511386, 0.7566302652106084]</td>\n",
              "      <td>[0.5009765625, 0.6328025477707007]</td>\n",
              "      <td>None</td>\n",
              "      <td>[0.10390625, 0.79]</td>\n",
              "      <td>None</td>\n",
              "      <td>None</td>\n",
              "      <td>[0.7852522639068564, 0.85]</td>\n",
              "      <td>None</td>\n",
              "      <td>[0.346875, 0.5287037037037037]</td>\n",
              "      <td>[0.13384789156626506, 0.6807228915662651]</td>\n",
              "      <td>None</td>\n",
              "      <td>None</td>\n",
              "      <td>None</td>\n",
              "      <td>None</td>\n",
              "      <td>None</td>\n",
              "      <td>None</td>\n",
              "      <td>[0.805859375, 0.4577777777777778]</td>\n",
              "      <td>[0.1448539886039886, 0.5755102040816327]</td>\n",
              "      <td>[0.8722395833333333, 0.39]</td>\n",
              "      <td>[0.6196636481241915, 0.418127417794971]</td>\n",
              "      <td>[0.6130666208791209, 0.41683778234086244]</td>\n",
              "      <td>None</td>\n",
              "      <td>[0.6354662698412699, 0.6573033707865169]</td>\n",
              "      <td>...</td>\n",
              "      <td>None</td>\n",
              "      <td>[0.6869340232858991, 0.6141459923664122]</td>\n",
              "      <td>None</td>\n",
              "      <td>None</td>\n",
              "      <td>None</td>\n",
              "      <td>None</td>\n",
              "      <td>None</td>\n",
              "      <td>None</td>\n",
              "      <td>None</td>\n",
              "      <td>None</td>\n",
              "      <td>None</td>\n",
              "      <td>None</td>\n",
              "      <td>None</td>\n",
              "      <td>None</td>\n",
              "      <td>None</td>\n",
              "      <td>None</td>\n",
              "      <td>None</td>\n",
              "      <td>None</td>\n",
              "      <td>None</td>\n",
              "      <td>None</td>\n",
              "      <td>None</td>\n",
              "      <td>None</td>\n",
              "      <td>None</td>\n",
              "      <td>None</td>\n",
              "      <td>None</td>\n",
              "      <td>[0.4457671634734623, 0.618840579710145]</td>\n",
              "      <td>None</td>\n",
              "      <td>None</td>\n",
              "      <td>None</td>\n",
              "      <td>None</td>\n",
              "      <td>None</td>\n",
              "      <td>None</td>\n",
              "      <td>[0.20223958333333333, 0.87]</td>\n",
              "      <td>None</td>\n",
              "      <td>None</td>\n",
              "      <td>None</td>\n",
              "      <td>None</td>\n",
              "      <td>None</td>\n",
              "      <td>None</td>\n",
              "      <td>None</td>\n",
              "    </tr>\n",
              "  </tbody>\n",
              "</table>\n",
              "<p>5 rows × 215 columns</p>\n",
              "</div>"
            ],
            "text/plain": [
              "                                     161.jpg  ... 157.jpg\n",
              "0  [0.18602540834845735, 0.6778846153846154]  ...    None\n",
              "1  [0.26406533575317603, 0.6778846153846154]  ...    None\n",
              "2  [0.26406533575317603, 0.7548076923076923]  ...    None\n",
              "3  [0.18602540834845735, 0.7548076923076923]  ...    None\n",
              "4  [0.18602540834845735, 0.6778846153846154]  ...    None\n",
              "\n",
              "[5 rows x 215 columns]"
            ]
          },
          "metadata": {
            "tags": []
          },
          "execution_count": 38
        }
      ]
    },
    {
      "cell_type": "code",
      "metadata": {
        "id": "Jc1MpwFrT_Sr",
        "colab_type": "code",
        "colab": {
          "base_uri": "https://localhost:8080/",
          "height": 119
        },
        "outputId": "9ae69882-2206-4133-cdf6-458f08c7e456"
      },
      "source": [
        "base['153.jpg']"
      ],
      "execution_count": 39,
      "outputs": [
        {
          "output_type": "execute_result",
          "data": {
            "text/plain": [
              "0     [0.6196636481241915, 0.418127417794971]\n",
              "1     [0.7800776196636482, 0.418127417794971]\n",
              "2    [0.7800776196636482, 0.4896941489361702]\n",
              "3    [0.6196636481241915, 0.4896941489361702]\n",
              "4     [0.6196636481241915, 0.418127417794971]\n",
              "Name: 153.jpg, dtype: object"
            ]
          },
          "metadata": {
            "tags": []
          },
          "execution_count": 39
        }
      ]
    },
    {
      "cell_type": "code",
      "metadata": {
        "id": "xIyeb0k8T_St",
        "colab_type": "code",
        "colab": {}
      },
      "source": [
        "image_name = '153.jpg'"
      ],
      "execution_count": 0,
      "outputs": []
    },
    {
      "cell_type": "code",
      "metadata": {
        "id": "FuwxjvGaT_Sv",
        "colab_type": "code",
        "colab": {},
        "outputId": "e0662223-cdf2-4c09-c5cd-8ed9733c1e87"
      },
      "source": [
        "base[image_name][1][0]"
      ],
      "execution_count": 0,
      "outputs": [
        {
          "output_type": "execute_result",
          "data": {
            "text/plain": [
              "0.7800776196636482"
            ]
          },
          "metadata": {
            "tags": []
          },
          "execution_count": 11
        }
      ]
    },
    {
      "cell_type": "code",
      "metadata": {
        "id": "03qJcc8yT_Sw",
        "colab_type": "code",
        "colab": {},
        "outputId": "7bd96ee6-0e6b-43d7-a854-9c54397e8ed5"
      },
      "source": [
        "base[image_name][0][0]"
      ],
      "execution_count": 0,
      "outputs": [
        {
          "output_type": "execute_result",
          "data": {
            "text/plain": [
              "0.6196636481241915"
            ]
          },
          "metadata": {
            "tags": []
          },
          "execution_count": 12
        }
      ]
    },
    {
      "cell_type": "code",
      "metadata": {
        "id": "HV7Q4B5oT_Sy",
        "colab_type": "code",
        "colab": {},
        "outputId": "517fc1e5-4dc9-49a0-a4d3-fe5f789daf36"
      },
      "source": [
        "base[image_name][3][1]"
      ],
      "execution_count": 0,
      "outputs": [
        {
          "output_type": "execute_result",
          "data": {
            "text/plain": [
              "0.4896941489361702"
            ]
          },
          "metadata": {
            "tags": []
          },
          "execution_count": 13
        }
      ]
    },
    {
      "cell_type": "code",
      "metadata": {
        "id": "Yi9pgRzNT_Sz",
        "colab_type": "code",
        "colab": {},
        "outputId": "eca83c0d-6b8c-4a67-b946-5dd460aa9f75"
      },
      "source": [
        "base[image_name][0][1]"
      ],
      "execution_count": 0,
      "outputs": [
        {
          "output_type": "execute_result",
          "data": {
            "text/plain": [
              "0.418127417794971"
            ]
          },
          "metadata": {
            "tags": []
          },
          "execution_count": 14
        }
      ]
    },
    {
      "cell_type": "code",
      "metadata": {
        "id": "lRuzIAl8T_S1",
        "colab_type": "code",
        "colab": {}
      },
      "source": [
        "x_right = base[image_name][2][0]"
      ],
      "execution_count": 0,
      "outputs": []
    },
    {
      "cell_type": "code",
      "metadata": {
        "id": "CRebMK6tT_S3",
        "colab_type": "code",
        "colab": {}
      },
      "source": [
        "y_right =  base[image_name][2][1]"
      ],
      "execution_count": 0,
      "outputs": []
    },
    {
      "cell_type": "code",
      "metadata": {
        "id": "krvAFKU3T_S4",
        "colab_type": "code",
        "colab": {}
      },
      "source": [
        "y = base[image_name][0][1]"
      ],
      "execution_count": 0,
      "outputs": []
    },
    {
      "cell_type": "code",
      "metadata": {
        "id": "1vLYudeoT_S6",
        "colab_type": "code",
        "colab": {}
      },
      "source": [
        "x = base[image_name][0][0]"
      ],
      "execution_count": 0,
      "outputs": []
    },
    {
      "cell_type": "code",
      "metadata": {
        "id": "ESmNKju-T_S8",
        "colab_type": "code",
        "colab": {}
      },
      "source": [
        "w = base[image_name][1][0]-base[image_name][0][0]"
      ],
      "execution_count": 0,
      "outputs": []
    },
    {
      "cell_type": "code",
      "metadata": {
        "id": "Fd_tNorBT_TA",
        "colab_type": "code",
        "colab": {}
      },
      "source": [
        "img = Image.open(\"./to_label/153.jpg\")"
      ],
      "execution_count": 0,
      "outputs": []
    },
    {
      "cell_type": "code",
      "metadata": {
        "id": "2Oix_EtaT_TC",
        "colab_type": "code",
        "colab": {},
        "outputId": "64b45570-a1fc-4288-9edd-d2d5cc600c63"
      },
      "source": [
        "img.size"
      ],
      "execution_count": 0,
      "outputs": [
        {
          "output_type": "execute_result",
          "data": {
            "text/plain": [
              "(1000, 669)"
            ]
          },
          "metadata": {
            "tags": []
          },
          "execution_count": 21
        }
      ]
    },
    {
      "cell_type": "code",
      "metadata": {
        "id": "bdhoN6jTT_TE",
        "colab_type": "code",
        "colab": {}
      },
      "source": [
        "crope = img.crop((x*img.size[0],y*img.size[1],x_right*img.size[0], y_right*img.size[1]))"
      ],
      "execution_count": 0,
      "outputs": []
    },
    {
      "cell_type": "code",
      "metadata": {
        "id": "1q19XHEQT_TF",
        "colab_type": "code",
        "colab": {},
        "outputId": "cdf6814b-90bd-44cb-9a95-f2be8369a333"
      },
      "source": [
        "crope"
      ],
      "execution_count": 0,
      "outputs": [
        {
          "output_type": "execute_result",
          "data": {
            "image/png": "[encoded data removed]",
            "text/plain": [
              "<PIL.Image.Image image mode=RGB size=160x48 at 0x87D3668>"
            ]
          },
          "metadata": {
            "tags": []
          },
          "execution_count": 23
        }
      ]
    },
    {
      "cell_type": "code",
      "metadata": {
        "id": "klgzcBOgT_TH",
        "colab_type": "code",
        "colab": {},
        "outputId": "bc64667c-7068-448e-98b5-24bccea60ecd"
      },
      "source": [
        "#def crope_img(image_name, base):\n",
        "    img = Image.open(\"./to_label/\"+image_name)\n",
        "    x = base[image_name][0][0]\n",
        "    y = base[image_name][0][1]\n",
        "    x_right = base[image_name][2][0]\n",
        "    y_right =  base[image_name][2][1]\n",
        "    crope = img.crop((x*img.size[0],y*img.size[1],x_right*img.size[0], y_right*img.size[1]))\n",
        "    crope.save('./Photo_of_numbers/'+image_name)"
      ],
      "execution_count": 0,
      "outputs": [
        {
          "output_type": "error",
          "ename": "IndentationError",
          "evalue": "unexpected indent (<ipython-input-24-617242a606fb>, line 2)",
          "traceback": [
            "\u001b[1;36m  File \u001b[1;32m\"<ipython-input-24-617242a606fb>\"\u001b[1;36m, line \u001b[1;32m2\u001b[0m\n\u001b[1;33m    img = Image.open(\"./to_label/\"+image_name)\u001b[0m\n\u001b[1;37m    ^\u001b[0m\n\u001b[1;31mIndentationError\u001b[0m\u001b[1;31m:\u001b[0m unexpected indent\n"
          ]
        }
      ]
    },
    {
      "cell_type": "code",
      "metadata": {
        "id": "qkvH6D1_T_TI",
        "colab_type": "code",
        "colab": {}
      },
      "source": [
        "#for i in base.columns:\n",
        "    try: \n",
        "        crope_img(i,base)\n",
        "    except Exception as e:\n",
        "        print(e)"
      ],
      "execution_count": 0,
      "outputs": []
    },
    {
      "cell_type": "code",
      "metadata": {
        "id": "76iKarBMT_TK",
        "colab_type": "code",
        "colab": {}
      },
      "source": [
        "#img = Image.open(\"./to_label/114.jpg"
      ],
      "execution_count": 0,
      "outputs": []
    },
    {
      "cell_type": "code",
      "metadata": {
        "id": "iAyMQit9T_TL",
        "colab_type": "code",
        "colab": {}
      },
      "source": [
        ""
      ],
      "execution_count": 0,
      "outputs": []
    }
  ]
}