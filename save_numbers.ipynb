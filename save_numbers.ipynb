{
  "nbformat": 4,
  "nbformat_minor": 0,
  "metadata": {
    "kernelspec": {
      "display_name": "Python 3",
      "language": "python",
      "name": "python3"
    },
    "language_info": {
      "codemirror_mode": {
        "name": "ipython",
        "version": 3
      },
      "file_extension": ".py",
      "mimetype": "text/x-python",
      "name": "python",
      "nbconvert_exporter": "python",
      "pygments_lexer": "ipython3",
      "version": "3.7.1"
    },
    "colab": {
      "name": "save numbers.ipynb",
      "provenance": [],
      "include_colab_link": true
    }
  },
  "cells": [
    {
      "cell_type": "markdown",
      "metadata": {
        "id": "view-in-github",
        "colab_type": "text"
      },
      "source": [
        "<a href=\"https://colab.research.google.com/github/Svetorus/Course-project-Data-Science-2/blob/master/save_numbers.ipynb\" target=\"_parent\"><img src=\"https://colab.research.google.com/assets/colab-badge.svg\" alt=\"Open In Colab\"/></a>"
      ]
    },
    {
      "cell_type": "code",
      "metadata": {
        "id": "5m_tbztYhyb8",
        "colab_type": "code",
        "colab": {}
      },
      "source": [
        "import pandas as pd\n",
        "import numpy as np\n",
        "from PIL import Image\n",
        "import cv2\n",
        "import json\n",
        "pd.set_option('max_colwidth', 800)\n",
        "#import warnings\n",
        "#warnings.filterwarnings('ignore')"
      ],
      "execution_count": 0,
      "outputs": []
    },
    {
      "cell_type": "code",
      "metadata": {
        "id": "BCKe4sq2hyb_",
        "colab_type": "code",
        "colab": {}
      },
      "source": [
        "data = open(\"./P45.json\",encoding=\"utf8\")"
      ],
      "execution_count": 0,
      "outputs": []
    },
    {
      "cell_type": "code",
      "metadata": {
        "id": "Kk098nP4hycB",
        "colab_type": "code",
        "colab": {}
      },
      "source": [
        "data = json.loads(data.read())"
      ],
      "execution_count": 0,
      "outputs": []
    },
    {
      "cell_type": "code",
      "metadata": {
        "id": "BBLa7hGNhycD",
        "colab_type": "code",
        "colab": {}
      },
      "source": [
        "#data = json.load(\"./P45.json\")\n",
        "#data = pd.read_json(\"./P45.json\")"
      ],
      "execution_count": 0,
      "outputs": []
    },
    {
      "cell_type": "code",
      "metadata": {
        "id": "j0oZKRCyhycG",
        "colab_type": "code",
        "colab": {}
      },
      "source": [
        "#data # result below"
      ],
      "execution_count": 0,
      "outputs": []
    },
    {
      "cell_type": "markdown",
      "metadata": {
        "id": "fdbWyNFYiQAi",
        "colab_type": "text"
      },
      "source": [
        "{'data': [{'input': {'image': 'https://dbrain-public.s3.amazonaws.com/project/P45/77a55f65-ee92-4070-851c-bf37ed9f0af2/a50bbc8f-9cb8-49bc-89d7-462258898a0b/161.jpg'},\n",
        "   'payload': {'aabb': {'license_plate': [[[0.18602540834845735,\n",
        "        0.6778846153846154],\n",
        "       [0.26406533575317603, 0.6778846153846154],\n",
        "       [0.26406533575317603, 0.7548076923076923],\n",
        "       [0.18602540834845735, 0.7548076923076923],\n",
        "       [0.18602540834845735, 0.6778846153846154]]]}}},\n",
        "  {'input': {'image': 'https://dbrain-public.s3.amazonaws.com/project/P45/b6b222b5-d2d2-49c8-98ba-15521502f8b6/c7b1fe48-9e72-4150-90e7-38031fae4d62/163.jpg'},\n",
        "   'payload': {'aabb': {'license_plate': [[[0.34411384217335056,\n",
        "        0.592132568359375],\n",
        "       [0.6222509702457956, 0.592132568359375],\n",
        "       [0.6222509702457956, 0.683929443359375],\n",
        "       [0.34411384217335056, 0.683929443359375],\n",
        "       [0.34411384217335056, 0.592132568359375]]]}}},"
      ]
    },
    {
      "cell_type": "code",
      "metadata": {
        "id": "6maeV0MEhycI",
        "colab_type": "code",
        "colab": {}
      },
      "source": [
        "pictures = []\n",
        "license_plates = []\n",
        "\n",
        "def get_picture(data):\n",
        "    if data is not None:\n",
        "        if \"input\" in data:\n",
        "            if data[\"input\"] is not None:\n",
        "                if \"image\" in data[\"input\"]:\n",
        "                    if \"/\" in data[\"input\"][\"image\"]:\n",
        "                        return data[\"input\"][\"image\"].split(\"/\")[-1]\n",
        "\n",
        "\n",
        "def get_license(data):\n",
        "    if data is not None:\n",
        "        if \"payload\" in data:\n",
        "            if data[\"payload\"] is not None:\n",
        "                if \"aabb\" in data[\"payload\"]:\n",
        "                    return data[\"payload\"][\"aabb\"][\"license_plate\"][0]\n",
        "\n",
        "\n",
        "for i in data[\"data\"]:\n",
        "    pictures.append(get_picture(i))\n",
        "    license_plates.append(get_license(i))\n",
        "\n",
        "#print(pictures)\n",
        "#a = [print(pictures[i], license_plates[i]) for i in range(len(pictures))]\n",
        "    \n",
        "base = (dict(zip(pictures, license_plates)))"
      ],
      "execution_count": 0,
      "outputs": []
    },
    {
      "cell_type": "code",
      "metadata": {
        "id": "2N07HimThycK",
        "colab_type": "code",
        "colab": {}
      },
      "source": [
        "# base # result below"
      ],
      "execution_count": 0,
      "outputs": []
    },
    {
      "cell_type": "markdown",
      "metadata": {
        "id": "1ZT5dhueiJzI",
        "colab_type": "text"
      },
      "source": [
        "{'161.jpg': [[0.18602540834845735, 0.6778846153846154],\n",
        "  [0.26406533575317603, 0.6778846153846154],\n",
        "  [0.26406533575317603, 0.7548076923076923],\n",
        "  [0.18602540834845735, 0.7548076923076923],\n",
        "  [0.18602540834845735, 0.6778846153846154]],\n",
        " '163.jpg': [[0.34411384217335056, 0.592132568359375],\n",
        "  [0.6222509702457956, 0.592132568359375],\n",
        "  [0.6222509702457956, 0.683929443359375],\n",
        "  [0.34411384217335056, 0.683929443359375],\n",
        "  [0.34411384217335056, 0.592132568359375]],"
      ]
    },
    {
      "cell_type": "code",
      "metadata": {
        "id": "4reeMfhGhycM",
        "colab_type": "code",
        "colab": {}
      },
      "source": [
        "base = pd.DataFrame(base)"
      ],
      "execution_count": 0,
      "outputs": []
    },
    {
      "cell_type": "code",
      "metadata": {
        "id": "AnJCkuQThycO",
        "colab_type": "code",
        "colab": {},
        "outputId": "a6fabfbc-cfe7-48a3-e4e2-dbc183114746"
      },
      "source": [
        "base.head()"
      ],
      "execution_count": 0,
      "outputs": [
        {
          "output_type": "execute_result",
          "data": {
            "text/html": [
              "<div>\n",
              "<style scoped>\n",
              "    .dataframe tbody tr th:only-of-type {\n",
              "        vertical-align: middle;\n",
              "    }\n",
              "\n",
              "    .dataframe tbody tr th {\n",
              "        vertical-align: top;\n",
              "    }\n",
              "\n",
              "    .dataframe thead th {\n",
              "        text-align: right;\n",
              "    }\n",
              "</style>\n",
              "<table border=\"1\" class=\"dataframe\">\n",
              "  <thead>\n",
              "    <tr style=\"text-align: right;\">\n",
              "      <th></th>\n",
              "      <th>161.jpg</th>\n",
              "      <th>163.jpg</th>\n",
              "      <th>195.jpg</th>\n",
              "      <th>116.jpg</th>\n",
              "      <th>213.jpg</th>\n",
              "      <th>206.jpg</th>\n",
              "      <th>55.jpg</th>\n",
              "      <th>87.jpg</th>\n",
              "      <th>141.jpg</th>\n",
              "      <th>34.jpg</th>\n",
              "      <th>...</th>\n",
              "      <th>75.jpg</th>\n",
              "      <th>208.jpg</th>\n",
              "      <th>10.jpg</th>\n",
              "      <th>64.jpg</th>\n",
              "      <th>199.jpg</th>\n",
              "      <th>158.jpg</th>\n",
              "      <th>219.jpg</th>\n",
              "      <th>193.jpg</th>\n",
              "      <th>95.jpg</th>\n",
              "      <th>157.jpg</th>\n",
              "    </tr>\n",
              "  </thead>\n",
              "  <tbody>\n",
              "    <tr>\n",
              "      <th>0</th>\n",
              "      <td>[0.18602540834845735, 0.6778846153846154]</td>\n",
              "      <td>[0.34411384217335056, 0.592132568359375]</td>\n",
              "      <td>[0.5860419451871658, 0.687374749498998]</td>\n",
              "      <td>[0.3751488095238095, 0.4420289855072464]</td>\n",
              "      <td>None</td>\n",
              "      <td>[0.22897800776196636, 0.7534520348837209]</td>\n",
              "      <td>[0.6869340232858991, 0.6221771628498728]</td>\n",
              "      <td>[0.2569496619083396, 0.5847797062750334]</td>\n",
              "      <td>None</td>\n",
              "      <td>None</td>\n",
              "      <td>...</td>\n",
              "      <td>None</td>\n",
              "      <td>None</td>\n",
              "      <td>[0.20223958333333333, 0.87]</td>\n",
              "      <td>None</td>\n",
              "      <td>None</td>\n",
              "      <td>None</td>\n",
              "      <td>None</td>\n",
              "      <td>None</td>\n",
              "      <td>None</td>\n",
              "      <td>None</td>\n",
              "    </tr>\n",
              "    <tr>\n",
              "      <th>1</th>\n",
              "      <td>[0.26406533575317603, 0.6778846153846154]</td>\n",
              "      <td>[0.6222509702457956, 0.592132568359375]</td>\n",
              "      <td>[0.7518173462566845, 0.687374749498998]</td>\n",
              "      <td>[0.5132440476190476, 0.4420289855072464]</td>\n",
              "      <td>None</td>\n",
              "      <td>[0.33376455368693403, 0.7534520348837209]</td>\n",
              "      <td>[0.8266494178525227, 0.6221771628498728]</td>\n",
              "      <td>[0.3561232156273479, 0.5847797062750334]</td>\n",
              "      <td>None</td>\n",
              "      <td>None</td>\n",
              "      <td>...</td>\n",
              "      <td>None</td>\n",
              "      <td>None</td>\n",
              "      <td>[0.27557291666666667, 0.87]</td>\n",
              "      <td>None</td>\n",
              "      <td>None</td>\n",
              "      <td>None</td>\n",
              "      <td>None</td>\n",
              "      <td>None</td>\n",
              "      <td>None</td>\n",
              "      <td>None</td>\n",
              "    </tr>\n",
              "    <tr>\n",
              "      <th>2</th>\n",
              "      <td>[0.26406533575317603, 0.7548076923076923]</td>\n",
              "      <td>[0.6222509702457956, 0.683929443359375]</td>\n",
              "      <td>[0.7518173462566845, 0.7615230460921844]</td>\n",
              "      <td>[0.5132440476190476, 0.5115942028985507]</td>\n",
              "      <td>None</td>\n",
              "      <td>[0.33376455368693403, 0.8038396317829457]</td>\n",
              "      <td>[0.8266494178525227, 0.6832458651399491]</td>\n",
              "      <td>[0.3561232156273479, 0.643524699599466]</td>\n",
              "      <td>None</td>\n",
              "      <td>None</td>\n",
              "      <td>...</td>\n",
              "      <td>None</td>\n",
              "      <td>None</td>\n",
              "      <td>[0.27557291666666667, 0.9366666666666666]</td>\n",
              "      <td>None</td>\n",
              "      <td>None</td>\n",
              "      <td>None</td>\n",
              "      <td>None</td>\n",
              "      <td>None</td>\n",
              "      <td>None</td>\n",
              "      <td>None</td>\n",
              "    </tr>\n",
              "    <tr>\n",
              "      <th>3</th>\n",
              "      <td>[0.18602540834845735, 0.7548076923076923]</td>\n",
              "      <td>[0.34411384217335056, 0.683929443359375]</td>\n",
              "      <td>[0.5860419451871658, 0.7615230460921844]</td>\n",
              "      <td>[0.3751488095238095, 0.5115942028985507]</td>\n",
              "      <td>None</td>\n",
              "      <td>[0.22897800776196636, 0.8038396317829457]</td>\n",
              "      <td>[0.6869340232858991, 0.6832458651399491]</td>\n",
              "      <td>[0.2569496619083396, 0.643524699599466]</td>\n",
              "      <td>None</td>\n",
              "      <td>None</td>\n",
              "      <td>...</td>\n",
              "      <td>None</td>\n",
              "      <td>None</td>\n",
              "      <td>[0.20223958333333333, 0.9366666666666666]</td>\n",
              "      <td>None</td>\n",
              "      <td>None</td>\n",
              "      <td>None</td>\n",
              "      <td>None</td>\n",
              "      <td>None</td>\n",
              "      <td>None</td>\n",
              "      <td>None</td>\n",
              "    </tr>\n",
              "    <tr>\n",
              "      <th>4</th>\n",
              "      <td>[0.18602540834845735, 0.6778846153846154]</td>\n",
              "      <td>[0.34411384217335056, 0.592132568359375]</td>\n",
              "      <td>[0.5860419451871658, 0.687374749498998]</td>\n",
              "      <td>[0.3751488095238095, 0.4420289855072464]</td>\n",
              "      <td>None</td>\n",
              "      <td>[0.22897800776196636, 0.7534520348837209]</td>\n",
              "      <td>[0.6869340232858991, 0.6221771628498728]</td>\n",
              "      <td>[0.2569496619083396, 0.5847797062750334]</td>\n",
              "      <td>None</td>\n",
              "      <td>None</td>\n",
              "      <td>...</td>\n",
              "      <td>None</td>\n",
              "      <td>None</td>\n",
              "      <td>[0.20223958333333333, 0.87]</td>\n",
              "      <td>None</td>\n",
              "      <td>None</td>\n",
              "      <td>None</td>\n",
              "      <td>None</td>\n",
              "      <td>None</td>\n",
              "      <td>None</td>\n",
              "      <td>None</td>\n",
              "    </tr>\n",
              "  </tbody>\n",
              "</table>\n",
              "<p>5 rows × 215 columns</p>\n",
              "</div>"
            ],
            "text/plain": [
              "                                     161.jpg  \\\n",
              "0  [0.18602540834845735, 0.6778846153846154]   \n",
              "1  [0.26406533575317603, 0.6778846153846154]   \n",
              "2  [0.26406533575317603, 0.7548076923076923]   \n",
              "3  [0.18602540834845735, 0.7548076923076923]   \n",
              "4  [0.18602540834845735, 0.6778846153846154]   \n",
              "\n",
              "                                    163.jpg  \\\n",
              "0  [0.34411384217335056, 0.592132568359375]   \n",
              "1   [0.6222509702457956, 0.592132568359375]   \n",
              "2   [0.6222509702457956, 0.683929443359375]   \n",
              "3  [0.34411384217335056, 0.683929443359375]   \n",
              "4  [0.34411384217335056, 0.592132568359375]   \n",
              "\n",
              "                                    195.jpg  \\\n",
              "0   [0.5860419451871658, 0.687374749498998]   \n",
              "1   [0.7518173462566845, 0.687374749498998]   \n",
              "2  [0.7518173462566845, 0.7615230460921844]   \n",
              "3  [0.5860419451871658, 0.7615230460921844]   \n",
              "4   [0.5860419451871658, 0.687374749498998]   \n",
              "\n",
              "                                    116.jpg 213.jpg  \\\n",
              "0  [0.3751488095238095, 0.4420289855072464]    None   \n",
              "1  [0.5132440476190476, 0.4420289855072464]    None   \n",
              "2  [0.5132440476190476, 0.5115942028985507]    None   \n",
              "3  [0.3751488095238095, 0.5115942028985507]    None   \n",
              "4  [0.3751488095238095, 0.4420289855072464]    None   \n",
              "\n",
              "                                     206.jpg  \\\n",
              "0  [0.22897800776196636, 0.7534520348837209]   \n",
              "1  [0.33376455368693403, 0.7534520348837209]   \n",
              "2  [0.33376455368693403, 0.8038396317829457]   \n",
              "3  [0.22897800776196636, 0.8038396317829457]   \n",
              "4  [0.22897800776196636, 0.7534520348837209]   \n",
              "\n",
              "                                     55.jpg  \\\n",
              "0  [0.6869340232858991, 0.6221771628498728]   \n",
              "1  [0.8266494178525227, 0.6221771628498728]   \n",
              "2  [0.8266494178525227, 0.6832458651399491]   \n",
              "3  [0.6869340232858991, 0.6832458651399491]   \n",
              "4  [0.6869340232858991, 0.6221771628498728]   \n",
              "\n",
              "                                     87.jpg 141.jpg 34.jpg   ...   75.jpg  \\\n",
              "0  [0.2569496619083396, 0.5847797062750334]    None   None   ...     None   \n",
              "1  [0.3561232156273479, 0.5847797062750334]    None   None   ...     None   \n",
              "2   [0.3561232156273479, 0.643524699599466]    None   None   ...     None   \n",
              "3   [0.2569496619083396, 0.643524699599466]    None   None   ...     None   \n",
              "4  [0.2569496619083396, 0.5847797062750334]    None   None   ...     None   \n",
              "\n",
              "  208.jpg                                     10.jpg 64.jpg 199.jpg 158.jpg  \\\n",
              "0    None                [0.20223958333333333, 0.87]   None    None    None   \n",
              "1    None                [0.27557291666666667, 0.87]   None    None    None   \n",
              "2    None  [0.27557291666666667, 0.9366666666666666]   None    None    None   \n",
              "3    None  [0.20223958333333333, 0.9366666666666666]   None    None    None   \n",
              "4    None                [0.20223958333333333, 0.87]   None    None    None   \n",
              "\n",
              "  219.jpg 193.jpg 95.jpg 157.jpg  \n",
              "0    None    None   None    None  \n",
              "1    None    None   None    None  \n",
              "2    None    None   None    None  \n",
              "3    None    None   None    None  \n",
              "4    None    None   None    None  \n",
              "\n",
              "[5 rows x 215 columns]"
            ]
          },
          "metadata": {
            "tags": []
          },
          "execution_count": 8
        }
      ]
    },
    {
      "cell_type": "code",
      "metadata": {
        "id": "GoxhkbVghycP",
        "colab_type": "code",
        "colab": {},
        "outputId": "18fc5804-8736-42ff-94f7-a96980bbcf7a"
      },
      "source": [
        "base['153.jpg']"
      ],
      "execution_count": 0,
      "outputs": [
        {
          "output_type": "execute_result",
          "data": {
            "text/plain": [
              "0     [0.6196636481241915, 0.418127417794971]\n",
              "1     [0.7800776196636482, 0.418127417794971]\n",
              "2    [0.7800776196636482, 0.4896941489361702]\n",
              "3    [0.6196636481241915, 0.4896941489361702]\n",
              "4     [0.6196636481241915, 0.418127417794971]\n",
              "Name: 153.jpg, dtype: object"
            ]
          },
          "metadata": {
            "tags": []
          },
          "execution_count": 9
        }
      ]
    },
    {
      "cell_type": "code",
      "metadata": {
        "id": "iZp9Rr8QhycR",
        "colab_type": "code",
        "colab": {}
      },
      "source": [
        "image_name = '153.jpg'"
      ],
      "execution_count": 0,
      "outputs": []
    },
    {
      "cell_type": "code",
      "metadata": {
        "id": "a3Of53SMhycT",
        "colab_type": "code",
        "colab": {},
        "outputId": "49d03ad8-6df1-4dd5-f14b-398fd4e008e9"
      },
      "source": [
        "base[image_name][1][0]"
      ],
      "execution_count": 0,
      "outputs": [
        {
          "output_type": "execute_result",
          "data": {
            "text/plain": [
              "0.7800776196636482"
            ]
          },
          "metadata": {
            "tags": []
          },
          "execution_count": 11
        }
      ]
    },
    {
      "cell_type": "code",
      "metadata": {
        "id": "8D55tqjYhycV",
        "colab_type": "code",
        "colab": {},
        "outputId": "436d45ba-e145-4236-b085-efd4b987a2bf"
      },
      "source": [
        "base[image_name][0][0]"
      ],
      "execution_count": 0,
      "outputs": [
        {
          "output_type": "execute_result",
          "data": {
            "text/plain": [
              "0.6196636481241915"
            ]
          },
          "metadata": {
            "tags": []
          },
          "execution_count": 12
        }
      ]
    },
    {
      "cell_type": "code",
      "metadata": {
        "id": "vgTCSXcIhycW",
        "colab_type": "code",
        "colab": {},
        "outputId": "92f4aefe-17af-438d-e950-c5e0e63b8a92"
      },
      "source": [
        "base[image_name][3][1]"
      ],
      "execution_count": 0,
      "outputs": [
        {
          "output_type": "execute_result",
          "data": {
            "text/plain": [
              "0.4896941489361702"
            ]
          },
          "metadata": {
            "tags": []
          },
          "execution_count": 13
        }
      ]
    },
    {
      "cell_type": "code",
      "metadata": {
        "id": "4CrlZV0BhycY",
        "colab_type": "code",
        "colab": {},
        "outputId": "95579f76-993e-4097-deaf-317360c8b4d4"
      },
      "source": [
        "base[image_name][0][1]"
      ],
      "execution_count": 0,
      "outputs": [
        {
          "output_type": "execute_result",
          "data": {
            "text/plain": [
              "0.418127417794971"
            ]
          },
          "metadata": {
            "tags": []
          },
          "execution_count": 14
        }
      ]
    },
    {
      "cell_type": "code",
      "metadata": {
        "id": "v04RQ6cZhyca",
        "colab_type": "code",
        "colab": {}
      },
      "source": [
        "x_right = base[image_name][2][0]"
      ],
      "execution_count": 0,
      "outputs": []
    },
    {
      "cell_type": "code",
      "metadata": {
        "id": "f6ij0tibhycc",
        "colab_type": "code",
        "colab": {}
      },
      "source": [
        "y_right =  base[image_name][2][1]"
      ],
      "execution_count": 0,
      "outputs": []
    },
    {
      "cell_type": "code",
      "metadata": {
        "id": "wERfsYEnhyce",
        "colab_type": "code",
        "colab": {}
      },
      "source": [
        "y = base[image_name][0][1]"
      ],
      "execution_count": 0,
      "outputs": []
    },
    {
      "cell_type": "code",
      "metadata": {
        "id": "Dck35XA3hycg",
        "colab_type": "code",
        "colab": {}
      },
      "source": [
        "x = base[image_name][0][0]"
      ],
      "execution_count": 0,
      "outputs": []
    },
    {
      "cell_type": "code",
      "metadata": {
        "id": "SRlurMfdhycj",
        "colab_type": "code",
        "colab": {}
      },
      "source": [
        "w = base[image_name][1][0]-base[image_name][0][0]"
      ],
      "execution_count": 0,
      "outputs": []
    },
    {
      "cell_type": "code",
      "metadata": {
        "id": "qwM2Awc3hycl",
        "colab_type": "code",
        "colab": {}
      },
      "source": [
        "img = Image.open(\"./to_label/153.jpg\")"
      ],
      "execution_count": 0,
      "outputs": []
    },
    {
      "cell_type": "code",
      "metadata": {
        "id": "zDRgwzDNhycn",
        "colab_type": "code",
        "colab": {},
        "outputId": "96c189e9-5e72-474c-f6af-afd9bfdf4fee"
      },
      "source": [
        "img.size"
      ],
      "execution_count": 0,
      "outputs": [
        {
          "output_type": "execute_result",
          "data": {
            "text/plain": [
              "(1000, 669)"
            ]
          },
          "metadata": {
            "tags": []
          },
          "execution_count": 21
        }
      ]
    },
    {
      "cell_type": "code",
      "metadata": {
        "id": "Y_t49nqAhycp",
        "colab_type": "code",
        "colab": {}
      },
      "source": [
        "crope = img.crop((x*img.size[0],y*img.size[1],x_right*img.size[0], y_right*img.size[1]))"
      ],
      "execution_count": 0,
      "outputs": []
    },
    {
      "cell_type": "code",
      "metadata": {
        "id": "caeyIKgmhycq",
        "colab_type": "code",
        "colab": {},
        "outputId": "182bb105-2263-4a03-dd64-b294b1644d20"
      },
      "source": [
        "crope"
      ],
      "execution_count": 0,
      "outputs": [
        {
          "output_type": "execute_result",
          "data": {
            "image/png": "[encoded data removed]",
            "text/plain": [
              "<PIL.Image.Image image mode=RGB size=160x48 at 0x87D3668>"
            ]
          },
          "metadata": {
            "tags": []
          },
          "execution_count": 23
        }
      ]
    },
    {
      "cell_type": "code",
      "metadata": {
        "id": "yuGM5yK0hycs",
        "colab_type": "code",
        "colab": {},
        "outputId": "ebc143fd-99c7-4c13-b86c-8c806b0b68f9"
      },
      "source": [
        "#def crope_img(image_name, base):\n",
        "    img = Image.open(\"./to_label/\"+image_name)\n",
        "    x = base[image_name][0][0]\n",
        "    y = base[image_name][0][1]\n",
        "    x_right = base[image_name][2][0]\n",
        "    y_right =  base[image_name][2][1]\n",
        "    crope = img.crop((x*img.size[0],y*img.size[1],x_right*img.size[0], y_right*img.size[1]))\n",
        "    crope.save('./Photo_of_numbers/'+image_name)"
      ],
      "execution_count": 0,
      "outputs": [
        {
          "output_type": "error",
          "ename": "IndentationError",
          "evalue": "unexpected indent (<ipython-input-24-617242a606fb>, line 2)",
          "traceback": [
            "\u001b[1;36m  File \u001b[1;32m\"<ipython-input-24-617242a606fb>\"\u001b[1;36m, line \u001b[1;32m2\u001b[0m\n\u001b[1;33m    img = Image.open(\"./to_label/\"+image_name)\u001b[0m\n\u001b[1;37m    ^\u001b[0m\n\u001b[1;31mIndentationError\u001b[0m\u001b[1;31m:\u001b[0m unexpected indent\n"
          ]
        }
      ]
    },
    {
      "cell_type": "code",
      "metadata": {
        "id": "ioE2tZwrhycu",
        "colab_type": "code",
        "colab": {}
      },
      "source": [
        "#for i in base.columns:\n",
        "    try: \n",
        "        crope_img(i,base)\n",
        "    except Exception as e:\n",
        "        print(e)"
      ],
      "execution_count": 0,
      "outputs": []
    },
    {
      "cell_type": "code",
      "metadata": {
        "id": "Pq6xIuw0hycv",
        "colab_type": "code",
        "colab": {}
      },
      "source": [
        "#img = Image.open(\"./to_label/114.jpg"
      ],
      "execution_count": 0,
      "outputs": []
    },
    {
      "cell_type": "code",
      "metadata": {
        "id": "Bl9F5y2Whycx",
        "colab_type": "code",
        "colab": {}
      },
      "source": [
        ""
      ],
      "execution_count": 0,
      "outputs": []
    }
  ]
}