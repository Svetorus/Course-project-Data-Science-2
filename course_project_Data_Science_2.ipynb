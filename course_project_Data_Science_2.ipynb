{
  "nbformat": 4,
  "nbformat_minor": 0,
  "metadata": {
    "kernelspec": {
      "display_name": "Python 3",
      "language": "python",
      "name": "python3"
    },
    "language_info": {
      "codemirror_mode": {
        "name": "ipython",
        "version": 3
      },
      "file_extension": ".py",
      "mimetype": "text/x-python",
      "name": "python",
      "nbconvert_exporter": "python",
      "pygments_lexer": "ipython3",
      "version": "3.7.3"
    },
    "colab": {
      "name": "course project Data Science 2.ipynb",
      "provenance": [],
      "include_colab_link": true
    }
  },
  "cells": [
    {
      "cell_type": "markdown",
      "metadata": {
        "id": "view-in-github",
        "colab_type": "text"
      },
      "source": [
        "<a href=\"https://colab.research.google.com/github/Svetorus/Course-project-Data-Science-2/blob/master/course_project_Data_Science_2.ipynb\" target=\"_parent\"><img src=\"https://colab.research.google.com/assets/colab-badge.svg\" alt=\"Open In Colab\"/></a>"
      ]
    },
    {
      "cell_type": "code",
      "metadata": {
        "id": "5qJotmNPp0KN",
        "colab_type": "code",
        "colab": {}
      },
      "source": [
        "import numpy as np\n",
        "import pandas as pd\n",
        "\n",
        "from sklearn.preprocessing import StandardScaler, MinMaxScaler\n",
        "from sklearn.model_selection import train_test_split, ShuffleSplit, cross_val_score, learning_curve\n",
        "from sklearn.model_selection import KFold, GridSearchCV, RandomizedSearchCV\n",
        "from sklearn.metrics import classification_report, f1_score, precision_score, recall_score\n",
        "\n",
        "import xgboost as xgb, lightgbm as lgbm, catboost as catb\n",
        "\n",
        "import matplotlib.pyplot as plt\n",
        "import seaborn as sns\n",
        "from pylab import rcParams\n",
        "%matplotlib inline\n",
        "\n",
        "import warnings\n",
        "warnings.simplefilter('ignore')\n",
        "\n",
        "pd.options.display.max_columns = 100"
      ],
      "execution_count": 0,
      "outputs": []
    },
    {
      "cell_type": "code",
      "metadata": {
        "id": "OzLd35RLp0KS",
        "colab_type": "code",
        "colab": {}
      },
      "source": [
        "df = pd.read_csv(\"./course_project_train.csv\")"
      ],
      "execution_count": 0,
      "outputs": []
    },
    {
      "cell_type": "code",
      "metadata": {
        "id": "vGya3i5op0KU",
        "colab_type": "code",
        "colab": {}
      },
      "source": [
        "test = pd.read_csv(\"./course_project_test.csv\")"
      ],
      "execution_count": 0,
      "outputs": []
    },
    {
      "cell_type": "markdown",
      "metadata": {
        "id": "oeYoB3kFp0KW",
        "colab_type": "text"
      },
      "source": [
        "**Переименовал колонки в удобный вариант**"
      ]
    },
    {
      "cell_type": "code",
      "metadata": {
        "id": "D8nneOqDp0KX",
        "colab_type": "code",
        "colab": {},
        "outputId": "73060642-e4f8-4743-b329-a8ec60d54f28"
      },
      "source": [
        "df.head(1)"
      ],
      "execution_count": 0,
      "outputs": [
        {
          "output_type": "execute_result",
          "data": {
            "text/html": [
              "<div>\n",
              "<style scoped>\n",
              "    .dataframe tbody tr th:only-of-type {\n",
              "        vertical-align: middle;\n",
              "    }\n",
              "\n",
              "    .dataframe tbody tr th {\n",
              "        vertical-align: top;\n",
              "    }\n",
              "\n",
              "    .dataframe thead th {\n",
              "        text-align: right;\n",
              "    }\n",
              "</style>\n",
              "<table border=\"1\" class=\"dataframe\">\n",
              "  <thead>\n",
              "    <tr style=\"text-align: right;\">\n",
              "      <th></th>\n",
              "      <th>Home Ownership</th>\n",
              "      <th>Annual Income</th>\n",
              "      <th>Years in current job</th>\n",
              "      <th>Tax Liens</th>\n",
              "      <th>Number of Open Accounts</th>\n",
              "      <th>Years of Credit History</th>\n",
              "      <th>Maximum Open Credit</th>\n",
              "      <th>Number of Credit Problems</th>\n",
              "      <th>Months since last delinquent</th>\n",
              "      <th>Bankruptcies</th>\n",
              "      <th>Purpose</th>\n",
              "      <th>Term</th>\n",
              "      <th>Current Loan Amount</th>\n",
              "      <th>Current Credit Balance</th>\n",
              "      <th>Monthly Debt</th>\n",
              "      <th>Credit Score</th>\n",
              "      <th>Credit Default</th>\n",
              "    </tr>\n",
              "  </thead>\n",
              "  <tbody>\n",
              "    <tr>\n",
              "      <th>0</th>\n",
              "      <td>Own Home</td>\n",
              "      <td>482087.0</td>\n",
              "      <td>NaN</td>\n",
              "      <td>0.0</td>\n",
              "      <td>11.0</td>\n",
              "      <td>26.3</td>\n",
              "      <td>685960.0</td>\n",
              "      <td>1.0</td>\n",
              "      <td>NaN</td>\n",
              "      <td>1.0</td>\n",
              "      <td>debt consolidation</td>\n",
              "      <td>Short Term</td>\n",
              "      <td>99999999.0</td>\n",
              "      <td>47386.0</td>\n",
              "      <td>7914.0</td>\n",
              "      <td>749.0</td>\n",
              "      <td>0</td>\n",
              "    </tr>\n",
              "  </tbody>\n",
              "</table>\n",
              "</div>"
            ],
            "text/plain": [
              "  Home Ownership  Annual Income Years in current job  Tax Liens  \\\n",
              "0       Own Home       482087.0                  NaN        0.0   \n",
              "\n",
              "   Number of Open Accounts  Years of Credit History  Maximum Open Credit  \\\n",
              "0                     11.0                     26.3             685960.0   \n",
              "\n",
              "   Number of Credit Problems  Months since last delinquent  Bankruptcies  \\\n",
              "0                        1.0                           NaN           1.0   \n",
              "\n",
              "              Purpose        Term  Current Loan Amount  \\\n",
              "0  debt consolidation  Short Term           99999999.0   \n",
              "\n",
              "   Current Credit Balance  Monthly Debt  Credit Score  Credit Default  \n",
              "0                 47386.0        7914.0         749.0               0  "
            ]
          },
          "metadata": {
            "tags": []
          },
          "execution_count": 4
        }
      ]
    },
    {
      "cell_type": "code",
      "metadata": {
        "id": "_G5PUhtFp0KZ",
        "colab_type": "code",
        "colab": {},
        "outputId": "d43f6052-7711-476c-e86d-b7d4f06dac23"
      },
      "source": [
        "df.columns = ['Home_Ownership','Annual_Income','Years_in_current_job','Tax_Liens','Number_of_Open_Accounts','Years_of_Credit_History','Maximum_Open_Credit','Number_of_Credit_Problems','Months_since_last_delinquent','Bankruptcies','Purpose','Term','Current_Loan_Amount','Current_Credit_Balance','Monthly_Debt','Credit_Score','Credit_Default']\n",
        "df.shape"
      ],
      "execution_count": 0,
      "outputs": [
        {
          "output_type": "execute_result",
          "data": {
            "text/plain": [
              "(7500, 17)"
            ]
          },
          "metadata": {
            "tags": []
          },
          "execution_count": 5
        }
      ]
    },
    {
      "cell_type": "code",
      "metadata": {
        "id": "WWELfVwXp0Kb",
        "colab_type": "code",
        "colab": {},
        "outputId": "0ec178ba-07be-469c-a6a2-9de475272f4c"
      },
      "source": [
        "test.columns = ['Home_Ownership','Annual_Income','Years_in_current_job','Tax_Liens','Number_of_Open_Accounts','Years_of_Credit_History','Maximum_Open_Credit','Number_of_Credit_Problems','Months_since_last_delinquent','Bankruptcies','Purpose','Term','Current_Loan_Amount','Current_Credit_Balance','Monthly_Debt','Credit_Score']\n",
        "test.shape"
      ],
      "execution_count": 0,
      "outputs": [
        {
          "output_type": "execute_result",
          "data": {
            "text/plain": [
              "(2500, 16)"
            ]
          },
          "metadata": {
            "tags": []
          },
          "execution_count": 6
        }
      ]
    },
    {
      "cell_type": "markdown",
      "metadata": {
        "id": "x__e-DqAp0Kd",
        "colab_type": "text"
      },
      "source": [
        "### Ищем выбросы\n",
        "#### Annual_Income"
      ]
    },
    {
      "cell_type": "code",
      "metadata": {
        "id": "hgwvrWSep0Kd",
        "colab_type": "code",
        "colab": {},
        "outputId": "bfa9de9b-32e3-4d7f-a4b3-74db1db94938"
      },
      "source": [
        "plt.scatter(df['Annual_Income'],df['Credit_Default'])\n",
        "plt.xlabel('годовой доход', color='b')\n",
        "plt.ylabel('факт кредитных обязательств',color='g');"
      ],
      "execution_count": 0,
      "outputs": [
        {
          "output_type": "display_data",
          "data": {
            "image/png": "[encoded data removed]",
            "text/plain": [
              "<Figure size 432x288 with 1 Axes>"
            ]
          },
          "metadata": {
            "tags": [],
            "needs_background": "light"
          }
        }
      ]
    },
    {
      "cell_type": "code",
      "metadata": {
        "id": "4Tfv8sG2p0Kf",
        "colab_type": "code",
        "colab": {},
        "outputId": "ac5856fd-9a8a-4295-86f9-953c2e8b902d"
      },
      "source": [
        "df['Annual_Income'].nlargest(4)"
      ],
      "execution_count": 0,
      "outputs": [
        {
          "output_type": "execute_result",
          "data": {
            "text/plain": [
              "6472    10149344.0\n",
              "2200     9338880.0\n",
              "1025     8923844.0\n",
              "1984     8758449.0\n",
              "Name: Annual_Income, dtype: float64"
            ]
          },
          "metadata": {
            "tags": []
          },
          "execution_count": 8
        }
      ]
    },
    {
      "cell_type": "code",
      "metadata": {
        "id": "Nejbium5p0Kh",
        "colab_type": "code",
        "colab": {}
      },
      "source": [
        "annual_income_max = df.loc[df['Annual_Income']<9500000,'Annual_Income'].max()\n",
        "df.loc[df['Annual_Income']>9500000,'Annual_Income']=annual_income_max"
      ],
      "execution_count": 0,
      "outputs": []
    },
    {
      "cell_type": "code",
      "metadata": {
        "id": "7WrRpv4up0Ki",
        "colab_type": "code",
        "colab": {}
      },
      "source": [
        "test.loc[test['Annual_Income']>9500000,'Annual_Income']=annual_income_max"
      ],
      "execution_count": 0,
      "outputs": []
    },
    {
      "cell_type": "markdown",
      "metadata": {
        "id": "92pKfWWsp0Kk",
        "colab_type": "text"
      },
      "source": [
        "**Maximum_Open_Credit**"
      ]
    },
    {
      "cell_type": "code",
      "metadata": {
        "id": "iLd2gGJYp0Kk",
        "colab_type": "code",
        "colab": {},
        "outputId": "0c93e7a9-07b7-468e-a85c-9d37417275a7"
      },
      "source": [
        "plt.scatter(df['Maximum_Open_Credit'],df['Credit_Default'])\n",
        "plt.xlabel('максимальный открытый кредит', color='b')\n",
        "plt.ylabel('факт кредитных обязательств',color='g');"
      ],
      "execution_count": 0,
      "outputs": [
        {
          "output_type": "display_data",
          "data": {
            "image/png": "[encoded data removed]",
            "text/plain": [
              "<Figure size 432x288 with 1 Axes>"
            ]
          },
          "metadata": {
            "tags": [],
            "needs_background": "light"
          }
        }
      ]
    },
    {
      "cell_type": "code",
      "metadata": {
        "id": "yXgbWPoLp0Km",
        "colab_type": "code",
        "colab": {},
        "outputId": "dc62fe72-34c8-4aac-98f1-9fae578ad2c5"
      },
      "source": [
        "df['Maximum_Open_Credit'].nlargest(5)"
      ],
      "execution_count": 0,
      "outputs": [
        {
          "output_type": "execute_result",
          "data": {
            "text/plain": [
              "617     1.304726e+09\n",
              "44      3.800523e+08\n",
              "2617    2.655129e+08\n",
              "2023    5.756256e+07\n",
              "2763    4.092389e+07\n",
              "Name: Maximum_Open_Credit, dtype: float64"
            ]
          },
          "metadata": {
            "tags": []
          },
          "execution_count": 12
        }
      ]
    },
    {
      "cell_type": "markdown",
      "metadata": {
        "id": "9C7RA-Amp0Ko",
        "colab_type": "text"
      },
      "source": [
        "Меняем опечатки, удаляем последние цифры"
      ]
    },
    {
      "cell_type": "code",
      "metadata": {
        "id": "RnKX_vbEp0Ko",
        "colab_type": "code",
        "colab": {}
      },
      "source": [
        "df.at[617, 'Maximum_Open_Credit'] = 30472600\n",
        "df.at[44, 'Maximum_Open_Credit'] = 38005228\n",
        "df.at[2617, 'Maximum_Open_Credit'] = 26551287\n",
        "df.at[2023, 'Maximum_Open_Credit'] = 37562560"
      ],
      "execution_count": 0,
      "outputs": []
    },
    {
      "cell_type": "markdown",
      "metadata": {
        "id": "hlY1bNLup0Kq",
        "colab_type": "text"
      },
      "source": [
        "**Current_Loan_Amount**"
      ]
    },
    {
      "cell_type": "code",
      "metadata": {
        "id": "OFDd_p8pp0Kq",
        "colab_type": "code",
        "colab": {},
        "outputId": "0a449885-09b9-4da0-9bb1-1f92902378a9"
      },
      "source": [
        "plt.scatter(df['Current_Loan_Amount'],df['Credit_Default'])\n",
        "plt.xlabel('максимальный открытый кредит', color='b')\n",
        "plt.ylabel('факт кредитных обязательств',color='g');"
      ],
      "execution_count": 0,
      "outputs": [
        {
          "output_type": "display_data",
          "data": {
            "image/png": "[encoded data removed]",
            "text/plain": [
              "<Figure size 432x288 with 1 Axes>"
            ]
          },
          "metadata": {
            "tags": [],
            "needs_background": "light"
          }
        }
      ]
    },
    {
      "cell_type": "code",
      "metadata": {
        "id": "mJiN96AHp0Ks",
        "colab_type": "code",
        "colab": {}
      },
      "source": [
        "df_Current_mean = round(df.loc[df.Current_Loan_Amount<1000000,'Current_Loan_Amount'].mean())\n",
        "df.loc[df['Current_Loan_Amount']>1000000,'Current_Loan_Amount']=df_Current_mean"
      ],
      "execution_count": 0,
      "outputs": []
    },
    {
      "cell_type": "code",
      "metadata": {
        "id": "YumIg3CVp0Kt",
        "colab_type": "code",
        "colab": {}
      },
      "source": [
        "test.loc[test['Current_Loan_Amount']>1000000,'Current_Loan_Amount']=df_Current_mean"
      ],
      "execution_count": 0,
      "outputs": []
    },
    {
      "cell_type": "markdown",
      "metadata": {
        "id": "9g2KGGVIp0Kw",
        "colab_type": "text"
      },
      "source": [
        "**Current_Credit_Balance**"
      ]
    },
    {
      "cell_type": "code",
      "metadata": {
        "id": "wzg6xRJxp0Kx",
        "colab_type": "code",
        "colab": {},
        "outputId": "c981b685-8f21-42ba-afad-9638563e9692"
      },
      "source": [
        "plt.scatter(df['Current_Credit_Balance'],df['Credit_Default'])\n",
        "plt.xlabel('ежемесячный долг', color='b')\n",
        "plt.ylabel('факт кредитных обязательств',color='g');"
      ],
      "execution_count": 0,
      "outputs": [
        {
          "output_type": "display_data",
          "data": {
            "image/png": "[encoded data removed]",
            "text/plain": [
              "<Figure size 432x288 with 1 Axes>"
            ]
          },
          "metadata": {
            "tags": [],
            "needs_background": "light"
          }
        }
      ]
    },
    {
      "cell_type": "code",
      "metadata": {
        "id": "WK9QlSkVp0Ky",
        "colab_type": "code",
        "colab": {}
      },
      "source": [
        "Credit_Balance_max=df.loc[df['Current_Credit_Balance']<4500000,'Current_Credit_Balance'].max()\n",
        "df.loc[df['Current_Credit_Balance']>4500000,'Current_Credit_Balance']=Credit_Balance_max"
      ],
      "execution_count": 0,
      "outputs": []
    },
    {
      "cell_type": "code",
      "metadata": {
        "id": "LOUDs-H-p0K0",
        "colab_type": "code",
        "colab": {}
      },
      "source": [
        "test.loc[test['Current_Credit_Balance']>4500000,'Current_Credit_Balance']=Credit_Balance_max"
      ],
      "execution_count": 0,
      "outputs": []
    },
    {
      "cell_type": "markdown",
      "metadata": {
        "id": "eXrZbDhYp0K3",
        "colab_type": "text"
      },
      "source": [
        "**Monthly_Debt**"
      ]
    },
    {
      "cell_type": "code",
      "metadata": {
        "id": "qktGRNn9p0K4",
        "colab_type": "code",
        "colab": {},
        "outputId": "5a169c82-85df-44fb-acdf-474e8910c2bc"
      },
      "source": [
        "plt.scatter(df['Monthly_Debt'],df['Credit_Default'])\n",
        "plt.xlabel('ежемесячный долг', color='b')\n",
        "plt.ylabel('факт кредитных обязательств',color='g');"
      ],
      "execution_count": 0,
      "outputs": [
        {
          "output_type": "display_data",
          "data": {
            "image/png": "[encoded data removed]",
            "text/plain": [
              "<Figure size 432x288 with 1 Axes>"
            ]
          },
          "metadata": {
            "tags": [],
            "needs_background": "light"
          }
        }
      ]
    },
    {
      "cell_type": "code",
      "metadata": {
        "id": "ZewJugtCp0K5",
        "colab_type": "code",
        "colab": {}
      },
      "source": [
        "monthly_debt_max=df.loc[df['Monthly_Debt']<100000,'Monthly_Debt'].max()\n",
        "df.loc[df['Monthly_Debt']>100000,'Monthly_Debt']=monthly_debt_max"
      ],
      "execution_count": 0,
      "outputs": []
    },
    {
      "cell_type": "markdown",
      "metadata": {
        "id": "bBwZPzTnp0K7",
        "colab_type": "text"
      },
      "source": [
        "**Меняем значения в Term**"
      ]
    },
    {
      "cell_type": "code",
      "metadata": {
        "id": "nV03GyZQp0K7",
        "colab_type": "code",
        "colab": {}
      },
      "source": [
        "df.loc[df['Term'] == 'Short Term','Term']=0\n",
        "df.loc[df['Term'] == 'Long Term','Term']=1"
      ],
      "execution_count": 0,
      "outputs": []
    },
    {
      "cell_type": "code",
      "metadata": {
        "id": "31GGtnUtp0K8",
        "colab_type": "code",
        "colab": {}
      },
      "source": [
        "test.loc[test['Term'] == 'Short Term','Term']=0\n",
        "test.loc[test['Term'] == 'Long Term','Term']=1"
      ],
      "execution_count": 0,
      "outputs": []
    },
    {
      "cell_type": "markdown",
      "metadata": {
        "id": "YuOY8-iMp0K-",
        "colab_type": "text"
      },
      "source": [
        "**Credit_Score**"
      ]
    },
    {
      "cell_type": "code",
      "metadata": {
        "id": "Rprcr0c5p0K-",
        "colab_type": "code",
        "colab": {},
        "outputId": "598c1e9e-0b38-487f-9143-670458f12ec7"
      },
      "source": [
        "plt.scatter(df['Credit_Score'],df['Credit_Default'])\n",
        "plt.xlabel('ежемесячный долг', color='b')\n",
        "plt.ylabel('факт кредитных обязательств',color='g');"
      ],
      "execution_count": 0,
      "outputs": [
        {
          "output_type": "display_data",
          "data": {
            "image/png": "[encoded data removed]",
            "text/plain": [
              "<Figure size 432x288 with 1 Axes>"
            ]
          },
          "metadata": {
            "tags": [],
            "needs_background": "light"
          }
        }
      ]
    },
    {
      "cell_type": "code",
      "metadata": {
        "id": "r1vLvHZPp0LA",
        "colab_type": "code",
        "colab": {}
      },
      "source": [
        "Credit_Score_1000 =df.loc[df['Credit_Score']<1000,:]\n",
        "Credit_Score_1000_mode=round(Credit_Score_1000.loc[Credit_Score_1000['Credit_Default']==1,'Credit_Score'].mode()[0])\n",
        "df.loc[df['Credit_Score']>1000,'Credit_Score'] = Credit_Score_1000_mode"
      ],
      "execution_count": 0,
      "outputs": []
    },
    {
      "cell_type": "code",
      "metadata": {
        "id": "JQBUQZ10p0LB",
        "colab_type": "code",
        "colab": {}
      },
      "source": [
        "test.loc[test['Credit_Score']>1000,'Credit_Score'] = Credit_Score_1000_mode"
      ],
      "execution_count": 0,
      "outputs": []
    },
    {
      "cell_type": "markdown",
      "metadata": {
        "id": "sXe1G9wWp0LD",
        "colab_type": "text"
      },
      "source": [
        "### Проверяем на пропущенные значения"
      ]
    },
    {
      "cell_type": "code",
      "metadata": {
        "id": "4vdbMSC8p0LD",
        "colab_type": "code",
        "colab": {},
        "outputId": "72e28255-5b77-4f5e-a844-fc01bcd4b1d6"
      },
      "source": [
        "len(df)-df.count()"
      ],
      "execution_count": 0,
      "outputs": [
        {
          "output_type": "execute_result",
          "data": {
            "text/plain": [
              "Home_Ownership                     0\n",
              "Annual_Income                   1557\n",
              "Years_in_current_job             371\n",
              "Tax_Liens                          0\n",
              "Number_of_Open_Accounts            0\n",
              "Years_of_Credit_History            0\n",
              "Maximum_Open_Credit                0\n",
              "Number_of_Credit_Problems          0\n",
              "Months_since_last_delinquent    4081\n",
              "Bankruptcies                      14\n",
              "Purpose                            0\n",
              "Term                               0\n",
              "Current_Loan_Amount                0\n",
              "Current_Credit_Balance             0\n",
              "Monthly_Debt                       0\n",
              "Credit_Score                    1557\n",
              "Credit_Default                     0\n",
              "dtype: int64"
            ]
          },
          "metadata": {
            "tags": []
          },
          "execution_count": 27
        }
      ]
    },
    {
      "cell_type": "markdown",
      "metadata": {
        "id": "BoJpHtZEp0LE",
        "colab_type": "text"
      },
      "source": [
        "### Заполняем пропущенные значения средними"
      ]
    },
    {
      "cell_type": "markdown",
      "metadata": {
        "id": "SU3GYh60p0LF",
        "colab_type": "text"
      },
      "source": [
        "**Annual Income**"
      ]
    },
    {
      "cell_type": "code",
      "metadata": {
        "id": "21VZshhHp0LF",
        "colab_type": "code",
        "colab": {},
        "outputId": "5718ce53-4042-4d8c-bac1-b09da41b8e4f"
      },
      "source": [
        "np.unique(df['Annual_Income'], return_counts=True)"
      ],
      "execution_count": 0,
      "outputs": [
        {
          "output_type": "execute_result",
          "data": {
            "text/plain": [
              "(array([164597., 175845., 177251., ...,     nan,     nan,     nan]),\n",
              " array([1, 1, 1, ..., 1, 1, 1]))"
            ]
          },
          "metadata": {
            "tags": []
          },
          "execution_count": 28
        }
      ]
    },
    {
      "cell_type": "code",
      "metadata": {
        "id": "0K7rQ5kOp0LI",
        "colab_type": "code",
        "colab": {}
      },
      "source": [
        "Annual_Income_mean = round(df['Annual_Income'].mean())\n",
        "df['Annual_Income'] = df['Annual_Income'].fillna(Annual_Income_mean)"
      ],
      "execution_count": 0,
      "outputs": []
    },
    {
      "cell_type": "code",
      "metadata": {
        "id": "A6SlX_yhp0LJ",
        "colab_type": "code",
        "colab": {}
      },
      "source": [
        "test['Annual_Income'] = test['Annual_Income'].fillna(Annual_Income_mean)"
      ],
      "execution_count": 0,
      "outputs": []
    },
    {
      "cell_type": "markdown",
      "metadata": {
        "id": "Dymfm0otp0LL",
        "colab_type": "text"
      },
      "source": [
        "**Years_in_current_job**"
      ]
    },
    {
      "cell_type": "code",
      "metadata": {
        "id": "nO2bx_9ap0LL",
        "colab_type": "code",
        "colab": {}
      },
      "source": [
        "Years_in_current_job_mode = df['Years_in_current_job'].mode()[0]\n",
        "df['Years_in_current_job'] = df['Years_in_current_job'].fillna(Years_in_current_job_mode)"
      ],
      "execution_count": 0,
      "outputs": []
    },
    {
      "cell_type": "code",
      "metadata": {
        "id": "Y3GH6-yBp0LN",
        "colab_type": "code",
        "colab": {}
      },
      "source": [
        "test['Years_in_current_job'] = test['Years_in_current_job'].fillna(Years_in_current_job_mode)"
      ],
      "execution_count": 0,
      "outputs": []
    },
    {
      "cell_type": "markdown",
      "metadata": {
        "id": "1I-FM5gcp0LO",
        "colab_type": "text"
      },
      "source": [
        "**Bankruptcies**"
      ]
    },
    {
      "cell_type": "code",
      "metadata": {
        "id": "GlpautU6p0LO",
        "colab_type": "code",
        "colab": {},
        "outputId": "5911bad7-4abd-424f-d75d-27f5319b030a"
      },
      "source": [
        "np.unique(df['Bankruptcies'], return_counts=True)"
      ],
      "execution_count": 0,
      "outputs": [
        {
          "output_type": "execute_result",
          "data": {
            "text/plain": [
              "(array([ 0.,  1.,  2.,  3.,  4., nan, nan, nan, nan, nan, nan, nan, nan,\n",
              "        nan, nan, nan, nan, nan, nan]),\n",
              " array([6660,  786,   31,    7,    2,    1,    1,    1,    1,    1,    1,\n",
              "           1,    1,    1,    1,    1,    1,    1,    1]))"
            ]
          },
          "metadata": {
            "tags": []
          },
          "execution_count": 33
        }
      ]
    },
    {
      "cell_type": "code",
      "metadata": {
        "id": "Sw5VGurip0LQ",
        "colab_type": "code",
        "colab": {}
      },
      "source": [
        "Bankruptcies_mode = df['Bankruptcies'].mode()[0]\n",
        "df['Bankruptcies'] = df['Bankruptcies'].fillna(Bankruptcies_mode)"
      ],
      "execution_count": 0,
      "outputs": []
    },
    {
      "cell_type": "code",
      "metadata": {
        "id": "W-P8zgzSp0LR",
        "colab_type": "code",
        "colab": {}
      },
      "source": [
        "test['Bankruptcies'] = test['Bankruptcies'].fillna(Bankruptcies_mode)"
      ],
      "execution_count": 0,
      "outputs": []
    },
    {
      "cell_type": "markdown",
      "metadata": {
        "id": "p2cFIIJmp0LS",
        "colab_type": "text"
      },
      "source": [
        "**Credit_Score**"
      ]
    },
    {
      "cell_type": "code",
      "metadata": {
        "id": "fXGqtQKwp0LT",
        "colab_type": "code",
        "colab": {}
      },
      "source": [
        "Credit_Score_mode = df['Credit_Score'].mode()[0]\n",
        "df['Credit_Score'] = df['Credit_Score'].fillna(Credit_Score_mode)"
      ],
      "execution_count": 0,
      "outputs": []
    },
    {
      "cell_type": "code",
      "metadata": {
        "id": "EYKyghdOp0LU",
        "colab_type": "code",
        "colab": {}
      },
      "source": [
        "test['Credit_Score'] = test['Credit_Score'].fillna(Credit_Score_mode)"
      ],
      "execution_count": 0,
      "outputs": []
    },
    {
      "cell_type": "markdown",
      "metadata": {
        "id": "b9J5QLDwp0LV",
        "colab_type": "text"
      },
      "source": [
        "**Months since last delinquent**"
      ]
    },
    {
      "cell_type": "code",
      "metadata": {
        "id": "VZ6_Z5T8p0LV",
        "colab_type": "code",
        "colab": {}
      },
      "source": [
        "df['Months_since_last_delinquent'] = df['Months_since_last_delinquent'].replace(np.nan, 0)\n",
        "df.loc[df['Months_since_last_delinquent'] > 0,'Months_since_last_delinquent'] = 1"
      ],
      "execution_count": 0,
      "outputs": []
    },
    {
      "cell_type": "code",
      "metadata": {
        "id": "iHvGSdPsp0LW",
        "colab_type": "code",
        "colab": {}
      },
      "source": [
        "test['Months_since_last_delinquent'] = test['Months_since_last_delinquent'].replace(np.nan, 0)\n",
        "test.loc[test['Months_since_last_delinquent'] > 0,'Months_since_last_delinquent'] = 1"
      ],
      "execution_count": 0,
      "outputs": []
    },
    {
      "cell_type": "markdown",
      "metadata": {
        "id": "4Zq1ZnNVp0LY",
        "colab_type": "text"
      },
      "source": [
        "**Добавил новую фичу: разделил текущий открытый кредит  на max кредит**"
      ]
    },
    {
      "cell_type": "code",
      "metadata": {
        "id": "YGJoD8H0p0LY",
        "colab_type": "code",
        "colab": {}
      },
      "source": [
        "df['range_credit'] = df['Current_Credit_Balance']/df['Maximum_Open_Credit']\n",
        "range_credit_max = df.loc[df['range_credit']<1,'range_credit'].max()\n",
        "df.loc[df['range_credit']==np.inf,'range_credit']=range_credit_max\n",
        "range_credit_mode = df['range_credit'].mode()[0]\n",
        "df['range_credit'] = df['range_credit'].fillna(range_credit_mode)"
      ],
      "execution_count": 0,
      "outputs": []
    },
    {
      "cell_type": "code",
      "metadata": {
        "id": "m1-RkWUup0La",
        "colab_type": "code",
        "colab": {}
      },
      "source": [
        "test['range_credit'] = test['Current_Credit_Balance']/test['Maximum_Open_Credit']\n",
        "test.loc[test['range_credit']==np.inf,'range_credit']=range_credit_max\n",
        "test['range_credit'] = test['range_credit'].fillna(range_credit_mode)"
      ],
      "execution_count": 0,
      "outputs": []
    },
    {
      "cell_type": "markdown",
      "metadata": {
        "id": "F5UvK54Vp0Lc",
        "colab_type": "text"
      },
      "source": [
        "**Добавил новую фичу: разделил сумму кредита  на годовой доход**"
      ]
    },
    {
      "cell_type": "code",
      "metadata": {
        "id": "L6h_DAJwp0Ld",
        "colab_type": "code",
        "colab": {}
      },
      "source": [
        "df['check']= df['Monthly_Debt']/df['Annual_Income']\n",
        "test['check']= test['Monthly_Debt']/test['Annual_Income']"
      ],
      "execution_count": 0,
      "outputs": []
    },
    {
      "cell_type": "markdown",
      "metadata": {
        "id": "XJDK6YS9p0Le",
        "colab_type": "text"
      },
      "source": [
        "### Разбиваем object колонки "
      ]
    },
    {
      "cell_type": "code",
      "metadata": {
        "id": "ccCSvbBAp0Le",
        "colab_type": "code",
        "colab": {}
      },
      "source": [
        "for cat_colname in df.select_dtypes(include='object'):\n",
        "    df = pd.concat([df, pd.get_dummies(df[cat_colname], prefix=cat_colname)], axis=1)"
      ],
      "execution_count": 0,
      "outputs": []
    },
    {
      "cell_type": "code",
      "metadata": {
        "id": "Acj8-KD0p0Lh",
        "colab_type": "code",
        "colab": {}
      },
      "source": [
        "for cat_colname in df.select_dtypes(include='object'):\n",
        "    df = df.drop(cat_colname,axis=1)"
      ],
      "execution_count": 0,
      "outputs": []
    },
    {
      "cell_type": "code",
      "metadata": {
        "id": "sHlBhdicp0Li",
        "colab_type": "code",
        "colab": {}
      },
      "source": [
        "for cat_colname in test.select_dtypes(include='object'):\n",
        "    test = pd.concat([test, pd.get_dummies(test[cat_colname], prefix=cat_colname)], axis=1)"
      ],
      "execution_count": 0,
      "outputs": []
    },
    {
      "cell_type": "code",
      "metadata": {
        "id": "3OScimFyp0Lj",
        "colab_type": "code",
        "colab": {}
      },
      "source": [
        "for cat_colname in test.select_dtypes(include='object'):\n",
        "    test = test.drop(cat_colname,axis=1)"
      ],
      "execution_count": 0,
      "outputs": []
    },
    {
      "cell_type": "markdown",
      "metadata": {
        "id": "JJUUvhJSp0Lk",
        "colab_type": "text"
      },
      "source": [
        "**Выделение целевой переменной**"
      ]
    },
    {
      "cell_type": "code",
      "metadata": {
        "id": "E49rLzULp0Lk",
        "colab_type": "code",
        "colab": {}
      },
      "source": [
        "target = df['Credit_Default']\n",
        "df = df.drop('Credit_Default',axis=1)\n",
        "TARGET_NAME = 'Credit_Default'"
      ],
      "execution_count": 0,
      "outputs": []
    },
    {
      "cell_type": "markdown",
      "metadata": {
        "id": "3M0uw82jp0Lm",
        "colab_type": "text"
      },
      "source": [
        "**Перименование столбцов в удобный вид**"
      ]
    },
    {
      "cell_type": "code",
      "metadata": {
        "id": "1eccPlYLp0Lm",
        "colab_type": "code",
        "colab": {}
      },
      "source": [
        "df.columns = ['Annual_Income','Tax_Liens','Number_of_Open_Accounts','Years_of_Credit_History','Maximum_Open_Credit','Number_of_Credit_Problems','Months_since_last_delinquent','Bankruptcies','Term','Current_Loan_Amount','Current_Credit_Balance','Monthly_Debt','Credit_Score','range_credit','check','Have_Mortgage','Home_Mortgage','Own_Home','Home_Rent','job_1_year','10_years','2_years','3_years','4_years','5_years','6_years','7_years','8_years','9_years','1_year','Pur_business','Pur_buy_a_car','Pur_buy_house','Pur_debt','Pur_educational','Pue_home','Pur_major','Pur_medical','Pur_moving','Pur_other','Pur_energy','Pur_small_business','Pur_a_trip','Pur_vacation','Pur_wedding']"
      ],
      "execution_count": 0,
      "outputs": []
    },
    {
      "cell_type": "markdown",
      "metadata": {
        "id": "QZzP5FcEp0Ln",
        "colab_type": "text"
      },
      "source": [
        "В test отсутствует колонка Pur_energy(почти все строчки = 0,только две строчки = 1 из всего датасета, мы ее удаляем)"
      ]
    },
    {
      "cell_type": "code",
      "metadata": {
        "id": "UPImbktgp0Lo",
        "colab_type": "code",
        "colab": {}
      },
      "source": [
        "df=df.drop('Pur_energy',axis=1)"
      ],
      "execution_count": 0,
      "outputs": []
    },
    {
      "cell_type": "code",
      "metadata": {
        "id": "vGMdMMb8p0Lp",
        "colab_type": "code",
        "colab": {}
      },
      "source": [
        "test.columns = ['Annual_Income','Tax_Liens','Number_of_Open_Accounts','Years_of_Credit_History','Maximum_Open_Credit','Number_of_Credit_Problems','Months_since_last_delinquent','Bankruptcies','Term','Current_Loan_Amount','Current_Credit_Balance','Monthly_Debt','Credit_Score','range_credit','check','Have_Mortgage','Home_Mortgage','Own_Home','Home_Rent','job_1_year','10_years','2_years','3_years','4_years','5_years','6_years','7_years','8_years','9_years','1_year','Pur_business','Pur_buy_a_car','Pur_buy_house','Pur_debt','Pur_educational','Pue_home','Pur_major','Pur_medical','Pur_moving','Pur_other','Pur_small_business','Pur_a_trip','Pur_vacation','Pur_wedding']"
      ],
      "execution_count": 0,
      "outputs": []
    },
    {
      "cell_type": "markdown",
      "metadata": {
        "id": "gez4yF_rp0Lq",
        "colab_type": "text"
      },
      "source": [
        "### Нормализация данных"
      ]
    },
    {
      "cell_type": "code",
      "metadata": {
        "id": "WWNZ_v--p0Lq",
        "colab_type": "code",
        "colab": {}
      },
      "source": [
        "NUMERIC_FEATURE_NAMES = ['Annual_Income','Number_of_Open_Accounts','Years_of_Credit_History','Maximum_Open_Credit','Number_of_Credit_Problems','Bankruptcies','Current_Loan_Amount','Current_Credit_Balance','Monthly_Debt','Credit_Score','range_credit','check']"
      ],
      "execution_count": 0,
      "outputs": []
    },
    {
      "cell_type": "code",
      "metadata": {
        "id": "DR92DyWxp0Lr",
        "colab_type": "code",
        "colab": {}
      },
      "source": [
        "scaler = StandardScaler()\n",
        "\n",
        "df_norm = df.copy()\n",
        "df_norm[NUMERIC_FEATURE_NAMES] = scaler.fit_transform(df_norm[NUMERIC_FEATURE_NAMES])\n",
        "\n",
        "df = df_norm.copy()"
      ],
      "execution_count": 0,
      "outputs": []
    },
    {
      "cell_type": "code",
      "metadata": {
        "id": "oLPh4r3op0Ls",
        "colab_type": "code",
        "colab": {}
      },
      "source": [
        "scaler = StandardScaler()\n",
        "\n",
        "test_norm = test.copy()\n",
        "test_norm[NUMERIC_FEATURE_NAMES] = scaler.fit_transform(test_norm[NUMERIC_FEATURE_NAMES])\n",
        "\n",
        "test = test_norm.copy()"
      ],
      "execution_count": 0,
      "outputs": []
    },
    {
      "cell_type": "markdown",
      "metadata": {
        "id": "B6pt_t_mp0Lt",
        "colab_type": "text"
      },
      "source": [
        "### Разбиение на train и test"
      ]
    },
    {
      "cell_type": "code",
      "metadata": {
        "id": "oUagWAwRp0Lt",
        "colab_type": "code",
        "colab": {}
      },
      "source": [
        "X = df\n",
        "y = target\n",
        "\n",
        "X_train, X_test, y_train, y_test = train_test_split(X, y, shuffle=True, test_size=0.25, random_state=42)"
      ],
      "execution_count": 0,
      "outputs": []
    },
    {
      "cell_type": "code",
      "metadata": {
        "id": "Wp-8eUZXp0Lv",
        "colab_type": "code",
        "colab": {}
      },
      "source": [
        "def get_classification_report(y_train_true, y_train_pred, y_test_true, y_test_pred):\n",
        "    print('TRAIN\\n\\n' + classification_report(y_train_true, y_train_pred))\n",
        "    print('TEST\\n\\n' + classification_report(y_test_true, y_test_pred))\n",
        "    print('CONFUSION MATRIX\\n')\n",
        "    print(pd.crosstab(y_test_true, y_test_pred))"
      ],
      "execution_count": 0,
      "outputs": []
    },
    {
      "cell_type": "markdown",
      "metadata": {
        "id": "8fjbz9NOp0Lw",
        "colab_type": "text"
      },
      "source": [
        "# MODEL"
      ]
    },
    {
      "cell_type": "code",
      "metadata": {
        "id": "cZMd8i1lp0Lw",
        "colab_type": "code",
        "colab": {},
        "outputId": "e2a495db-31a7-4aa7-e18f-dc7fd889e341"
      },
      "source": [
        "%%time\n",
        "\n",
        "final_model = model_lgbm = catb.CatBoostClassifier(n_estimators= 500, max_depth= 3, learning_rate= 0.1,\n",
        "                                                   class_weights=[1,2],silent=True, random_state=40)\n",
        "final_model.fit(X_train, y_train)\n",
        "\n",
        "y_train_pred = final_model.predict(X_train)\n",
        "y_test_pred = final_model.predict(X_test)\n",
        "\n",
        "get_classification_report(y_train, y_train_pred, y_test, y_test_pred)"
      ],
      "execution_count": 0,
      "outputs": [
        {
          "output_type": "stream",
          "text": [
            "TRAIN\n",
            "\n",
            "              precision    recall  f1-score   support\n",
            "\n",
            "           0       0.86      0.83      0.84      4074\n",
            "           1       0.59      0.66      0.62      1551\n",
            "\n",
            "    accuracy                           0.78      5625\n",
            "   macro avg       0.73      0.74      0.73      5625\n",
            "weighted avg       0.79      0.78      0.78      5625\n",
            "\n",
            "TEST\n",
            "\n",
            "              precision    recall  f1-score   support\n",
            "\n",
            "           0       0.80      0.78      0.79      1313\n",
            "           1       0.52      0.54      0.53       562\n",
            "\n",
            "    accuracy                           0.71      1875\n",
            "   macro avg       0.66      0.66      0.66      1875\n",
            "weighted avg       0.71      0.71      0.71      1875\n",
            "\n",
            "CONFUSION MATRIX\n",
            "\n",
            "col_0            0.0  1.0\n",
            "Credit_Default           \n",
            "0               1028  285\n",
            "1                258  304\n",
            "CPU times: user 9.59 s, sys: 5.14 s, total: 14.7 s\n",
            "Wall time: 5.16 s\n"
          ],
          "name": "stdout"
        }
      ]
    },
    {
      "cell_type": "markdown",
      "metadata": {
        "id": "xQQ5XjXap0Lx",
        "colab_type": "text"
      },
      "source": [
        "**обучаю test**"
      ]
    },
    {
      "cell_type": "code",
      "metadata": {
        "id": "nIdt-u0kp0Lx",
        "colab_type": "code",
        "colab": {}
      },
      "source": [
        "test['Credit Default'] = final_model.predict(test)"
      ],
      "execution_count": 0,
      "outputs": []
    },
    {
      "cell_type": "code",
      "metadata": {
        "id": "ZqqtRIkfp0Ly",
        "colab_type": "code",
        "colab": {}
      },
      "source": [
        "test.loc[:, ['Credit Default']].to_csv('AKruzhalov_predictions.csv', index=False)"
      ],
      "execution_count": 0,
      "outputs": []
    }
  ]
}